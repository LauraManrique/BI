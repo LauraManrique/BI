{
  "cells": [
    {
      "cell_type": "markdown",
      "metadata": {
        "id": "MULbrtIe02NW"
      },
      "source": [
        "**1.\t[10%] Proponga las tareas de aprendizaje, técnicas y algoritmos de machine learning que va a utilizar para lograr los objetivos que persigue la organización. Recuerde explicarles a los directivos de la organización que lo contrata, la razón por la cual su propuesta es apropiada.**\n",
        "\n",
        "\n",
        "Se identificó una tarea de clasificación (supervisada) en la que se busca saber en un accidente de tránsito, la gravedad de este a partir de datos históricos de estos y factores de influencia.\n",
        "La variable objeivo será la gravedad.\n",
        "Para esto se hará uso del algoritmo KNN.\n",
        "\n",
        "El algoritmo KNN: \n",
        "Sirve para clasificar buscando los puntos \"parecidos\"(por cercanía) aprendidos durante el entrenamiento.\n",
        "•\tAprende a través de los registros que se tengan en la BD.\n",
        "•\tCuando llegan nuevos datos usa el histórico de los que tenía para clasificar los nuevos.\n",
        "•\tEncuentra la distancia más cercana usando la distancia euclidiana (por defecto) o de Manhattan (#1 Manhattan, #2 euclidiana). \n",
        "•\tEscoge al vecino más cercano y lo compara. Al ser cercanos sus comportamientos son parecidos así que se clasifican igual.\n",
        "• Si k aumenta, la predicción hacia el nuevo dato también puede hacerlo. \n",
        "\n",
        "\n"
      ]
    },
    {
      "cell_type": "markdown",
      "metadata": {
        "id": "P_RYV_hM02NY"
      },
      "source": [
        "## 1. Carga de librerías necesarias para implementación"
      ]
    },
    {
      "cell_type": "code",
      "execution_count": null,
      "metadata": {
        "id": "NpIqkNZJ02NY"
      },
      "outputs": [],
      "source": [
        "import pandas as pd\n",
        "pd.set_option('display.max_columns', 30) # Número máximo de columnas a mostrar\n",
        "pd.set_option('display.max_rows', 50) # Numero máximo de filas a mostar\n",
        "import numpy as np\n",
        "np.random.seed(3301)\n",
        "\n",
        "import matplotlib.pyplot as plt\n",
        "import seaborn as sns; sns.set()  # for plot styling\n",
        "\n",
        "from sklearn.preprocessing import StandardScaler\n",
        "from sklearn.cluster import KMeans\n",
        "from sklearn.metrics import silhouette_samples, silhouette_score\n",
        "from sklearn.preprocessing import MinMaxScaler\n",
        "\n",
        "from matplotlib import cm\n",
        "from mpl_toolkits.mplot3d import Axes3D # for 3D plots\n",
        "\n",
        "# Para preparar los datos\n",
        "from sklearn.preprocessing import LabelEncoder\n",
        "# Para crear el arbol de decisión \n",
        "from sklearn.tree import DecisionTreeClassifier \n",
        "# Para usar KNN como clasificador\n",
        "from sklearn.neighbors import KNeighborsClassifier\n",
        "# Para realizar la separación del conjunto de aprendizaje en entrenamiento y test.\n",
        "from sklearn.model_selection import train_test_split\n",
        "# Para evaluar el modelo\n",
        "from sklearn.metrics import confusion_matrix, classification_report, precision_score, recall_score, f1_score, accuracy_score\n",
        "from sklearn.metrics import plot_confusion_matrix\n",
        "# Para búsqueda de hiperparámetros\n",
        "from sklearn.model_selection import GridSearchCV\n",
        "# Para la validación cruzada\n",
        "from sklearn.model_selection import KFold \n",
        "#Librerías para la visualización\n",
        "import matplotlib.pyplot as plt\n",
        "# Seaborn\n",
        "import seaborn as sns \n",
        "from sklearn import tree"
      ]
    },
    {
      "cell_type": "markdown",
      "metadata": {
        "id": "HeLqG_Dg02NZ"
      },
      "source": [
        "## 2. Cargar los datos"
      ]
    },
    {
      "cell_type": "code",
      "execution_count": null,
      "metadata": {
        "id": "oFbT2-WE02NZ"
      },
      "outputs": [],
      "source": [
        "# Se cargan los datos. \n",
        "df=pd.read_csv('datos_ accidentes.csv', sep=';', encoding = 'utf-8', index_col=False)"
      ]
    },
    {
      "cell_type": "markdown",
      "metadata": {
        "id": "jvk8tKPq02Na"
      },
      "source": [
        "## 3. Perfilamiento y entendimiento de los datos "
      ]
    },
    {
      "cell_type": "code",
      "execution_count": null,
      "metadata": {
        "scrolled": true,
        "colab": {
          "base_uri": "https://localhost:8080/"
        },
        "id": "O-ard-dq02Na",
        "outputId": "2b22fb16-8300-4dbd-db18-c74a47ed7936"
      },
      "outputs": [
        {
          "output_type": "execute_result",
          "data": {
            "text/plain": [
              "(2809, 12)"
            ]
          },
          "metadata": {},
          "execution_count": 151
        }
      ],
      "source": [
        "df.shape"
      ]
    },
    {
      "cell_type": "code",
      "execution_count": null,
      "metadata": {
        "colab": {
          "base_uri": "https://localhost:8080/",
          "height": 357
        },
        "id": "CzLSU8UJ02Nb",
        "outputId": "89010ec6-42ac-4643-e398-3cbc81e258d5"
      },
      "outputs": [
        {
          "output_type": "execute_result",
          "data": {
            "text/html": [
              "\n",
              "  <div id=\"df-fde5a592-4a70-4140-9acb-879d709b9a7b\">\n",
              "    <div class=\"colab-df-container\">\n",
              "      <div>\n",
              "<style scoped>\n",
              "    .dataframe tbody tr th:only-of-type {\n",
              "        vertical-align: middle;\n",
              "    }\n",
              "\n",
              "    .dataframe tbody tr th {\n",
              "        vertical-align: top;\n",
              "    }\n",
              "\n",
              "    .dataframe thead th {\n",
              "        text-align: right;\n",
              "    }\n",
              "</style>\n",
              "<table border=\"1\" class=\"dataframe\">\n",
              "  <thead>\n",
              "    <tr style=\"text-align: right;\">\n",
              "      <th></th>\n",
              "      <th>ID</th>\n",
              "      <th>Severidad_accidente</th>\n",
              "      <th>Numero_vehiculos</th>\n",
              "      <th>Numero_victimas</th>\n",
              "      <th>Dia_semana</th>\n",
              "      <th>Tipo_via</th>\n",
              "      <th>Limite_velocidad</th>\n",
              "      <th>Iluminacion</th>\n",
              "      <th>Clima</th>\n",
              "      <th>Condicion_via</th>\n",
              "      <th>Condiciones especiales</th>\n",
              "      <th>Tipo_area</th>\n",
              "    </tr>\n",
              "  </thead>\n",
              "  <tbody>\n",
              "    <tr>\n",
              "      <th>0</th>\n",
              "      <td>201143N077061</td>\n",
              "      <td>Fatal</td>\n",
              "      <td>5</td>\n",
              "      <td>1</td>\n",
              "      <td>7</td>\n",
              "      <td>Autovia</td>\n",
              "      <td>70</td>\n",
              "      <td>Luz_dia</td>\n",
              "      <td>Bueno</td>\n",
              "      <td>Seca</td>\n",
              "      <td>No</td>\n",
              "      <td>Rural</td>\n",
              "    </tr>\n",
              "    <tr>\n",
              "      <th>1</th>\n",
              "      <td>200697LB70507</td>\n",
              "      <td>Fatal</td>\n",
              "      <td>1</td>\n",
              "      <td>1</td>\n",
              "      <td>2</td>\n",
              "      <td>Calzada</td>\n",
              "      <td>60</td>\n",
              "      <td>Luz_dia</td>\n",
              "      <td>Bueno</td>\n",
              "      <td>Seca</td>\n",
              "      <td>No</td>\n",
              "      <td>Rural</td>\n",
              "    </tr>\n",
              "    <tr>\n",
              "      <th>2</th>\n",
              "      <td>200897UA70101</td>\n",
              "      <td>Fatal</td>\n",
              "      <td>1</td>\n",
              "      <td>1</td>\n",
              "      <td>4</td>\n",
              "      <td>Calzada</td>\n",
              "      <td>30</td>\n",
              "      <td>Oscuridad con luces encendidas</td>\n",
              "      <td>Bueno</td>\n",
              "      <td>Humeda</td>\n",
              "      <td>No</td>\n",
              "      <td>Urbano</td>\n",
              "    </tr>\n",
              "    <tr>\n",
              "      <th>3</th>\n",
              "      <td>20114100D0277</td>\n",
              "      <td>Fatal</td>\n",
              "      <td>1</td>\n",
              "      <td>1</td>\n",
              "      <td>4</td>\n",
              "      <td>Calzada</td>\n",
              "      <td>40</td>\n",
              "      <td>Oscuridad sin iluminacion</td>\n",
              "      <td>Bueno</td>\n",
              "      <td>Seca</td>\n",
              "      <td>No</td>\n",
              "      <td>Rural</td>\n",
              "    </tr>\n",
              "    <tr>\n",
              "      <th>4</th>\n",
              "      <td>20141316C1381</td>\n",
              "      <td>Fatal</td>\n",
              "      <td>1</td>\n",
              "      <td>1</td>\n",
              "      <td>5</td>\n",
              "      <td>Calzada</td>\n",
              "      <td>40</td>\n",
              "      <td>Luz_dia</td>\n",
              "      <td>Bueno</td>\n",
              "      <td>Seca</td>\n",
              "      <td>No</td>\n",
              "      <td>Rural</td>\n",
              "    </tr>\n",
              "  </tbody>\n",
              "</table>\n",
              "</div>\n",
              "      <button class=\"colab-df-convert\" onclick=\"convertToInteractive('df-fde5a592-4a70-4140-9acb-879d709b9a7b')\"\n",
              "              title=\"Convert this dataframe to an interactive table.\"\n",
              "              style=\"display:none;\">\n",
              "        \n",
              "  <svg xmlns=\"http://www.w3.org/2000/svg\" height=\"24px\"viewBox=\"0 0 24 24\"\n",
              "       width=\"24px\">\n",
              "    <path d=\"M0 0h24v24H0V0z\" fill=\"none\"/>\n",
              "    <path d=\"M18.56 5.44l.94 2.06.94-2.06 2.06-.94-2.06-.94-.94-2.06-.94 2.06-2.06.94zm-11 1L8.5 8.5l.94-2.06 2.06-.94-2.06-.94L8.5 2.5l-.94 2.06-2.06.94zm10 10l.94 2.06.94-2.06 2.06-.94-2.06-.94-.94-2.06-.94 2.06-2.06.94z\"/><path d=\"M17.41 7.96l-1.37-1.37c-.4-.4-.92-.59-1.43-.59-.52 0-1.04.2-1.43.59L10.3 9.45l-7.72 7.72c-.78.78-.78 2.05 0 2.83L4 21.41c.39.39.9.59 1.41.59.51 0 1.02-.2 1.41-.59l7.78-7.78 2.81-2.81c.8-.78.8-2.07 0-2.86zM5.41 20L4 18.59l7.72-7.72 1.47 1.35L5.41 20z\"/>\n",
              "  </svg>\n",
              "      </button>\n",
              "      \n",
              "  <style>\n",
              "    .colab-df-container {\n",
              "      display:flex;\n",
              "      flex-wrap:wrap;\n",
              "      gap: 12px;\n",
              "    }\n",
              "\n",
              "    .colab-df-convert {\n",
              "      background-color: #E8F0FE;\n",
              "      border: none;\n",
              "      border-radius: 50%;\n",
              "      cursor: pointer;\n",
              "      display: none;\n",
              "      fill: #1967D2;\n",
              "      height: 32px;\n",
              "      padding: 0 0 0 0;\n",
              "      width: 32px;\n",
              "    }\n",
              "\n",
              "    .colab-df-convert:hover {\n",
              "      background-color: #E2EBFA;\n",
              "      box-shadow: 0px 1px 2px rgba(60, 64, 67, 0.3), 0px 1px 3px 1px rgba(60, 64, 67, 0.15);\n",
              "      fill: #174EA6;\n",
              "    }\n",
              "\n",
              "    [theme=dark] .colab-df-convert {\n",
              "      background-color: #3B4455;\n",
              "      fill: #D2E3FC;\n",
              "    }\n",
              "\n",
              "    [theme=dark] .colab-df-convert:hover {\n",
              "      background-color: #434B5C;\n",
              "      box-shadow: 0px 1px 3px 1px rgba(0, 0, 0, 0.15);\n",
              "      filter: drop-shadow(0px 1px 2px rgba(0, 0, 0, 0.3));\n",
              "      fill: #FFFFFF;\n",
              "    }\n",
              "  </style>\n",
              "\n",
              "      <script>\n",
              "        const buttonEl =\n",
              "          document.querySelector('#df-fde5a592-4a70-4140-9acb-879d709b9a7b button.colab-df-convert');\n",
              "        buttonEl.style.display =\n",
              "          google.colab.kernel.accessAllowed ? 'block' : 'none';\n",
              "\n",
              "        async function convertToInteractive(key) {\n",
              "          const element = document.querySelector('#df-fde5a592-4a70-4140-9acb-879d709b9a7b');\n",
              "          const dataTable =\n",
              "            await google.colab.kernel.invokeFunction('convertToInteractive',\n",
              "                                                     [key], {});\n",
              "          if (!dataTable) return;\n",
              "\n",
              "          const docLinkHtml = 'Like what you see? Visit the ' +\n",
              "            '<a target=\"_blank\" href=https://colab.research.google.com/notebooks/data_table.ipynb>data table notebook</a>'\n",
              "            + ' to learn more about interactive tables.';\n",
              "          element.innerHTML = '';\n",
              "          dataTable['output_type'] = 'display_data';\n",
              "          await google.colab.output.renderOutput(dataTable, element);\n",
              "          const docLink = document.createElement('div');\n",
              "          docLink.innerHTML = docLinkHtml;\n",
              "          element.appendChild(docLink);\n",
              "        }\n",
              "      </script>\n",
              "    </div>\n",
              "  </div>\n",
              "  "
            ],
            "text/plain": [
              "              ID Severidad_accidente  Numero_vehiculos Numero_victimas  \\\n",
              "0  201143N077061               Fatal                 5               1   \n",
              "1  200697LB70507               Fatal                 1               1   \n",
              "2  200897UA70101               Fatal                 1               1   \n",
              "3  20114100D0277               Fatal                 1               1   \n",
              "4  20141316C1381               Fatal                 1               1   \n",
              "\n",
              "   Dia_semana Tipo_via  Limite_velocidad                     Iluminacion  \\\n",
              "0           7  Autovia                70                         Luz_dia   \n",
              "1           2  Calzada                60                         Luz_dia   \n",
              "2           4  Calzada                30  Oscuridad con luces encendidas   \n",
              "3           4  Calzada                40       Oscuridad sin iluminacion   \n",
              "4           5  Calzada                40                         Luz_dia   \n",
              "\n",
              "   Clima Condicion_via Condiciones especiales Tipo_area  \n",
              "0  Bueno          Seca                     No     Rural  \n",
              "1  Bueno          Seca                     No     Rural  \n",
              "2  Bueno        Humeda                     No    Urbano  \n",
              "3  Bueno          Seca                     No     Rural  \n",
              "4  Bueno          Seca                     No     Rural  "
            ]
          },
          "metadata": {},
          "execution_count": 152
        }
      ],
      "source": [
        "df.head()"
      ]
    },
    {
      "cell_type": "code",
      "execution_count": null,
      "metadata": {
        "colab": {
          "base_uri": "https://localhost:8080/"
        },
        "id": "d522mjqW02Nc",
        "outputId": "12d981c8-019d-48d7-912e-d3476b1b04b9"
      },
      "outputs": [
        {
          "output_type": "stream",
          "name": "stdout",
          "text": [
            "<class 'pandas.core.frame.DataFrame'>\n",
            "RangeIndex: 2809 entries, 0 to 2808\n",
            "Data columns (total 12 columns):\n",
            " #   Column                  Non-Null Count  Dtype \n",
            "---  ------                  --------------  ----- \n",
            " 0   ID                      2809 non-null   object\n",
            " 1   Severidad_accidente     2804 non-null   object\n",
            " 2   Numero_vehiculos        2809 non-null   int64 \n",
            " 3   Numero_victimas         2809 non-null   object\n",
            " 4   Dia_semana              2809 non-null   int64 \n",
            " 5   Tipo_via                2792 non-null   object\n",
            " 6   Limite_velocidad        2809 non-null   int64 \n",
            " 7   Iluminacion             2808 non-null   object\n",
            " 8   Clima                   2794 non-null   object\n",
            " 9   Condicion_via           2809 non-null   object\n",
            " 10  Condiciones especiales  2809 non-null   object\n",
            " 11  Tipo_area               2808 non-null   object\n",
            "dtypes: int64(3), object(9)\n",
            "memory usage: 263.5+ KB\n"
          ]
        }
      ],
      "source": [
        "# Revisar las características de los datos: completitud y tipo de dato\n",
        "df.info()"
      ]
    },
    {
      "cell_type": "code",
      "source": [
        "# Se observa que hay ausencias. Veamos cuantas, para todas las variables:\n",
        "df.isnull().sum()"
      ],
      "metadata": {
        "colab": {
          "base_uri": "https://localhost:8080/"
        },
        "id": "z0dkjRvUTxMx",
        "outputId": "0b919da0-5029-4c9e-8dbb-b49812769cd4"
      },
      "execution_count": null,
      "outputs": [
        {
          "output_type": "execute_result",
          "data": {
            "text/plain": [
              "ID                         0\n",
              "Severidad_accidente        5\n",
              "Numero_vehiculos           0\n",
              "Numero_victimas            0\n",
              "Dia_semana                 0\n",
              "Tipo_via                  17\n",
              "Limite_velocidad           0\n",
              "Iluminacion                1\n",
              "Clima                     15\n",
              "Condicion_via              0\n",
              "Condiciones especiales     0\n",
              "Tipo_area                  1\n",
              "dtype: int64"
            ]
          },
          "metadata": {},
          "execution_count": 154
        }
      ]
    },
    {
      "cell_type": "code",
      "execution_count": null,
      "metadata": {
        "colab": {
          "base_uri": "https://localhost:8080/",
          "height": 300
        },
        "id": "E7CRXR1Y02Nc",
        "outputId": "9276c259-6c91-43a4-ffec-f8576ef8f32b"
      },
      "outputs": [
        {
          "output_type": "execute_result",
          "data": {
            "text/html": [
              "\n",
              "  <div id=\"df-cb61367d-8eca-4b4c-9174-dd10034197d0\">\n",
              "    <div class=\"colab-df-container\">\n",
              "      <div>\n",
              "<style scoped>\n",
              "    .dataframe tbody tr th:only-of-type {\n",
              "        vertical-align: middle;\n",
              "    }\n",
              "\n",
              "    .dataframe tbody tr th {\n",
              "        vertical-align: top;\n",
              "    }\n",
              "\n",
              "    .dataframe thead th {\n",
              "        text-align: right;\n",
              "    }\n",
              "</style>\n",
              "<table border=\"1\" class=\"dataframe\">\n",
              "  <thead>\n",
              "    <tr style=\"text-align: right;\">\n",
              "      <th></th>\n",
              "      <th>Numero_vehiculos</th>\n",
              "      <th>Dia_semana</th>\n",
              "      <th>Limite_velocidad</th>\n",
              "    </tr>\n",
              "  </thead>\n",
              "  <tbody>\n",
              "    <tr>\n",
              "      <th>count</th>\n",
              "      <td>2809.000000</td>\n",
              "      <td>2809.000000</td>\n",
              "      <td>2809.000000</td>\n",
              "    </tr>\n",
              "    <tr>\n",
              "      <th>mean</th>\n",
              "      <td>1.798149</td>\n",
              "      <td>4.143111</td>\n",
              "      <td>44.401566</td>\n",
              "    </tr>\n",
              "    <tr>\n",
              "      <th>std</th>\n",
              "      <td>0.720713</td>\n",
              "      <td>1.972972</td>\n",
              "      <td>206.956835</td>\n",
              "    </tr>\n",
              "    <tr>\n",
              "      <th>min</th>\n",
              "      <td>1.000000</td>\n",
              "      <td>1.000000</td>\n",
              "      <td>-70.000000</td>\n",
              "    </tr>\n",
              "    <tr>\n",
              "      <th>25%</th>\n",
              "      <td>1.000000</td>\n",
              "      <td>2.000000</td>\n",
              "      <td>30.000000</td>\n",
              "    </tr>\n",
              "    <tr>\n",
              "      <th>50%</th>\n",
              "      <td>2.000000</td>\n",
              "      <td>4.000000</td>\n",
              "      <td>30.000000</td>\n",
              "    </tr>\n",
              "    <tr>\n",
              "      <th>75%</th>\n",
              "      <td>2.000000</td>\n",
              "      <td>6.000000</td>\n",
              "      <td>50.000000</td>\n",
              "    </tr>\n",
              "    <tr>\n",
              "      <th>max</th>\n",
              "      <td>8.000000</td>\n",
              "      <td>12.000000</td>\n",
              "      <td>7777.000000</td>\n",
              "    </tr>\n",
              "  </tbody>\n",
              "</table>\n",
              "</div>\n",
              "      <button class=\"colab-df-convert\" onclick=\"convertToInteractive('df-cb61367d-8eca-4b4c-9174-dd10034197d0')\"\n",
              "              title=\"Convert this dataframe to an interactive table.\"\n",
              "              style=\"display:none;\">\n",
              "        \n",
              "  <svg xmlns=\"http://www.w3.org/2000/svg\" height=\"24px\"viewBox=\"0 0 24 24\"\n",
              "       width=\"24px\">\n",
              "    <path d=\"M0 0h24v24H0V0z\" fill=\"none\"/>\n",
              "    <path d=\"M18.56 5.44l.94 2.06.94-2.06 2.06-.94-2.06-.94-.94-2.06-.94 2.06-2.06.94zm-11 1L8.5 8.5l.94-2.06 2.06-.94-2.06-.94L8.5 2.5l-.94 2.06-2.06.94zm10 10l.94 2.06.94-2.06 2.06-.94-2.06-.94-.94-2.06-.94 2.06-2.06.94z\"/><path d=\"M17.41 7.96l-1.37-1.37c-.4-.4-.92-.59-1.43-.59-.52 0-1.04.2-1.43.59L10.3 9.45l-7.72 7.72c-.78.78-.78 2.05 0 2.83L4 21.41c.39.39.9.59 1.41.59.51 0 1.02-.2 1.41-.59l7.78-7.78 2.81-2.81c.8-.78.8-2.07 0-2.86zM5.41 20L4 18.59l7.72-7.72 1.47 1.35L5.41 20z\"/>\n",
              "  </svg>\n",
              "      </button>\n",
              "      \n",
              "  <style>\n",
              "    .colab-df-container {\n",
              "      display:flex;\n",
              "      flex-wrap:wrap;\n",
              "      gap: 12px;\n",
              "    }\n",
              "\n",
              "    .colab-df-convert {\n",
              "      background-color: #E8F0FE;\n",
              "      border: none;\n",
              "      border-radius: 50%;\n",
              "      cursor: pointer;\n",
              "      display: none;\n",
              "      fill: #1967D2;\n",
              "      height: 32px;\n",
              "      padding: 0 0 0 0;\n",
              "      width: 32px;\n",
              "    }\n",
              "\n",
              "    .colab-df-convert:hover {\n",
              "      background-color: #E2EBFA;\n",
              "      box-shadow: 0px 1px 2px rgba(60, 64, 67, 0.3), 0px 1px 3px 1px rgba(60, 64, 67, 0.15);\n",
              "      fill: #174EA6;\n",
              "    }\n",
              "\n",
              "    [theme=dark] .colab-df-convert {\n",
              "      background-color: #3B4455;\n",
              "      fill: #D2E3FC;\n",
              "    }\n",
              "\n",
              "    [theme=dark] .colab-df-convert:hover {\n",
              "      background-color: #434B5C;\n",
              "      box-shadow: 0px 1px 3px 1px rgba(0, 0, 0, 0.15);\n",
              "      filter: drop-shadow(0px 1px 2px rgba(0, 0, 0, 0.3));\n",
              "      fill: #FFFFFF;\n",
              "    }\n",
              "  </style>\n",
              "\n",
              "      <script>\n",
              "        const buttonEl =\n",
              "          document.querySelector('#df-cb61367d-8eca-4b4c-9174-dd10034197d0 button.colab-df-convert');\n",
              "        buttonEl.style.display =\n",
              "          google.colab.kernel.accessAllowed ? 'block' : 'none';\n",
              "\n",
              "        async function convertToInteractive(key) {\n",
              "          const element = document.querySelector('#df-cb61367d-8eca-4b4c-9174-dd10034197d0');\n",
              "          const dataTable =\n",
              "            await google.colab.kernel.invokeFunction('convertToInteractive',\n",
              "                                                     [key], {});\n",
              "          if (!dataTable) return;\n",
              "\n",
              "          const docLinkHtml = 'Like what you see? Visit the ' +\n",
              "            '<a target=\"_blank\" href=https://colab.research.google.com/notebooks/data_table.ipynb>data table notebook</a>'\n",
              "            + ' to learn more about interactive tables.';\n",
              "          element.innerHTML = '';\n",
              "          dataTable['output_type'] = 'display_data';\n",
              "          await google.colab.output.renderOutput(dataTable, element);\n",
              "          const docLink = document.createElement('div');\n",
              "          docLink.innerHTML = docLinkHtml;\n",
              "          element.appendChild(docLink);\n",
              "        }\n",
              "      </script>\n",
              "    </div>\n",
              "  </div>\n",
              "  "
            ],
            "text/plain": [
              "       Numero_vehiculos   Dia_semana  Limite_velocidad\n",
              "count       2809.000000  2809.000000       2809.000000\n",
              "mean           1.798149     4.143111         44.401566\n",
              "std            0.720713     1.972972        206.956835\n",
              "min            1.000000     1.000000        -70.000000\n",
              "25%            1.000000     2.000000         30.000000\n",
              "50%            2.000000     4.000000         30.000000\n",
              "75%            2.000000     6.000000         50.000000\n",
              "max            8.000000    12.000000       7777.000000"
            ]
          },
          "metadata": {},
          "execution_count": 155
        }
      ],
      "source": [
        "# Resumen de los estadisticos de las variables numéricas\n",
        "df.describe()"
      ]
    },
    {
      "cell_type": "code",
      "execution_count": null,
      "metadata": {
        "colab": {
          "base_uri": "https://localhost:8080/",
          "height": 486
        },
        "id": "8PkPfYce02Nd",
        "outputId": "93928681-6914-498d-9938-d082eaa19302"
      },
      "outputs": [
        {
          "output_type": "display_data",
          "data": {
            "image/png": "[encoded data removed]",
            "text/plain": [
              "<Figure size 1080x576 with 1 Axes>"
            ]
          },
          "metadata": {}
        }
      ],
      "source": [
        "#Visualización de todas las variables numéricas\n",
        "fig=plt.figure(figsize=(15,8))\n",
        "ax = sns.boxplot(data=df, orient=\"v\")"
      ]
    },
    {
      "cell_type": "code",
      "execution_count": null,
      "metadata": {
        "colab": {
          "base_uri": "https://localhost:8080/"
        },
        "id": "6xhTTJRh02Nf",
        "outputId": "02320424-b9df-4660-81fb-53e939a69163"
      },
      "outputs": [
        {
          "output_type": "execute_result",
          "data": {
            "text/plain": [
              "Index(['ID', 'Severidad_accidente', 'Numero_victimas', 'Tipo_via',\n",
              "       'Iluminacion', 'Clima', 'Condicion_via', 'Condiciones especiales',\n",
              "       'Tipo_area'],\n",
              "      dtype='object')"
            ]
          },
          "metadata": {},
          "execution_count": 157
        }
      ],
      "source": [
        "# Explorar las variables que no son numéricas\n",
        "name_cols_non_number = df.select_dtypes(include = ['object']).columns\n",
        "name_cols_non_number"
      ]
    },
    {
      "cell_type": "code",
      "execution_count": null,
      "metadata": {
        "colab": {
          "base_uri": "https://localhost:8080/"
        },
        "id": "cXtwAn6202Nf",
        "outputId": "efdd6973-aec4-418e-9239-e7178c58b5e3"
      },
      "outputs": [
        {
          "output_type": "execute_result",
          "data": {
            "text/plain": [
              "264     Fatal\n",
              "1963     Leve\n",
              "1444     Leve\n",
              "2661     Leve\n",
              "407     Serio\n",
              "53      Fatal\n",
              "2645     Leve\n",
              "2192     Leve\n",
              "1708     Leve\n",
              "510     Serio\n",
              "Name: Severidad_accidente, dtype: object"
            ]
          },
          "metadata": {},
          "execution_count": 158
        }
      ],
      "source": [
        "# Revisamos el contenido de las columnas no numéricas\n",
        "df.Severidad_accidente.sample(10)"
      ]
    },
    {
      "cell_type": "code",
      "execution_count": null,
      "metadata": {
        "colab": {
          "base_uri": "https://localhost:8080/",
          "height": 236
        },
        "id": "I_pmxG-N02Nf",
        "outputId": "a670edec-1d1f-436e-f061-45f153f7633a"
      },
      "outputs": [
        {
          "output_type": "execute_result",
          "data": {
            "text/html": [
              "\n",
              "  <div id=\"df-5f197347-2abc-4ff3-8165-c194ac908c24\">\n",
              "    <div class=\"colab-df-container\">\n",
              "      <div>\n",
              "<style scoped>\n",
              "    .dataframe tbody tr th:only-of-type {\n",
              "        vertical-align: middle;\n",
              "    }\n",
              "\n",
              "    .dataframe tbody tr th {\n",
              "        vertical-align: top;\n",
              "    }\n",
              "\n",
              "    .dataframe thead th {\n",
              "        text-align: right;\n",
              "    }\n",
              "</style>\n",
              "<table border=\"1\" class=\"dataframe\">\n",
              "  <thead>\n",
              "    <tr style=\"text-align: right;\">\n",
              "      <th></th>\n",
              "      <th>ID</th>\n",
              "      <th>Severidad_accidente</th>\n",
              "      <th>Numero_victimas</th>\n",
              "      <th>Tipo_via</th>\n",
              "      <th>Iluminacion</th>\n",
              "      <th>Clima</th>\n",
              "      <th>Condicion_via</th>\n",
              "      <th>Condiciones especiales</th>\n",
              "      <th>Tipo_area</th>\n",
              "    </tr>\n",
              "  </thead>\n",
              "  <tbody>\n",
              "    <tr>\n",
              "      <th>count</th>\n",
              "      <td>2809</td>\n",
              "      <td>2804</td>\n",
              "      <td>2809</td>\n",
              "      <td>2792</td>\n",
              "      <td>2808</td>\n",
              "      <td>2794</td>\n",
              "      <td>2809</td>\n",
              "      <td>2809</td>\n",
              "      <td>2808</td>\n",
              "    </tr>\n",
              "    <tr>\n",
              "      <th>unique</th>\n",
              "      <td>2809</td>\n",
              "      <td>3</td>\n",
              "      <td>18</td>\n",
              "      <td>5</td>\n",
              "      <td>5</td>\n",
              "      <td>7</td>\n",
              "      <td>5</td>\n",
              "      <td>2</td>\n",
              "      <td>2</td>\n",
              "    </tr>\n",
              "    <tr>\n",
              "      <th>top</th>\n",
              "      <td>201143N077061</td>\n",
              "      <td>Leve</td>\n",
              "      <td>1</td>\n",
              "      <td>Calzada</td>\n",
              "      <td>Luz_dia</td>\n",
              "      <td>Bueno</td>\n",
              "      <td>Seca</td>\n",
              "      <td>No</td>\n",
              "      <td>Urbano</td>\n",
              "    </tr>\n",
              "    <tr>\n",
              "      <th>freq</th>\n",
              "      <td>1</td>\n",
              "      <td>1893</td>\n",
              "      <td>2106</td>\n",
              "      <td>2093</td>\n",
              "      <td>1993</td>\n",
              "      <td>2261</td>\n",
              "      <td>1906</td>\n",
              "      <td>2750</td>\n",
              "      <td>1881</td>\n",
              "    </tr>\n",
              "  </tbody>\n",
              "</table>\n",
              "</div>\n",
              "      <button class=\"colab-df-convert\" onclick=\"convertToInteractive('df-5f197347-2abc-4ff3-8165-c194ac908c24')\"\n",
              "              title=\"Convert this dataframe to an interactive table.\"\n",
              "              style=\"display:none;\">\n",
              "        \n",
              "  <svg xmlns=\"http://www.w3.org/2000/svg\" height=\"24px\"viewBox=\"0 0 24 24\"\n",
              "       width=\"24px\">\n",
              "    <path d=\"M0 0h24v24H0V0z\" fill=\"none\"/>\n",
              "    <path d=\"M18.56 5.44l.94 2.06.94-2.06 2.06-.94-2.06-.94-.94-2.06-.94 2.06-2.06.94zm-11 1L8.5 8.5l.94-2.06 2.06-.94-2.06-.94L8.5 2.5l-.94 2.06-2.06.94zm10 10l.94 2.06.94-2.06 2.06-.94-2.06-.94-.94-2.06-.94 2.06-2.06.94z\"/><path d=\"M17.41 7.96l-1.37-1.37c-.4-.4-.92-.59-1.43-.59-.52 0-1.04.2-1.43.59L10.3 9.45l-7.72 7.72c-.78.78-.78 2.05 0 2.83L4 21.41c.39.39.9.59 1.41.59.51 0 1.02-.2 1.41-.59l7.78-7.78 2.81-2.81c.8-.78.8-2.07 0-2.86zM5.41 20L4 18.59l7.72-7.72 1.47 1.35L5.41 20z\"/>\n",
              "  </svg>\n",
              "      </button>\n",
              "      \n",
              "  <style>\n",
              "    .colab-df-container {\n",
              "      display:flex;\n",
              "      flex-wrap:wrap;\n",
              "      gap: 12px;\n",
              "    }\n",
              "\n",
              "    .colab-df-convert {\n",
              "      background-color: #E8F0FE;\n",
              "      border: none;\n",
              "      border-radius: 50%;\n",
              "      cursor: pointer;\n",
              "      display: none;\n",
              "      fill: #1967D2;\n",
              "      height: 32px;\n",
              "      padding: 0 0 0 0;\n",
              "      width: 32px;\n",
              "    }\n",
              "\n",
              "    .colab-df-convert:hover {\n",
              "      background-color: #E2EBFA;\n",
              "      box-shadow: 0px 1px 2px rgba(60, 64, 67, 0.3), 0px 1px 3px 1px rgba(60, 64, 67, 0.15);\n",
              "      fill: #174EA6;\n",
              "    }\n",
              "\n",
              "    [theme=dark] .colab-df-convert {\n",
              "      background-color: #3B4455;\n",
              "      fill: #D2E3FC;\n",
              "    }\n",
              "\n",
              "    [theme=dark] .colab-df-convert:hover {\n",
              "      background-color: #434B5C;\n",
              "      box-shadow: 0px 1px 3px 1px rgba(0, 0, 0, 0.15);\n",
              "      filter: drop-shadow(0px 1px 2px rgba(0, 0, 0, 0.3));\n",
              "      fill: #FFFFFF;\n",
              "    }\n",
              "  </style>\n",
              "\n",
              "      <script>\n",
              "        const buttonEl =\n",
              "          document.querySelector('#df-5f197347-2abc-4ff3-8165-c194ac908c24 button.colab-df-convert');\n",
              "        buttonEl.style.display =\n",
              "          google.colab.kernel.accessAllowed ? 'block' : 'none';\n",
              "\n",
              "        async function convertToInteractive(key) {\n",
              "          const element = document.querySelector('#df-5f197347-2abc-4ff3-8165-c194ac908c24');\n",
              "          const dataTable =\n",
              "            await google.colab.kernel.invokeFunction('convertToInteractive',\n",
              "                                                     [key], {});\n",
              "          if (!dataTable) return;\n",
              "\n",
              "          const docLinkHtml = 'Like what you see? Visit the ' +\n",
              "            '<a target=\"_blank\" href=https://colab.research.google.com/notebooks/data_table.ipynb>data table notebook</a>'\n",
              "            + ' to learn more about interactive tables.';\n",
              "          element.innerHTML = '';\n",
              "          dataTable['output_type'] = 'display_data';\n",
              "          await google.colab.output.renderOutput(dataTable, element);\n",
              "          const docLink = document.createElement('div');\n",
              "          docLink.innerHTML = docLinkHtml;\n",
              "          element.appendChild(docLink);\n",
              "        }\n",
              "      </script>\n",
              "    </div>\n",
              "  </div>\n",
              "  "
            ],
            "text/plain": [
              "                   ID Severidad_accidente Numero_victimas Tipo_via  \\\n",
              "count            2809                2804            2809     2792   \n",
              "unique           2809                   3              18        5   \n",
              "top     201143N077061                Leve               1  Calzada   \n",
              "freq                1                1893            2106     2093   \n",
              "\n",
              "       Iluminacion  Clima Condicion_via Condiciones especiales Tipo_area  \n",
              "count         2808   2794          2809                   2809      2808  \n",
              "unique           5      7             5                      2         2  \n",
              "top        Luz_dia  Bueno          Seca                     No    Urbano  \n",
              "freq          1993   2261          1906                   2750      1881  "
            ]
          },
          "metadata": {},
          "execution_count": 159
        }
      ],
      "source": [
        "#Revisar el contenido de las variables que no son numéricas\n",
        "df[name_cols_non_number].describe()"
      ]
    },
    {
      "cell_type": "markdown",
      "source": [
        "## Revisaremos los valores que tiene cada columna"
      ],
      "metadata": {
        "id": "gltAG4SdWn1C"
      }
    },
    {
      "cell_type": "code",
      "source": [
        "# Lista de nombres de columnas\n",
        "lista = df.columns.tolist()\n",
        "\n",
        "#Revisar diferentes valores que hay en las columnas para hacer limpieza\n",
        "for i in lista:\n",
        "  datos_ver=df.groupby([i]).size()\n",
        "  print(datos_ver)\n",
        "  print('-'*20)"
      ],
      "metadata": {
        "colab": {
          "base_uri": "https://localhost:8080/"
        },
        "id": "rsqn7scHWhZk",
        "outputId": "98ba2f83-d36f-4e33-f150-0f8b3c6481dc"
      },
      "execution_count": null,
      "outputs": [
        {
          "output_type": "stream",
          "name": "stdout",
          "text": [
            "ID\n",
            "200501BS70357    1\n",
            "200501BS70480    1\n",
            "200501BS70779    1\n",
            "200501CW10131    1\n",
            "200501CW11738    1\n",
            "                ..\n",
            "201497LA01105    1\n",
            "201497LB01203    1\n",
            "201497LB02206    1\n",
            "201497UD04412    1\n",
            "201497UD05105    1\n",
            "Length: 2809, dtype: int64\n",
            "--------------------\n",
            "Severidad_accidente\n",
            "Fatal     294\n",
            "Leve     1893\n",
            "Serio     617\n",
            "dtype: int64\n",
            "--------------------\n",
            "Numero_vehiculos\n",
            "1     952\n",
            "2    1561\n",
            "3     228\n",
            "4      52\n",
            "5      13\n",
            "6       2\n",
            "8       1\n",
            "dtype: int64\n",
            "--------------------\n",
            "Numero_victimas\n",
            "1             2106\n",
            "11               1\n",
            "13               1\n",
            "17               1\n",
            "2              491\n",
            "2.3              1\n",
            "3              121\n",
            "3.45             1\n",
            "4               50\n",
            "44444444         1\n",
            "5               23\n",
            "5.78             1\n",
            "6                5\n",
            "6.78             1\n",
            "7                2\n",
            "70.000.000       1\n",
            "8                1\n",
            "9                1\n",
            "dtype: int64\n",
            "--------------------\n",
            "Dia_semana\n",
            "1     328\n",
            "2     391\n",
            "3     404\n",
            "4     404\n",
            "5     403\n",
            "6     489\n",
            "7     381\n",
            "8       5\n",
            "10      2\n",
            "12      2\n",
            "dtype: int64\n",
            "--------------------\n",
            "Tipo_via\n",
            "Autovia              455\n",
            "Calzada             2093\n",
            "Carretera acceso      26\n",
            "Rotonda              160\n",
            "Un solo sentido       58\n",
            "dtype: int64\n",
            "--------------------\n",
            "Limite_velocidad\n",
            "-70         2\n",
            "-40         1\n",
            " 0          7\n",
            " 20        23\n",
            " 30      1800\n",
            " 40       233\n",
            " 50        95\n",
            " 60       440\n",
            " 70       206\n",
            " 7777       2\n",
            "dtype: int64\n",
            "--------------------\n",
            "Iluminacion\n",
            "0                                   22\n",
            "Luz_dia                           1993\n",
            "Oscuridad con luces apagadas        13\n",
            "Oscuridad con luces encendidas     616\n",
            "Oscuridad sin iluminacion          164\n",
            "dtype: int64\n",
            "--------------------\n",
            "Clima\n",
            "Bueno                 2261\n",
            "LLuvioso y ventoso       5\n",
            "Lluvioso               319\n",
            "Niebla                  51\n",
            "Nieve                   21\n",
            "Nieve y ventoso         54\n",
            "Ventoso                 83\n",
            "dtype: int64\n",
            "--------------------\n",
            "Condicion_via\n",
            "Con nieve      18\n",
            "Hielo          59\n",
            "Humeda        824\n",
            "Inundada        2\n",
            "Seca         1906\n",
            "dtype: int64\n",
            "--------------------\n",
            "Condiciones especiales\n",
            "No    2750\n",
            "Si      59\n",
            "dtype: int64\n",
            "--------------------\n",
            "Tipo_area\n",
            "Rural      927\n",
            "Urbano    1881\n",
            "dtype: int64\n",
            "--------------------\n"
          ]
        }
      ]
    },
    {
      "cell_type": "markdown",
      "metadata": {
        "id": "JcxYyZvW02Ng"
      },
      "source": [
        "###**Análisis** \n",
        "**2.\t[30%] Describa y haga un análisis del resultado del perfilamiento de los datos suministrados (anexos a este enunciado). **\n",
        "1. Se observa que todas las variables no númericas podrían  ser convertidas a numéricas.\n",
        "2. Hay variables con varios valores nulos, así como errores de formato, o fuera de rango como:\n",
        "  \n",
        "*   Numero_victimas, tiene valores decimales, y valores muy grandes que no tienen sentido para el negocio. \n",
        "\n",
        "*   Dia_semana presenta valores mayores a 7 que no tienen sentido pues se trata del día de la semana.\n",
        "\n",
        "*   Limite_velocidad, tienen valores negativos que no tienen sentido pues el límite de velocidad no puede ser menos a 0.\n",
        "\n",
        "*   Iluminacion presenta un tipo de dato fuera del establecido por el diccionario \"0\".\n",
        "\n",
        "3. ID es prescindible para la tarea.\n",
        "\n",
        "\n",
        "Estos análisis nos ayudan a entender el conjunto de datos y a identificar posibles tareas de limpieza que debo realizar antes de generar un modelo."
      ]
    },
    {
      "cell_type": "markdown",
      "metadata": {
        "id": "wK2glqXI02Nh"
      },
      "source": [
        "## 4. Limpieza de datos\n"
      ]
    },
    {
      "cell_type": "code",
      "source": [
        "# Es recomendable que todos los pasos de limpieza y preparación se realicen sobre otro archivo.\n",
        "datos_l = df"
      ],
      "metadata": {
        "id": "2Z0CQTH0UAdI"
      },
      "execution_count": null,
      "outputs": []
    },
    {
      "cell_type": "code",
      "source": [
        "# Eliminación registros con ausencias\n",
        "datos_l = datos_l.dropna()\n",
        "# Eliminación de registros duplicados.\n",
        "datos_l = datos_l.drop_duplicates()\n",
        "#Se elimina la variable \"ID\"\n",
        "datos_l = datos_l.drop(['ID'],axis=1)\n",
        "datos_l.shape"
      ],
      "metadata": {
        "colab": {
          "base_uri": "https://localhost:8080/"
        },
        "id": "sI6Nc50CUgFz",
        "outputId": "b8540615-84f9-43ec-e268-6e6f2b3f3018"
      },
      "execution_count": null,
      "outputs": [
        {
          "output_type": "execute_result",
          "data": {
            "text/plain": [
              "(2770, 12)"
            ]
          },
          "metadata": {},
          "execution_count": 162
        }
      ]
    },
    {
      "cell_type": "code",
      "source": [
        "#Convertir los valores decimales en Numero_victimas a enteros\n",
        "datos_l['Numero_victimas']=pd.to_numeric(datos_l.Numero_victimas, errors = 'coerce')\n",
        "datos_l = datos_l.dropna()\n",
        "datos_l['Numero_victimas']=datos_l['Numero_victimas'].round(0).astype(int)\n",
        "datos_ver=datos_l.groupby([\"Numero_victimas\"]).size()\n",
        "datos_ver"
      ],
      "metadata": {
        "colab": {
          "base_uri": "https://localhost:8080/"
        },
        "id": "4I0yeEu4aI3S",
        "outputId": "52f1e234-abd8-465e-ebcc-a16df204250d"
      },
      "execution_count": null,
      "outputs": [
        {
          "output_type": "execute_result",
          "data": {
            "text/plain": [
              "Numero_victimas\n",
              "1           2076\n",
              "2            487\n",
              "3            119\n",
              "4             50\n",
              "5             23\n",
              "6              6\n",
              "7              3\n",
              "8              1\n",
              "9              1\n",
              "11             1\n",
              "13             1\n",
              "44444444       1\n",
              "dtype: int64"
            ]
          },
          "metadata": {},
          "execution_count": 165
        }
      ]
    },
    {
      "cell_type": "code",
      "source": [
        "#Eliminaremos las filas que contienen datos fuera de rango en:\n",
        "\n",
        "#Numero_victimas,  valores  mayores a 15\n",
        "datos_l = datos_l.drop(datos_l[datos_l['Numero_victimas']>15].index)\n",
        "\n",
        "#Dia_semana  valores  mayores a 7.\n",
        "datos_l = datos_l.drop(datos_l[datos_l['Dia_semana']>7].index)\n",
        "\n",
        "#Limite_velocidad valores mayores a 150 y menores o iguales a 0\n",
        "datos_l = datos_l.drop(datos_l[datos_l['Limite_velocidad']>150].index)\n",
        "datos_l = datos_l.drop(datos_l[datos_l['Limite_velocidad']<=0].index)\n",
        "\n",
        "#Iluminacion valor no válido \"0\".\n",
        "datos_l = datos_l.drop(datos_l[datos_l['Iluminacion']==\"0\"].index)\n",
        "datos_l.shape"
      ],
      "metadata": {
        "colab": {
          "base_uri": "https://localhost:8080/"
        },
        "id": "7nI-Mfs3X9x7",
        "outputId": "1e63b473-476e-44da-e648-1980de72bc86"
      },
      "execution_count": null,
      "outputs": [
        {
          "output_type": "execute_result",
          "data": {
            "text/plain": [
              "(2728, 11)"
            ]
          },
          "metadata": {},
          "execution_count": 166
        }
      ]
    },
    {
      "cell_type": "code",
      "source": [
        "#Verificar que los cambios se aplicaron correctamente\n",
        "# Lista de nombres de columnas\n",
        "lista = datos_l.columns.tolist()\n",
        "\n",
        "#Revisar diferentes valores que hay en las columnas para hacer limpieza\n",
        "for i in lista:\n",
        "  datos_ver=datos_l.groupby([i]).size()\n",
        "  print(datos_ver)\n",
        "  print('-'*20)"
      ],
      "metadata": {
        "colab": {
          "base_uri": "https://localhost:8080/"
        },
        "id": "9FfORQKzdqNX",
        "outputId": "5de0c22f-a813-4abb-f781-4bb5739aeaa7"
      },
      "execution_count": null,
      "outputs": [
        {
          "output_type": "stream",
          "name": "stdout",
          "text": [
            "Severidad_accidente\n",
            "Fatal     285\n",
            "Leve     1838\n",
            "Serio     605\n",
            "dtype: int64\n",
            "--------------------\n",
            "Numero_vehiculos\n",
            "1     927\n",
            "2    1515\n",
            "3     219\n",
            "4      51\n",
            "5      13\n",
            "6       2\n",
            "8       1\n",
            "dtype: int64\n",
            "--------------------\n",
            "Numero_victimas\n",
            "1     2042\n",
            "2      483\n",
            "3      119\n",
            "4       49\n",
            "5       22\n",
            "6        6\n",
            "7        3\n",
            "8        1\n",
            "9        1\n",
            "11       1\n",
            "13       1\n",
            "dtype: int64\n",
            "--------------------\n",
            "Dia_semana\n",
            "1    319\n",
            "2    377\n",
            "3    394\n",
            "4    392\n",
            "5    395\n",
            "6    477\n",
            "7    374\n",
            "dtype: int64\n",
            "--------------------\n",
            "Tipo_via\n",
            "Autovia              441\n",
            "Calzada             2049\n",
            "Carretera acceso      26\n",
            "Rotonda              155\n",
            "Un solo sentido       57\n",
            "dtype: int64\n",
            "--------------------\n",
            "Limite_velocidad\n",
            "20      22\n",
            "30    1759\n",
            "40     229\n",
            "50      93\n",
            "60     427\n",
            "70     198\n",
            "dtype: int64\n",
            "--------------------\n",
            "Iluminacion\n",
            "Luz_dia                           1948\n",
            "Oscuridad con luces apagadas        13\n",
            "Oscuridad con luces encendidas     605\n",
            "Oscuridad sin iluminacion          162\n",
            "dtype: int64\n",
            "--------------------\n",
            "Clima\n",
            "Bueno                 2216\n",
            "LLuvioso y ventoso       5\n",
            "Lluvioso               313\n",
            "Niebla                  39\n",
            "Nieve                   21\n",
            "Nieve y ventoso         54\n",
            "Ventoso                 80\n",
            "dtype: int64\n",
            "--------------------\n",
            "Condicion_via\n",
            "Con nieve      18\n",
            "Hielo          56\n",
            "Humeda        799\n",
            "Inundada        2\n",
            "Seca         1853\n",
            "dtype: int64\n",
            "--------------------\n",
            "Condiciones especiales\n",
            "No    2670\n",
            "Si      58\n",
            "dtype: int64\n",
            "--------------------\n",
            "Tipo_area\n",
            "Rural      894\n",
            "Urbano    1834\n",
            "dtype: int64\n",
            "--------------------\n"
          ]
        }
      ]
    },
    {
      "cell_type": "markdown",
      "source": [
        "**Explique las tareas de transformación que hizo e justifíquelas.**\n",
        "Se crearán nuevas columnas para convertir las columnas 'Tipo_via', 'Iluminacion', 'Clima', 'Condicion_via', 'Condiciones especiales',  'Tipo_area'  y 'Severidad_accidente ' de tipo objetc en categóricas.\n",
        "\n",
        "1. Tipo_via\n",
        "*   Autovía=0\n",
        "*   Calzada=1\n",
        "*   Rotonda=2\n",
        "*   Carretera acceso=3\n",
        "*   Un solo sentido=4\n",
        "\n",
        "\n",
        "2. Iluminacion\n",
        "*   Luz_dia=0\n",
        "*   Oscuridad con luces apagadas=1\n",
        "*   Oscuridad con luces encendidas=2\n",
        "*   Oscuridad sin iluminacion=3\n",
        "\n",
        "\n",
        "3. Clima\n",
        "*   Bueno=0\n",
        "*   LLuvioso y ventoso =1\n",
        "*   Lluvioso=2\n",
        "*   Niebla=3\n",
        "*   Nieve=4\n",
        "*   Nieve y ventoso  =5\n",
        "*   Ventoso=6\n",
        "\n",
        "4. Condicion_via\n",
        "*   Con nieve=0\n",
        "*   Hielo=1\n",
        "*   Rotonda=2\n",
        "*   Inundada=3\n",
        "*   Seca=4\n",
        "\n",
        "5. Condiciones especiales\n",
        "*  No=0\n",
        "*  Si=1\n",
        "\n",
        "6. Tipo_area\n",
        "*  Rural=0\n",
        "*  Urbano=1\n",
        "\n",
        "7. Severidad_accidente             \n",
        "\n",
        "*  Fatal=0\n",
        "*  Leve=1\n",
        "*  Serio=2\n",
        "\n",
        "\n"
      ],
      "metadata": {
        "id": "JyNHuPrtgehP"
      }
    },
    {
      "cell_type": "code",
      "source": [
        "#Crear nuevas columnas para convertir las columnas 'Tipo_via', 'Iluminacion', 'Clima', 'Condicion_via', 'Condiciones especiales' , 'Tipo_area' y 'Severidad_accidente' de tipo objetc en categóricas\n",
        "\n",
        "#Tipo_via\n",
        "def numeric_Tipo_via(row):\n",
        "    if row['Tipo_via'] ==\"Autovia\" :\n",
        "      return 0\n",
        "    elif row['Tipo_via'] ==\"Calzada\" :\n",
        "      return 1\n",
        "    elif row['Tipo_via'] ==\"Rotonda\" :\n",
        "      return 2\n",
        "    elif row['Tipo_via'] ==\"Carretera acceso\" :\n",
        "      return 3\n",
        "    elif row['Tipo_via'] ==\"Un solo sentido\" :\n",
        "      return 4\n",
        "datos_l['Tipo_via_numeric']=datos_l.apply (lambda row: numeric_Tipo_via(row), axis=1)    \n",
        "\n",
        "#Iluminacion\n",
        "def numeric_Iluminacion(row):\n",
        "    if row['Iluminacion'] ==\"Luz_dia\" :\n",
        "      return 0\n",
        "    elif row['Iluminacion'] ==\"Oscuridad con luces apagadas\" :\n",
        "      return 1\n",
        "    elif row['Iluminacion'] ==\"Oscuridad con luces encendidas\" :\n",
        "      return 2\n",
        "    elif row['Iluminacion'] ==\"Oscuridad sin iluminacion\" :\n",
        "      return 3\n",
        "\n",
        "datos_l['Iluminacion_numeric']=datos_l.apply (lambda row: numeric_Iluminacion(row), axis=1)    \n",
        "\n",
        "#Clima\n",
        "def numeric_Clima(row):\n",
        "    if row['Clima'] ==\"Bueno\" :\n",
        "      return 0\n",
        "    elif row['Clima'] ==\"LLuvioso y ventoso\" :\n",
        "      return 1\n",
        "    elif row['Clima'] ==\"Lluvioso\" :\n",
        "      return 2\n",
        "    elif row['Clima'] ==\"Niebla\" :\n",
        "      return 3\n",
        "    elif row['Clima'] ==\"Nieve\" :\n",
        "      return 4\n",
        "    elif row['Clima'] ==\"Nieve y ventoso\" :\n",
        "      return 5\n",
        "    elif row['Clima'] ==\"Ventoso\" :\n",
        "      return 6\n",
        "\n",
        "datos_l['Clima_numeric']=datos_l.apply (lambda row: numeric_Clima(row), axis=1) \n",
        "\n",
        "\n",
        "#Condicion_via\n",
        "def numeric_Condicion_via(row):\n",
        "    if row['Condicion_via'] ==\"Con nieve\" :\n",
        "      return 0\n",
        "    elif row['Condicion_via'] ==\"Hielo\" :\n",
        "      return 1\n",
        "    elif row['Condicion_via'] ==\"Humeda\" :\n",
        "      return 2\n",
        "    elif row['Condicion_via'] ==\"Inundada\" :\n",
        "      return 3\n",
        "    elif row['Condicion_via'] ==\"Seca\" :\n",
        "      return 4\n",
        "\n",
        "\n",
        "datos_l['Condicion_via_numeric']=datos_l.apply (lambda row: numeric_Condicion_via(row), axis=1)    \n",
        "\n",
        "\n",
        "#Condiciones especiales\n",
        "def numeric_Condiciones_especiales(row):\n",
        "    if row['Condiciones especiales'] ==\"No\" :\n",
        "      return 0\n",
        "    return 1\n",
        "\n",
        "datos_l['Condiciones_especiales_numeric']=datos_l.apply (lambda row: numeric_Condiciones_especiales(row), axis=1)    \n",
        "\n",
        "\n",
        "#Tipo_area\n",
        "def numeric_Tipo_area(row):\n",
        "    if row['Tipo_area'] ==\"Rural\" :\n",
        "      return 0\n",
        "    return 1\n",
        "\n",
        "datos_l['Tipo_area_numeric']=datos_l.apply (lambda row: numeric_Tipo_area(row), axis=1)    \n",
        "\n",
        "#Severidad_accidente\n",
        "def numeric_Severidad_accidente(row):\n",
        "    if row['Severidad_accidente'] ==\"Fatal\" :\n",
        "      return 0\n",
        "    elif row['Severidad_accidente'] ==\"Leve\" :\n",
        "      return 1\n",
        "    elif row['Severidad_accidente'] ==\"Serio\" :\n",
        "      return 2\n",
        "\n",
        "datos_l['Severidad_accidente_numeric']=datos_l.apply (lambda row: numeric_Severidad_accidente(row), axis=1)  "
      ],
      "metadata": {
        "id": "leBJ7SFMftyY"
      },
      "execution_count": null,
      "outputs": []
    },
    {
      "cell_type": "code",
      "source": [
        "#Verificar que los cambios se aplicaron correctamente\n",
        "# Lista de nombres de columnas\n",
        "lista = datos_l.columns.tolist()\n",
        "\n",
        "#Revisar diferentes valores que hay en las columnas para hacer limpieza\n",
        "for i in lista:\n",
        "  datos_ver=datos_l.groupby([i]).size()\n",
        "  print(datos_ver)\n",
        "  print('-'*20)"
      ],
      "metadata": {
        "colab": {
          "base_uri": "https://localhost:8080/"
        },
        "id": "Ju0doAHZjEc2",
        "outputId": "47d534f4-3121-4307-eaab-9447414582ce"
      },
      "execution_count": null,
      "outputs": [
        {
          "output_type": "stream",
          "name": "stdout",
          "text": [
            "Severidad_accidente\n",
            "Fatal     285\n",
            "Leve     1838\n",
            "Serio     605\n",
            "dtype: int64\n",
            "--------------------\n",
            "Numero_vehiculos\n",
            "1     927\n",
            "2    1515\n",
            "3     219\n",
            "4      51\n",
            "5      13\n",
            "6       2\n",
            "8       1\n",
            "dtype: int64\n",
            "--------------------\n",
            "Numero_victimas\n",
            "1     2042\n",
            "2      483\n",
            "3      119\n",
            "4       49\n",
            "5       22\n",
            "6        6\n",
            "7        3\n",
            "8        1\n",
            "9        1\n",
            "11       1\n",
            "13       1\n",
            "dtype: int64\n",
            "--------------------\n",
            "Dia_semana\n",
            "1    319\n",
            "2    377\n",
            "3    394\n",
            "4    392\n",
            "5    395\n",
            "6    477\n",
            "7    374\n",
            "dtype: int64\n",
            "--------------------\n",
            "Tipo_via\n",
            "Autovia              441\n",
            "Calzada             2049\n",
            "Carretera acceso      26\n",
            "Rotonda              155\n",
            "Un solo sentido       57\n",
            "dtype: int64\n",
            "--------------------\n",
            "Limite_velocidad\n",
            "20      22\n",
            "30    1759\n",
            "40     229\n",
            "50      93\n",
            "60     427\n",
            "70     198\n",
            "dtype: int64\n",
            "--------------------\n",
            "Iluminacion\n",
            "Luz_dia                           1948\n",
            "Oscuridad con luces apagadas        13\n",
            "Oscuridad con luces encendidas     605\n",
            "Oscuridad sin iluminacion          162\n",
            "dtype: int64\n",
            "--------------------\n",
            "Clima\n",
            "Bueno                 2216\n",
            "LLuvioso y ventoso       5\n",
            "Lluvioso               313\n",
            "Niebla                  39\n",
            "Nieve                   21\n",
            "Nieve y ventoso         54\n",
            "Ventoso                 80\n",
            "dtype: int64\n",
            "--------------------\n",
            "Condicion_via\n",
            "Con nieve      18\n",
            "Hielo          56\n",
            "Humeda        799\n",
            "Inundada        2\n",
            "Seca         1853\n",
            "dtype: int64\n",
            "--------------------\n",
            "Condiciones especiales\n",
            "No    2670\n",
            "Si      58\n",
            "dtype: int64\n",
            "--------------------\n",
            "Tipo_area\n",
            "Rural      894\n",
            "Urbano    1834\n",
            "dtype: int64\n",
            "--------------------\n",
            "Tipo_via_numeric\n",
            "0     441\n",
            "1    2049\n",
            "2     155\n",
            "3      26\n",
            "4      57\n",
            "dtype: int64\n",
            "--------------------\n",
            "Iluminacion_numeric\n",
            "0    1948\n",
            "1      13\n",
            "2     605\n",
            "3     162\n",
            "dtype: int64\n",
            "--------------------\n",
            "Clima_numeric\n",
            "0    2216\n",
            "1       5\n",
            "2     313\n",
            "3      39\n",
            "4      21\n",
            "5      54\n",
            "6      80\n",
            "dtype: int64\n",
            "--------------------\n",
            "Condicion_via_numeric\n",
            "0      18\n",
            "1      56\n",
            "2     799\n",
            "3       2\n",
            "4    1853\n",
            "dtype: int64\n",
            "--------------------\n",
            "Condiciones_especiales_numeric\n",
            "0    2670\n",
            "1      58\n",
            "dtype: int64\n",
            "--------------------\n",
            "Tipo_area_numeric\n",
            "0     894\n",
            "1    1834\n",
            "dtype: int64\n",
            "--------------------\n",
            "Severidad_accidente_numeric\n",
            "0     285\n",
            "1    1838\n",
            "2     605\n",
            "dtype: int64\n",
            "--------------------\n"
          ]
        }
      ]
    },
    {
      "cell_type": "code",
      "source": [
        "#Acá se eliminan  las variables 'Tipo_via', 'Iluminacion', 'Clima', 'Condicion_via', 'Condiciones especiales' y 'Tipo_area' que ya no se necesitan\n",
        "datos_t = datos_l.drop(['Tipo_via', 'Iluminacion', 'Clima', 'Condicion_via', 'Condiciones especiales','Tipo_area', 'Severidad_accidente'],axis=1)\n",
        "datos_t.info()"
      ],
      "metadata": {
        "colab": {
          "base_uri": "https://localhost:8080/"
        },
        "id": "Tm11b1I4pQHw",
        "outputId": "5eb20a5a-5818-49c1-cb13-09c6ec624463"
      },
      "execution_count": null,
      "outputs": [
        {
          "output_type": "stream",
          "name": "stdout",
          "text": [
            "<class 'pandas.core.frame.DataFrame'>\n",
            "Int64Index: 2728 entries, 0 to 2808\n",
            "Data columns (total 11 columns):\n",
            " #   Column                          Non-Null Count  Dtype\n",
            "---  ------                          --------------  -----\n",
            " 0   Numero_vehiculos                2728 non-null   int64\n",
            " 1   Numero_victimas                 2728 non-null   int64\n",
            " 2   Dia_semana                      2728 non-null   int64\n",
            " 3   Limite_velocidad                2728 non-null   int64\n",
            " 4   Tipo_via_numeric                2728 non-null   int64\n",
            " 5   Iluminacion_numeric             2728 non-null   int64\n",
            " 6   Clima_numeric                   2728 non-null   int64\n",
            " 7   Condicion_via_numeric           2728 non-null   int64\n",
            " 8   Condiciones_especiales_numeric  2728 non-null   int64\n",
            " 9   Tipo_area_numeric               2728 non-null   int64\n",
            " 10  Severidad_accidente_numeric     2728 non-null   int64\n",
            "dtypes: int64(11)\n",
            "memory usage: 255.8 KB\n"
          ]
        }
      ]
    },
    {
      "cell_type": "code",
      "source": [
        "#Visualización de todas las variables numéricas\n",
        "fig=plt.figure(figsize=(30,8))\n",
        "ax = sns.boxplot(data=datos_t, orient=\"v\")"
      ],
      "metadata": {
        "colab": {
          "base_uri": "https://localhost:8080/",
          "height": 304
        },
        "id": "B6f84hM8qFuA",
        "outputId": "ef23bfd5-60f8-431b-f51b-85e0f2a00446"
      },
      "execution_count": null,
      "outputs": [
        {
          "output_type": "display_data",
          "data": {
            "image/png": "[encoded data removed]",
            "text/plain": [
              "<Figure size 2160x576 with 1 Axes>"
            ]
          },
          "metadata": {}
        }
      ]
    },
    {
      "cell_type": "code",
      "source": [
        "datos_t.shape"
      ],
      "metadata": {
        "colab": {
          "base_uri": "https://localhost:8080/"
        },
        "id": "F5y2KzQVv0UY",
        "outputId": "8653baf7-b5b8-4db1-f3a5-ee45fe6a52ed"
      },
      "execution_count": null,
      "outputs": [
        {
          "output_type": "execute_result",
          "data": {
            "text/plain": [
              "(2728, 11)"
            ]
          },
          "metadata": {},
          "execution_count": 173
        }
      ]
    },
    {
      "cell_type": "markdown",
      "source": [
        "**Muestre un subconjunto de los datos luego del pre-procesamiento, para ilustrar cómo quedan los datos que utilizará para aplicar los algoritmos de aprendizaje.**"
      ],
      "metadata": {
        "id": "RPTxpr6-YQ9f"
      }
    },
    {
      "cell_type": "code",
      "source": [
        "datos_t.sample(10)"
      ],
      "metadata": {
        "colab": {
          "base_uri": "https://localhost:8080/",
          "height": 427
        },
        "id": "G6nThV0nx1tb",
        "outputId": "ba237dab-0909-4730-adb3-34e7a76bca45"
      },
      "execution_count": null,
      "outputs": [
        {
          "output_type": "execute_result",
          "data": {
            "text/html": [
              "\n",
              "  <div id=\"df-6be409f0-fce9-4481-a562-4d84c81ea0cb\">\n",
              "    <div class=\"colab-df-container\">\n",
              "      <div>\n",
              "<style scoped>\n",
              "    .dataframe tbody tr th:only-of-type {\n",
              "        vertical-align: middle;\n",
              "    }\n",
              "\n",
              "    .dataframe tbody tr th {\n",
              "        vertical-align: top;\n",
              "    }\n",
              "\n",
              "    .dataframe thead th {\n",
              "        text-align: right;\n",
              "    }\n",
              "</style>\n",
              "<table border=\"1\" class=\"dataframe\">\n",
              "  <thead>\n",
              "    <tr style=\"text-align: right;\">\n",
              "      <th></th>\n",
              "      <th>Numero_vehiculos</th>\n",
              "      <th>Numero_victimas</th>\n",
              "      <th>Dia_semana</th>\n",
              "      <th>Limite_velocidad</th>\n",
              "      <th>Tipo_via_numeric</th>\n",
              "      <th>Iluminacion_numeric</th>\n",
              "      <th>Clima_numeric</th>\n",
              "      <th>Condicion_via_numeric</th>\n",
              "      <th>Condiciones_especiales_numeric</th>\n",
              "      <th>Tipo_area_numeric</th>\n",
              "      <th>Severidad_accidente_numeric</th>\n",
              "    </tr>\n",
              "  </thead>\n",
              "  <tbody>\n",
              "    <tr>\n",
              "      <th>490</th>\n",
              "      <td>1</td>\n",
              "      <td>1</td>\n",
              "      <td>5</td>\n",
              "      <td>40</td>\n",
              "      <td>2</td>\n",
              "      <td>0</td>\n",
              "      <td>5</td>\n",
              "      <td>2</td>\n",
              "      <td>0</td>\n",
              "      <td>0</td>\n",
              "      <td>2</td>\n",
              "    </tr>\n",
              "    <tr>\n",
              "      <th>1582</th>\n",
              "      <td>1</td>\n",
              "      <td>1</td>\n",
              "      <td>6</td>\n",
              "      <td>60</td>\n",
              "      <td>1</td>\n",
              "      <td>0</td>\n",
              "      <td>2</td>\n",
              "      <td>2</td>\n",
              "      <td>0</td>\n",
              "      <td>0</td>\n",
              "      <td>1</td>\n",
              "    </tr>\n",
              "    <tr>\n",
              "      <th>1620</th>\n",
              "      <td>3</td>\n",
              "      <td>1</td>\n",
              "      <td>6</td>\n",
              "      <td>70</td>\n",
              "      <td>0</td>\n",
              "      <td>2</td>\n",
              "      <td>2</td>\n",
              "      <td>2</td>\n",
              "      <td>0</td>\n",
              "      <td>0</td>\n",
              "      <td>1</td>\n",
              "    </tr>\n",
              "    <tr>\n",
              "      <th>2138</th>\n",
              "      <td>1</td>\n",
              "      <td>1</td>\n",
              "      <td>3</td>\n",
              "      <td>40</td>\n",
              "      <td>1</td>\n",
              "      <td>0</td>\n",
              "      <td>2</td>\n",
              "      <td>2</td>\n",
              "      <td>0</td>\n",
              "      <td>0</td>\n",
              "      <td>1</td>\n",
              "    </tr>\n",
              "    <tr>\n",
              "      <th>26</th>\n",
              "      <td>3</td>\n",
              "      <td>1</td>\n",
              "      <td>6</td>\n",
              "      <td>60</td>\n",
              "      <td>1</td>\n",
              "      <td>0</td>\n",
              "      <td>0</td>\n",
              "      <td>4</td>\n",
              "      <td>0</td>\n",
              "      <td>0</td>\n",
              "      <td>0</td>\n",
              "    </tr>\n",
              "    <tr>\n",
              "      <th>152</th>\n",
              "      <td>2</td>\n",
              "      <td>1</td>\n",
              "      <td>6</td>\n",
              "      <td>30</td>\n",
              "      <td>1</td>\n",
              "      <td>0</td>\n",
              "      <td>3</td>\n",
              "      <td>4</td>\n",
              "      <td>0</td>\n",
              "      <td>1</td>\n",
              "      <td>0</td>\n",
              "    </tr>\n",
              "    <tr>\n",
              "      <th>2678</th>\n",
              "      <td>2</td>\n",
              "      <td>1</td>\n",
              "      <td>6</td>\n",
              "      <td>30</td>\n",
              "      <td>4</td>\n",
              "      <td>0</td>\n",
              "      <td>0</td>\n",
              "      <td>4</td>\n",
              "      <td>0</td>\n",
              "      <td>1</td>\n",
              "      <td>1</td>\n",
              "    </tr>\n",
              "    <tr>\n",
              "      <th>757</th>\n",
              "      <td>2</td>\n",
              "      <td>1</td>\n",
              "      <td>2</td>\n",
              "      <td>30</td>\n",
              "      <td>1</td>\n",
              "      <td>2</td>\n",
              "      <td>0</td>\n",
              "      <td>4</td>\n",
              "      <td>0</td>\n",
              "      <td>1</td>\n",
              "      <td>2</td>\n",
              "    </tr>\n",
              "    <tr>\n",
              "      <th>1970</th>\n",
              "      <td>2</td>\n",
              "      <td>2</td>\n",
              "      <td>1</td>\n",
              "      <td>30</td>\n",
              "      <td>1</td>\n",
              "      <td>2</td>\n",
              "      <td>0</td>\n",
              "      <td>2</td>\n",
              "      <td>0</td>\n",
              "      <td>1</td>\n",
              "      <td>1</td>\n",
              "    </tr>\n",
              "    <tr>\n",
              "      <th>11</th>\n",
              "      <td>2</td>\n",
              "      <td>1</td>\n",
              "      <td>6</td>\n",
              "      <td>30</td>\n",
              "      <td>1</td>\n",
              "      <td>0</td>\n",
              "      <td>0</td>\n",
              "      <td>4</td>\n",
              "      <td>0</td>\n",
              "      <td>1</td>\n",
              "      <td>0</td>\n",
              "    </tr>\n",
              "  </tbody>\n",
              "</table>\n",
              "</div>\n",
              "      <button class=\"colab-df-convert\" onclick=\"convertToInteractive('df-6be409f0-fce9-4481-a562-4d84c81ea0cb')\"\n",
              "              title=\"Convert this dataframe to an interactive table.\"\n",
              "              style=\"display:none;\">\n",
              "        \n",
              "  <svg xmlns=\"http://www.w3.org/2000/svg\" height=\"24px\"viewBox=\"0 0 24 24\"\n",
              "       width=\"24px\">\n",
              "    <path d=\"M0 0h24v24H0V0z\" fill=\"none\"/>\n",
              "    <path d=\"M18.56 5.44l.94 2.06.94-2.06 2.06-.94-2.06-.94-.94-2.06-.94 2.06-2.06.94zm-11 1L8.5 8.5l.94-2.06 2.06-.94-2.06-.94L8.5 2.5l-.94 2.06-2.06.94zm10 10l.94 2.06.94-2.06 2.06-.94-2.06-.94-.94-2.06-.94 2.06-2.06.94z\"/><path d=\"M17.41 7.96l-1.37-1.37c-.4-.4-.92-.59-1.43-.59-.52 0-1.04.2-1.43.59L10.3 9.45l-7.72 7.72c-.78.78-.78 2.05 0 2.83L4 21.41c.39.39.9.59 1.41.59.51 0 1.02-.2 1.41-.59l7.78-7.78 2.81-2.81c.8-.78.8-2.07 0-2.86zM5.41 20L4 18.59l7.72-7.72 1.47 1.35L5.41 20z\"/>\n",
              "  </svg>\n",
              "      </button>\n",
              "      \n",
              "  <style>\n",
              "    .colab-df-container {\n",
              "      display:flex;\n",
              "      flex-wrap:wrap;\n",
              "      gap: 12px;\n",
              "    }\n",
              "\n",
              "    .colab-df-convert {\n",
              "      background-color: #E8F0FE;\n",
              "      border: none;\n",
              "      border-radius: 50%;\n",
              "      cursor: pointer;\n",
              "      display: none;\n",
              "      fill: #1967D2;\n",
              "      height: 32px;\n",
              "      padding: 0 0 0 0;\n",
              "      width: 32px;\n",
              "    }\n",
              "\n",
              "    .colab-df-convert:hover {\n",
              "      background-color: #E2EBFA;\n",
              "      box-shadow: 0px 1px 2px rgba(60, 64, 67, 0.3), 0px 1px 3px 1px rgba(60, 64, 67, 0.15);\n",
              "      fill: #174EA6;\n",
              "    }\n",
              "\n",
              "    [theme=dark] .colab-df-convert {\n",
              "      background-color: #3B4455;\n",
              "      fill: #D2E3FC;\n",
              "    }\n",
              "\n",
              "    [theme=dark] .colab-df-convert:hover {\n",
              "      background-color: #434B5C;\n",
              "      box-shadow: 0px 1px 3px 1px rgba(0, 0, 0, 0.15);\n",
              "      filter: drop-shadow(0px 1px 2px rgba(0, 0, 0, 0.3));\n",
              "      fill: #FFFFFF;\n",
              "    }\n",
              "  </style>\n",
              "\n",
              "      <script>\n",
              "        const buttonEl =\n",
              "          document.querySelector('#df-6be409f0-fce9-4481-a562-4d84c81ea0cb button.colab-df-convert');\n",
              "        buttonEl.style.display =\n",
              "          google.colab.kernel.accessAllowed ? 'block' : 'none';\n",
              "\n",
              "        async function convertToInteractive(key) {\n",
              "          const element = document.querySelector('#df-6be409f0-fce9-4481-a562-4d84c81ea0cb');\n",
              "          const dataTable =\n",
              "            await google.colab.kernel.invokeFunction('convertToInteractive',\n",
              "                                                     [key], {});\n",
              "          if (!dataTable) return;\n",
              "\n",
              "          const docLinkHtml = 'Like what you see? Visit the ' +\n",
              "            '<a target=\"_blank\" href=https://colab.research.google.com/notebooks/data_table.ipynb>data table notebook</a>'\n",
              "            + ' to learn more about interactive tables.';\n",
              "          element.innerHTML = '';\n",
              "          dataTable['output_type'] = 'display_data';\n",
              "          await google.colab.output.renderOutput(dataTable, element);\n",
              "          const docLink = document.createElement('div');\n",
              "          docLink.innerHTML = docLinkHtml;\n",
              "          element.appendChild(docLink);\n",
              "        }\n",
              "      </script>\n",
              "    </div>\n",
              "  </div>\n",
              "  "
            ],
            "text/plain": [
              "      Numero_vehiculos  Numero_victimas  Dia_semana  Limite_velocidad  \\\n",
              "490                  1                1           5                40   \n",
              "1582                 1                1           6                60   \n",
              "1620                 3                1           6                70   \n",
              "2138                 1                1           3                40   \n",
              "26                   3                1           6                60   \n",
              "152                  2                1           6                30   \n",
              "2678                 2                1           6                30   \n",
              "757                  2                1           2                30   \n",
              "1970                 2                2           1                30   \n",
              "11                   2                1           6                30   \n",
              "\n",
              "      Tipo_via_numeric  Iluminacion_numeric  Clima_numeric  \\\n",
              "490                  2                    0              5   \n",
              "1582                 1                    0              2   \n",
              "1620                 0                    2              2   \n",
              "2138                 1                    0              2   \n",
              "26                   1                    0              0   \n",
              "152                  1                    0              3   \n",
              "2678                 4                    0              0   \n",
              "757                  1                    2              0   \n",
              "1970                 1                    2              0   \n",
              "11                   1                    0              0   \n",
              "\n",
              "      Condicion_via_numeric  Condiciones_especiales_numeric  \\\n",
              "490                       2                               0   \n",
              "1582                      2                               0   \n",
              "1620                      2                               0   \n",
              "2138                      2                               0   \n",
              "26                        4                               0   \n",
              "152                       4                               0   \n",
              "2678                      4                               0   \n",
              "757                       4                               0   \n",
              "1970                      2                               0   \n",
              "11                        4                               0   \n",
              "\n",
              "      Tipo_area_numeric  Severidad_accidente_numeric  \n",
              "490                   0                            2  \n",
              "1582                  0                            1  \n",
              "1620                  0                            1  \n",
              "2138                  0                            1  \n",
              "26                    0                            0  \n",
              "152                   1                            0  \n",
              "2678                  1                            1  \n",
              "757                   1                            2  \n",
              "1970                  1                            1  \n",
              "11                    1                            0  "
            ]
          },
          "metadata": {},
          "execution_count": 174
        }
      ]
    },
    {
      "cell_type": "markdown",
      "source": [
        "##5. KNN\n"
      ],
      "metadata": {
        "id": "79Xv4BC4RtVg"
      }
    },
    {
      "cell_type": "code",
      "source": [
        "# vizualizar las proporciones con un diagrama de barras.\n",
        "ax = sns.countplot(x='Severidad_accidente_numeric', data=datos_t)"
      ],
      "metadata": {
        "colab": {
          "base_uri": "https://localhost:8080/",
          "height": 285
        },
        "id": "webo0PKhUhxb",
        "outputId": "f4191abb-5c83-4dc1-aa36-d4c7b3005d83"
      },
      "execution_count": null,
      "outputs": [
        {
          "output_type": "display_data",
          "data": {
            "image/png": "[encoded data removed]",
            "text/plain": [
              "<Figure size 432x288 with 1 Axes>"
            ]
          },
          "metadata": {}
        }
      ]
    },
    {
      "cell_type": "markdown",
      "source": [
        "Los datos se ven muy desbalanceados, por esta razón será necesario aplicar un algoritmo como SMOTE que permita tener una mejor distribución de estos."
      ],
      "metadata": {
        "id": "ZWoZoB4iU9hL"
      }
    },
    {
      "cell_type": "code",
      "source": [
        "# Vamos a seleccionar de nuestro conjunto solo los atributos numéricos.\n",
        "number_cols = datos_t.dtypes[(datos_t.dtypes == np.int64) | (datos_t.dtypes == np.float64)].index \n",
        "number_cols = datos_t.select_dtypes(include = ['int64','float']).columns\n",
        "number_cols"
      ],
      "metadata": {
        "colab": {
          "base_uri": "https://localhost:8080/"
        },
        "id": "dpoZuf6RVurm",
        "outputId": "9d909b01-4d28-4101-c361-6382202cda71"
      },
      "execution_count": null,
      "outputs": [
        {
          "output_type": "execute_result",
          "data": {
            "text/plain": [
              "Index(['Numero_vehiculos', 'Numero_victimas', 'Dia_semana', 'Limite_velocidad',\n",
              "       'Tipo_via_numeric', 'Iluminacion_numeric', 'Clima_numeric',\n",
              "       'Condicion_via_numeric', 'Condiciones_especiales_numeric',\n",
              "       'Tipo_area_numeric', 'Severidad_accidente_numeric'],\n",
              "      dtype='object')"
            ]
          },
          "metadata": {},
          "execution_count": 177
        }
      ]
    },
    {
      "cell_type": "code",
      "source": [
        "datos_m = datos_t[number_cols]\n",
        "# Revisión del total de registros\n",
        "datos_m.shape"
      ],
      "metadata": {
        "colab": {
          "base_uri": "https://localhost:8080/"
        },
        "id": "zDgzciF5Vy6d",
        "outputId": "382fce2d-9902-4c55-8648-096804045cf3"
      },
      "execution_count": null,
      "outputs": [
        {
          "output_type": "execute_result",
          "data": {
            "text/plain": [
              "(2728, 11)"
            ]
          },
          "metadata": {},
          "execution_count": 178
        }
      ]
    },
    {
      "cell_type": "markdown",
      "source": [
        "###5.1 KNN sin SMOTE, ni hiperparámetros"
      ],
      "metadata": {
        "id": "2fuACw3MViLW"
      }
    },
    {
      "cell_type": "code",
      "source": [
        "# Se selecciona la variable objetivo, en este caso \"Severidad_accidente_numeric\".\n",
        "Y = datos_m['Severidad_accidente_numeric']\n",
        "# Del conjunto de datos se elimina la variable \"Severidad_accidente_numeric\"\n",
        "X = datos_m.drop(['Severidad_accidente_numeric'], axis=1)\n",
        "\n",
        "# Dividir los datos en entrenamiento y test\n",
        "X_train, X_test, Y_train, Y_test = train_test_split(X, Y, test_size=0.2, random_state=0)\n",
        "\n",
        "# Utilicemos un número de vecinos = 3 \n",
        "modelo_knn = KNeighborsClassifier(n_neighbors=3)\n",
        "modelo_knn = modelo_knn.fit(X_train, Y_train)\n",
        "\n",
        "y_pred_train = modelo_knn.predict(X_train)\n",
        "y_pred_test = modelo_knn.predict(X_test)\n",
        "print('Exactitud sobre entrenamiento: %.2f' % accuracy_score(Y_train, y_pred_train))\n",
        "print('Exactitud sobre test: %.2f' % accuracy_score(Y_test, y_pred_test))"
      ],
      "metadata": {
        "colab": {
          "base_uri": "https://localhost:8080/"
        },
        "id": "4o0Gjt8CVbaj",
        "outputId": "ea549621-cafe-41da-dd79-64bb3def98ce"
      },
      "execution_count": null,
      "outputs": [
        {
          "output_type": "stream",
          "name": "stdout",
          "text": [
            "Exactitud sobre entrenamiento: 0.70\n",
            "Exactitud sobre test: 0.55\n"
          ]
        }
      ]
    },
    {
      "cell_type": "code",
      "source": [
        "pd.value_counts(Y)"
      ],
      "metadata": {
        "colab": {
          "base_uri": "https://localhost:8080/"
        },
        "id": "EGq9mn9IW1Gp",
        "outputId": "afeedea8-25ce-42dc-9f49-a317b328dcb2"
      },
      "execution_count": null,
      "outputs": [
        {
          "output_type": "execute_result",
          "data": {
            "text/plain": [
              "1    1838\n",
              "2     605\n",
              "0     285\n",
              "Name: Severidad_accidente_numeric, dtype: int64"
            ]
          },
          "metadata": {},
          "execution_count": 180
        }
      ]
    },
    {
      "cell_type": "code",
      "source": [
        "# Mostrar reporte de clasificación sobre test\n",
        "print(classification_report(Y_test, y_pred_test))"
      ],
      "metadata": {
        "colab": {
          "base_uri": "https://localhost:8080/"
        },
        "id": "2-rwOVLdW5J6",
        "outputId": "4bfc2570-2085-4e29-fe82-0533c443b0d9"
      },
      "execution_count": null,
      "outputs": [
        {
          "output_type": "stream",
          "name": "stdout",
          "text": [
            "              precision    recall  f1-score   support\n",
            "\n",
            "           0       0.18      0.29      0.22        51\n",
            "           1       0.69      0.73      0.71       368\n",
            "           2       0.25      0.14      0.18       127\n",
            "\n",
            "    accuracy                           0.55       546\n",
            "   macro avg       0.37      0.39      0.37       546\n",
            "weighted avg       0.54      0.55      0.54       546\n",
            "\n"
          ]
        }
      ]
    },
    {
      "cell_type": "markdown",
      "source": [
        "Fatal=0\n",
        "Leve=1\n",
        "Serio=2\n",
        "\n",
        "VP FN\n",
        "\n",
        "FP VN"
      ],
      "metadata": {
        "id": "LSGQ_xghc--o"
      }
    },
    {
      "cell_type": "code",
      "source": [
        "# Se puede visualizar la matriz de confusión\n",
        "plot_confusion_matrix(modelo_knn, X_test, Y_test)  \n",
        "plt.show()"
      ],
      "metadata": {
        "colab": {
          "base_uri": "https://localhost:8080/",
          "height": 340
        },
        "id": "ay4aCvbKaRmz",
        "outputId": "37726004-717b-4c70-bd0b-207db1520982"
      },
      "execution_count": null,
      "outputs": [
        {
          "output_type": "stream",
          "name": "stderr",
          "text": [
            "/usr/local/lib/python3.7/dist-packages/sklearn/utils/deprecation.py:87: FutureWarning: Function plot_confusion_matrix is deprecated; Function `plot_confusion_matrix` is deprecated in 1.0 and will be removed in 1.2. Use one of the class methods: ConfusionMatrixDisplay.from_predictions or ConfusionMatrixDisplay.from_estimator.\n",
            "  warnings.warn(msg, category=FutureWarning)\n"
          ]
        },
        {
          "output_type": "display_data",
          "data": {
            "image/png": "[encoded data removed]",
            "text/plain": [
              "<Figure size 432x288 with 2 Axes>"
            ]
          },
          "metadata": {}
        }
      ]
    },
    {
      "cell_type": "markdown",
      "source": [
        "###5.2 KNN con SMOTE\n",
        "Se puede notar que lo resultados obtenidos no son los mejores al estar desbalanceados.  \n",
        "\n",
        "Entonces SMOTE para balancear los datos y normalizar para  obtener mejores resultados.\n",
        "\n",
        "SMOTE: Hacer oversampling (aumenta los registros de la clase minoritaria). Coge una fila al azar de la clase minoritaria, miro los más cercanos y hago por ejemplo, un promedio de los valores de ellos. Con eso se garantiza que se crea un nuevo registro que tiene una distribución similar a la de los datos inicialmente escogidos. "
      ],
      "metadata": {
        "id": "UIN9fFGPdiOv"
      }
    },
    {
      "cell_type": "code",
      "source": [
        "# Probemos normalizando los datos\n",
        "X_n = X.copy()\n",
        "X_n=(X_n-X_n.min())/(X_n.max()-X_n.min())"
      ],
      "metadata": {
        "id": "4XsW4xJvhnTK"
      },
      "execution_count": null,
      "outputs": []
    },
    {
      "cell_type": "code",
      "source": [
        "from imblearn.over_sampling import SMOTE \n",
        "\n",
        "sm = SMOTE(random_state=0)\n",
        "\n",
        "X_sm, y_sm = sm.fit_resample(X_n, Y)\n",
        "\n",
        "print(f'''Shape of X before SMOTE: {X_n.shape}\n",
        "Shape of X after SMOTE: {X_sm.shape}''')\n",
        "\n",
        "print('\\nBalance of positive and negative classes (%):')\n",
        "y_sm.value_counts(normalize=True) * 100"
      ],
      "metadata": {
        "colab": {
          "base_uri": "https://localhost:8080/"
        },
        "id": "vdPbFdN1eQH9",
        "outputId": "603c80e5-75e2-48d0-b05e-6752b0596e40"
      },
      "execution_count": null,
      "outputs": [
        {
          "output_type": "stream",
          "name": "stdout",
          "text": [
            "Shape of X before SMOTE: (2728, 10)\n",
            "Shape of X after SMOTE: (5514, 10)\n",
            "\n",
            "Balance of positive and negative classes (%):\n"
          ]
        },
        {
          "output_type": "execute_result",
          "data": {
            "text/plain": [
              "0    33.333333\n",
              "2    33.333333\n",
              "1    33.333333\n",
              "Name: Severidad_accidente_numeric, dtype: float64"
            ]
          },
          "metadata": {},
          "execution_count": 193
        }
      ]
    },
    {
      "cell_type": "code",
      "source": [
        "#ver la cantidad de datos en cada categoría después de SMOTE\n",
        "pd.value_counts(y_sm)"
      ],
      "metadata": {
        "colab": {
          "base_uri": "https://localhost:8080/"
        },
        "id": "YfQMHpODe6cY",
        "outputId": "f309a912-db54-4604-e05f-049a1f05f218"
      },
      "execution_count": null,
      "outputs": [
        {
          "output_type": "execute_result",
          "data": {
            "text/plain": [
              "0    1838\n",
              "2    1838\n",
              "1    1838\n",
              "Name: Severidad_accidente_numeric, dtype: int64"
            ]
          },
          "metadata": {},
          "execution_count": 194
        }
      ]
    },
    {
      "cell_type": "code",
      "source": [
        "# Dividir los datos en entrenamiento y test con SMOTE\n",
        "X_train, X_test, Y_train, Y_test = train_test_split(X_sm, y_sm, test_size=0.2, random_state=0)\n",
        "\n",
        "# Utilicemos un número de vecinos = 3\n",
        "modelo_knn = KNeighborsClassifier(n_neighbors=3)\n",
        "modelo_knn = modelo_knn.fit(X_train, Y_train)\n",
        "\n",
        "y_pred_train = modelo_knn.predict(X_train)\n",
        "y_pred_test = modelo_knn.predict(X_test)\n",
        "print('Exactitud sobre entrenamiento: %.2f' % accuracy_score(Y_train, y_pred_train))\n",
        "print('Exactitud sobre test: %.2f' % accuracy_score(Y_test, y_pred_test))"
      ],
      "metadata": {
        "colab": {
          "base_uri": "https://localhost:8080/"
        },
        "id": "VkGh0rKBfGWl",
        "outputId": "97588e8b-fef9-49c4-d000-76c5c901d21e"
      },
      "execution_count": null,
      "outputs": [
        {
          "output_type": "stream",
          "name": "stdout",
          "text": [
            "Exactitud sobre entrenamiento: 0.76\n",
            "Exactitud sobre test: 0.65\n"
          ]
        }
      ]
    },
    {
      "cell_type": "code",
      "source": [
        "# Mostrar reporte de clasificación sobre test SMOTE\n",
        "print(classification_report(Y_test, y_pred_test))"
      ],
      "metadata": {
        "colab": {
          "base_uri": "https://localhost:8080/"
        },
        "id": "booulO7rfPbm",
        "outputId": "12e2faca-bb3b-4d7a-a43f-30bc721fc2b5"
      },
      "execution_count": null,
      "outputs": [
        {
          "output_type": "stream",
          "name": "stdout",
          "text": [
            "              precision    recall  f1-score   support\n",
            "\n",
            "           0       0.69      0.85      0.76       367\n",
            "           1       0.62      0.54      0.58       358\n",
            "           2       0.62      0.56      0.59       378\n",
            "\n",
            "    accuracy                           0.65      1103\n",
            "   macro avg       0.64      0.65      0.64      1103\n",
            "weighted avg       0.64      0.65      0.64      1103\n",
            "\n"
          ]
        }
      ]
    },
    {
      "cell_type": "code",
      "source": [
        "# visualizar la matriz de confusión CON SMOTE\n",
        "plot_confusion_matrix(modelo_knn, X_test, Y_test)  \n",
        "plt.show()\n"
      ],
      "metadata": {
        "colab": {
          "base_uri": "https://localhost:8080/",
          "height": 340
        },
        "id": "4sgUdqwofXzi",
        "outputId": "2c7279b7-e7bc-4ea9-a4fc-f5289ee11c34"
      },
      "execution_count": null,
      "outputs": [
        {
          "output_type": "stream",
          "name": "stderr",
          "text": [
            "/usr/local/lib/python3.7/dist-packages/sklearn/utils/deprecation.py:87: FutureWarning: Function plot_confusion_matrix is deprecated; Function `plot_confusion_matrix` is deprecated in 1.0 and will be removed in 1.2. Use one of the class methods: ConfusionMatrixDisplay.from_predictions or ConfusionMatrixDisplay.from_estimator.\n",
            "  warnings.warn(msg, category=FutureWarning)\n"
          ]
        },
        {
          "output_type": "display_data",
          "data": {
            "image/png": "[encoded data removed]",
            "text/plain": [
              "<Figure size 432x288 with 2 Axes>"
            ]
          },
          "metadata": {}
        }
      ]
    },
    {
      "cell_type": "markdown",
      "source": [
        "###5.3 KNN con SMOTE y con búsqueda de hiperparámetros\n",
        "Los resultados mejoraron pero aún pueden hacerlo más, por eso ahora se buscan los mejores parámetros (número de vecinos y función: #1 Manhattan, #2 ecuclidiana) con el mejor cross-validation score."
      ],
      "metadata": {
        "id": "PB5gXe5effPg"
      }
    },
    {
      "cell_type": "code",
      "source": [],
      "metadata": {
        "id": "4JgWxGI_hKfA"
      },
      "execution_count": null,
      "outputs": []
    },
    {
      "cell_type": "code",
      "source": [
        "# Primero definamos el espacio de búsqueda\n",
        "n_vecinos =  list(range(1,11))\n",
        "# Fijemos el número de particiones. Utilizaremos K = 10.\n",
        "particiones = KFold(n_splits=10, shuffle=True, random_state = 0)"
      ],
      "metadata": {
        "id": "na_pQu5_gDMm"
      },
      "execution_count": null,
      "outputs": []
    },
    {
      "cell_type": "code",
      "source": [
        "param_grid = {'n_neighbors': n_vecinos, 'p': [1, 2]} #1 Manhattan, 2 euclidiana"
      ],
      "metadata": {
        "id": "Yhw3teu3gH41"
      },
      "execution_count": null,
      "outputs": []
    },
    {
      "cell_type": "markdown",
      "source": [
        "**3.\t[15%] Muestre el resultado que arroja la ejecución del algoritmo o algoritmos de machine learning propuestos, con los datos suministrados para la consultoría. Explique cómo el resultado obtenido responde a los objetivos de la organización que lo contrató.**"
      ],
      "metadata": {
        "id": "H4ZoyinmlK3S"
      }
    },
    {
      "cell_type": "code",
      "source": [
        "clasificadorKNN = KNeighborsClassifier()\n",
        "modelo_Knn = GridSearchCV(clasificadorKNN, param_grid, cv=particiones)\n",
        "modelo_Knn.fit(X_train,Y_train) \n",
        "print(\"Mejor parámetro: {}\".format(modelo_Knn.best_params_)) \n",
        "print(\"Mejor cross-validation score: {:.2f}\".format(modelo_Knn.best_score_))"
      ],
      "metadata": {
        "colab": {
          "base_uri": "https://localhost:8080/"
        },
        "id": "PuUNQisMgLIM",
        "outputId": "988383c0-7d05-4c6a-fe5c-422bda5c9457"
      },
      "execution_count": null,
      "outputs": [
        {
          "output_type": "stream",
          "name": "stdout",
          "text": [
            "Mejor parámetro: {'n_neighbors': 1, 'p': 2}\n",
            "Mejor cross-validation score: 0.67\n"
          ]
        }
      ]
    },
    {
      "cell_type": "code",
      "source": [
        "# Obtener el mejor modelo.\n",
        "modelo_final = modelo_Knn.best_estimator_\n",
        "# Probemos ahora este modelo sobre test.\n",
        "y_pred_train = modelo_final.predict(X_train)\n",
        "y_pred_test = modelo_final.predict(X_test)\n",
        "print('Exactitud sobre entrenamiento: %.2f' % accuracy_score(Y_train, y_pred_train))\n",
        "print('Exactitud sobre test: %.2f' % accuracy_score(Y_test, y_pred_test))"
      ],
      "metadata": {
        "colab": {
          "base_uri": "https://localhost:8080/"
        },
        "id": "RFtrWmZQgU20",
        "outputId": "0cd8046c-2f79-4c53-adc3-c0fbf729fbc0"
      },
      "execution_count": null,
      "outputs": [
        {
          "output_type": "stream",
          "name": "stdout",
          "text": [
            "Exactitud sobre entrenamiento: 0.83\n",
            "Exactitud sobre test: 0.65\n"
          ]
        }
      ]
    },
    {
      "cell_type": "code",
      "source": [
        "# Mostrar reporte de clasificación sobre test\n",
        "print(classification_report(Y_test, y_pred_test))"
      ],
      "metadata": {
        "colab": {
          "base_uri": "https://localhost:8080/"
        },
        "id": "WvSDmRbLiLgy",
        "outputId": "e85c839e-8be7-402c-d4ba-6ffc1e269899"
      },
      "execution_count": null,
      "outputs": [
        {
          "output_type": "stream",
          "name": "stdout",
          "text": [
            "              precision    recall  f1-score   support\n",
            "\n",
            "           0       0.74      0.82      0.78       367\n",
            "           1       0.60      0.53      0.57       358\n",
            "           2       0.60      0.60      0.60       378\n",
            "\n",
            "    accuracy                           0.65      1103\n",
            "   macro avg       0.65      0.65      0.65      1103\n",
            "weighted avg       0.65      0.65      0.65      1103\n",
            "\n"
          ]
        }
      ]
    },
    {
      "cell_type": "code",
      "source": [
        "# Se puede visualizar la matriz de confusión CON SMOTE con el mejor modelo y parámetros\n",
        "plot_confusion_matrix(modelo_Knn, X_test, Y_test)  \n",
        "plt.show()"
      ],
      "metadata": {
        "colab": {
          "base_uri": "https://localhost:8080/",
          "height": 342
        },
        "id": "xB-fLTgMiRJX",
        "outputId": "65c1527e-eb94-4b10-921c-9e9c6a7a1c7d"
      },
      "execution_count": null,
      "outputs": [
        {
          "output_type": "stream",
          "name": "stderr",
          "text": [
            "/usr/local/lib/python3.7/dist-packages/sklearn/utils/deprecation.py:87: FutureWarning: Function plot_confusion_matrix is deprecated; Function `plot_confusion_matrix` is deprecated in 1.0 and will be removed in 1.2. Use one of the class methods: ConfusionMatrixDisplay.from_predictions or ConfusionMatrixDisplay.from_estimator.\n",
            "  warnings.warn(msg, category=FutureWarning)\n"
          ]
        },
        {
          "output_type": "display_data",
          "data": {
            "image/png": "[encoded data removed]",
            "text/plain": [
              "<Figure size 432x288 with 2 Axes>"
            ]
          },
          "metadata": {}
        }
      ]
    },
    {
      "cell_type": "markdown",
      "metadata": {
        "id": "BSrzL0Ax02Nj"
      },
      "source": [
        "###6. Analizar y concluir\n",
        "\n",
        "*   Se obtuvo que el mejor número de vecinos es 1, y la mejor función es la #2= Euclidiana. \n",
        "*   se puede notar una leve mejora  en los resultados de las métricas de Precisión, recall y accuracy en general, pues se obtienen menos falsos positivos y negativos. \n",
        "\n",
        "-Precisión: Esto quiere decir que un 74% de los casos realmente serán fatales y  se equivocará aproximadamente un 26% de las veces en clasificarlos. \n",
        "\n",
        "-Recall: Es decir, el modelo es capaz de identificar un 82% de los accidentes que serían fatales. Además un 53% de aquellos que serían leves, y un 60% de aquellos que serían serios.\n",
        "\n",
        "-Accuracy: el modelo está acertando un 78% de las veces con su predicción, y es más confiable pues los datos están balanceados (hay igual cantidad de datos para 0 , 1 y 2).\n"
      ]
    }
  ],
  "metadata": {
    "kernelspec": {
      "display_name": "Python 3",
      "language": "python",
      "name": "python3"
    },
    "language_info": {
      "codemirror_mode": {
        "name": "ipython",
        "version": 3
      },
      "file_extension": ".py",
      "mimetype": "text/x-python",
      "name": "python",
      "nbconvert_exporter": "python",
      "pygments_lexer": "ipython3",
      "version": "3.8.3"
    },
    "colab": {
      "provenance": [],
      "collapsed_sections": []
    }
  },
  "nbformat": 4,
  "nbformat_minor": 0
}
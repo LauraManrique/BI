{
  "cells": [
    {
      "cell_type": "markdown",
      "metadata": {
        "id": "4s_bN_QtQc1g"
      },
      "source": [
        "## Tarea de clasificación.\n",
        "\n",
        "El objetivo de este notebook es mostrar cómo resolver una tarea de clasificación utilizando la librería scikit-learn. Tomaremos como caso de estudio el conjunto de canciones y veremos cómo realizar la preparación de los datos para el algoritmo de árboles de decisión. También conocerás algunas métricas para evaluar un modelo de clasificación y cómo estimar su capacidad de generalización. Además, veremos cómo ajustar los hiperparámetros del algoritmo con técnicas de validación. \n",
        "Se explicará paso a paso:\n",
        "\n",
        "1. Preparar los datos para el modelado.\n",
        "2. Crear un modelo de árbol de decisión.\n",
        "3. Utilizar técnicas de validación para el ajuste de hiperparámetros propios de árboles de decisión.\n",
        "4. Evaluar el modelo.\n",
        "5. Interpretar el modelo con base en los objetivos de negocio."
      ]
    },
    {
      "cell_type": "markdown",
      "metadata": {
        "id": "glywww7sQc1h"
      },
      "source": [
        "### 1. Importación de librerías \n",
        "\n",
        "En las siguientes líneas de código se importan las librerías y herramientas necesarias para desarrollar el caso de uso."
      ]
    },
    {
      "cell_type": "code",
      "execution_count": null,
      "metadata": {
        "id": "gPPjBCggQc1j"
      },
      "outputs": [],
      "source": [
        "# Librerías para manejo de datos\n",
        "import pandas as pd\n",
        "pd.set_option('display.max_columns', 30) # Número máximo de columnas a mostrar\n",
        "pd.set_option('display.max_rows', 50) # Numero máximo de filas a mostar\n",
        "import numpy as np\n",
        "np.random.seed(3301)\n",
        "import pandas as pd\n",
        "# Para preparar los datos\n",
        "from sklearn.preprocessing import LabelEncoder\n",
        "# Para crear el arbol de decisión \n",
        "from sklearn.tree import DecisionTreeClassifier \n",
        "# Para usar KNN como clasificador\n",
        "from sklearn.neighbors import KNeighborsClassifier\n",
        "# Para realizar la separación del conjunto de aprendizaje en entrenamiento y test.\n",
        "from sklearn.model_selection import train_test_split\n",
        "# Para evaluar el modelo\n",
        "from sklearn.metrics import confusion_matrix, classification_report, precision_score, recall_score, f1_score, accuracy_score\n",
        "from sklearn.metrics import plot_confusion_matrix\n",
        "# Para búsqueda de hiperparámetros\n",
        "from sklearn.model_selection import GridSearchCV\n",
        "# Para la validación cruzada\n",
        "from sklearn.model_selection import KFold \n",
        "#Librerías para la visualización\n",
        "import matplotlib.pyplot as plt\n",
        "# Seaborn\n",
        "import seaborn as sns \n",
        "from sklearn import tree"
      ]
    },
    {
      "cell_type": "markdown",
      "metadata": {
        "id": "rI1Bf5eYQc1l"
      },
      "source": [
        "### 2. Carga de los datos\n",
        "A través de la librería **pandas** podemos realizar la carga de datos desde diferentes fuentes de información, en este caso se realizará la carga de un archivo plano csv (archivo separado por comas)."
      ]
    },
    {
      "cell_type": "code",
      "execution_count": null,
      "metadata": {
        "id": "f_uR1HAtQc1l",
        "colab": {
          "base_uri": "https://localhost:8080/"
        },
        "outputId": "c7586ca9-5e04-4ec3-9a76-b259d25c5a8a"
      },
      "outputs": [
        {
          "output_type": "stream",
          "name": "stderr",
          "text": [
            "/usr/local/lib/python3.7/dist-packages/IPython/core/interactiveshell.py:2882: DtypeWarning: Columns (0,1,2,3,4,5,6,7,8,9,10,11,12,13,14,15,16,17,18,19,21) have mixed types.Specify dtype option on import or set low_memory=False.\n",
            "  exec(code_obj, self.user_global_ns, self.user_ns)\n"
          ]
        }
      ],
      "source": [
        "# Se cargan los datos. \n",
        "datos=pd.read_csv('1datos_lab1.csv', sep=';', encoding = 'utf-8', index_col=False)"
      ]
    },
    {
      "cell_type": "code",
      "execution_count": null,
      "metadata": {
        "id": "dJ59KbGNQc1l",
        "outputId": "67c3efda-96b1-4ddb-a750-22c11fc05c9a",
        "colab": {
          "base_uri": "https://localhost:8080/"
        }
      },
      "outputs": [
        {
          "output_type": "execute_result",
          "data": {
            "text/plain": [
              "(100000, 22)"
            ]
          },
          "metadata": {},
          "execution_count": 4
        }
      ],
      "source": [
        "# Cantidad de datos y número de variables\n",
        "datos.shape"
      ]
    },
    {
      "cell_type": "code",
      "execution_count": null,
      "metadata": {
        "id": "H_-hfAdfQc1m",
        "outputId": "8f6bab05-abb6-4f04-b804-bf4c79093d61",
        "colab": {
          "base_uri": "https://localhost:8080/",
          "height": 270
        }
      },
      "outputs": [
        {
          "output_type": "execute_result",
          "data": {
            "text/html": [
              "\n",
              "  <div id=\"df-4fd2a332-9536-4acc-92e3-d1f4ba3c0bd6\">\n",
              "    <div class=\"colab-df-container\">\n",
              "      <div>\n",
              "<style scoped>\n",
              "    .dataframe tbody tr th:only-of-type {\n",
              "        vertical-align: middle;\n",
              "    }\n",
              "\n",
              "    .dataframe tbody tr th {\n",
              "        vertical-align: top;\n",
              "    }\n",
              "\n",
              "    .dataframe thead th {\n",
              "        text-align: right;\n",
              "    }\n",
              "</style>\n",
              "<table border=\"1\" class=\"dataframe\">\n",
              "  <thead>\n",
              "    <tr style=\"text-align: right;\">\n",
              "      <th></th>\n",
              "      <th>Diabetes_012</th>\n",
              "      <th>HighBP</th>\n",
              "      <th>HighChol</th>\n",
              "      <th>CholCheck</th>\n",
              "      <th>BMI</th>\n",
              "      <th>Smoker</th>\n",
              "      <th>Stroke</th>\n",
              "      <th>HeartDiseaseorAttack</th>\n",
              "      <th>PhysActivity</th>\n",
              "      <th>Fruits</th>\n",
              "      <th>Veggies</th>\n",
              "      <th>HvyAlcoholConsump</th>\n",
              "      <th>AnyHealthcare</th>\n",
              "      <th>NoDocbcCost</th>\n",
              "      <th>GenHlth</th>\n",
              "      <th>MentHlth</th>\n",
              "      <th>PhysHlth</th>\n",
              "      <th>DiffWalk</th>\n",
              "      <th>Sex</th>\n",
              "      <th>Age</th>\n",
              "      <th>Education</th>\n",
              "      <th>Income</th>\n",
              "    </tr>\n",
              "  </thead>\n",
              "  <tbody>\n",
              "    <tr>\n",
              "      <th>0</th>\n",
              "      <td>0</td>\n",
              "      <td>1</td>\n",
              "      <td>1</td>\n",
              "      <td>1</td>\n",
              "      <td>40</td>\n",
              "      <td>1</td>\n",
              "      <td>0</td>\n",
              "      <td>0</td>\n",
              "      <td>0</td>\n",
              "      <td>0</td>\n",
              "      <td>1</td>\n",
              "      <td>0</td>\n",
              "      <td>1</td>\n",
              "      <td>0</td>\n",
              "      <td>5</td>\n",
              "      <td>18</td>\n",
              "      <td>15</td>\n",
              "      <td>1</td>\n",
              "      <td>0</td>\n",
              "      <td>9</td>\n",
              "      <td>4</td>\n",
              "      <td>3</td>\n",
              "    </tr>\n",
              "    <tr>\n",
              "      <th>1</th>\n",
              "      <td>0</td>\n",
              "      <td>0</td>\n",
              "      <td>0</td>\n",
              "      <td>0</td>\n",
              "      <td>25</td>\n",
              "      <td>1</td>\n",
              "      <td>0</td>\n",
              "      <td>0</td>\n",
              "      <td>1</td>\n",
              "      <td>0</td>\n",
              "      <td>0</td>\n",
              "      <td>0</td>\n",
              "      <td>0</td>\n",
              "      <td>1</td>\n",
              "      <td>3</td>\n",
              "      <td>0</td>\n",
              "      <td>0</td>\n",
              "      <td>0</td>\n",
              "      <td>0</td>\n",
              "      <td>7</td>\n",
              "      <td>6</td>\n",
              "      <td>1</td>\n",
              "    </tr>\n",
              "    <tr>\n",
              "      <th>2</th>\n",
              "      <td>0</td>\n",
              "      <td>1</td>\n",
              "      <td>1</td>\n",
              "      <td>1</td>\n",
              "      <td>28</td>\n",
              "      <td>0</td>\n",
              "      <td>0</td>\n",
              "      <td>0</td>\n",
              "      <td>0</td>\n",
              "      <td>1</td>\n",
              "      <td>0</td>\n",
              "      <td>0</td>\n",
              "      <td>1</td>\n",
              "      <td>1</td>\n",
              "      <td>5</td>\n",
              "      <td>30</td>\n",
              "      <td>30</td>\n",
              "      <td>1</td>\n",
              "      <td>0</td>\n",
              "      <td>9</td>\n",
              "      <td>4</td>\n",
              "      <td>8</td>\n",
              "    </tr>\n",
              "    <tr>\n",
              "      <th>3</th>\n",
              "      <td>0</td>\n",
              "      <td>1</td>\n",
              "      <td>0</td>\n",
              "      <td>1</td>\n",
              "      <td>27</td>\n",
              "      <td>0</td>\n",
              "      <td>0</td>\n",
              "      <td>0</td>\n",
              "      <td>1</td>\n",
              "      <td>1</td>\n",
              "      <td>1</td>\n",
              "      <td>0</td>\n",
              "      <td>1</td>\n",
              "      <td>0</td>\n",
              "      <td>2</td>\n",
              "      <td>0</td>\n",
              "      <td>0</td>\n",
              "      <td>0</td>\n",
              "      <td>0</td>\n",
              "      <td>11</td>\n",
              "      <td>3</td>\n",
              "      <td>6</td>\n",
              "    </tr>\n",
              "    <tr>\n",
              "      <th>4</th>\n",
              "      <td>0</td>\n",
              "      <td>1</td>\n",
              "      <td>1</td>\n",
              "      <td>1</td>\n",
              "      <td>24</td>\n",
              "      <td>0</td>\n",
              "      <td>0</td>\n",
              "      <td>0</td>\n",
              "      <td>1</td>\n",
              "      <td>1</td>\n",
              "      <td>1</td>\n",
              "      <td>0</td>\n",
              "      <td>1</td>\n",
              "      <td>0</td>\n",
              "      <td>2</td>\n",
              "      <td>3</td>\n",
              "      <td>0</td>\n",
              "      <td>0</td>\n",
              "      <td>0</td>\n",
              "      <td>11</td>\n",
              "      <td>5</td>\n",
              "      <td>4</td>\n",
              "    </tr>\n",
              "  </tbody>\n",
              "</table>\n",
              "</div>\n",
              "      <button class=\"colab-df-convert\" onclick=\"convertToInteractive('df-4fd2a332-9536-4acc-92e3-d1f4ba3c0bd6')\"\n",
              "              title=\"Convert this dataframe to an interactive table.\"\n",
              "              style=\"display:none;\">\n",
              "        \n",
              "  <svg xmlns=\"http://www.w3.org/2000/svg\" height=\"24px\"viewBox=\"0 0 24 24\"\n",
              "       width=\"24px\">\n",
              "    <path d=\"M0 0h24v24H0V0z\" fill=\"none\"/>\n",
              "    <path d=\"M18.56 5.44l.94 2.06.94-2.06 2.06-.94-2.06-.94-.94-2.06-.94 2.06-2.06.94zm-11 1L8.5 8.5l.94-2.06 2.06-.94-2.06-.94L8.5 2.5l-.94 2.06-2.06.94zm10 10l.94 2.06.94-2.06 2.06-.94-2.06-.94-.94-2.06-.94 2.06-2.06.94z\"/><path d=\"M17.41 7.96l-1.37-1.37c-.4-.4-.92-.59-1.43-.59-.52 0-1.04.2-1.43.59L10.3 9.45l-7.72 7.72c-.78.78-.78 2.05 0 2.83L4 21.41c.39.39.9.59 1.41.59.51 0 1.02-.2 1.41-.59l7.78-7.78 2.81-2.81c.8-.78.8-2.07 0-2.86zM5.41 20L4 18.59l7.72-7.72 1.47 1.35L5.41 20z\"/>\n",
              "  </svg>\n",
              "      </button>\n",
              "      \n",
              "  <style>\n",
              "    .colab-df-container {\n",
              "      display:flex;\n",
              "      flex-wrap:wrap;\n",
              "      gap: 12px;\n",
              "    }\n",
              "\n",
              "    .colab-df-convert {\n",
              "      background-color: #E8F0FE;\n",
              "      border: none;\n",
              "      border-radius: 50%;\n",
              "      cursor: pointer;\n",
              "      display: none;\n",
              "      fill: #1967D2;\n",
              "      height: 32px;\n",
              "      padding: 0 0 0 0;\n",
              "      width: 32px;\n",
              "    }\n",
              "\n",
              "    .colab-df-convert:hover {\n",
              "      background-color: #E2EBFA;\n",
              "      box-shadow: 0px 1px 2px rgba(60, 64, 67, 0.3), 0px 1px 3px 1px rgba(60, 64, 67, 0.15);\n",
              "      fill: #174EA6;\n",
              "    }\n",
              "\n",
              "    [theme=dark] .colab-df-convert {\n",
              "      background-color: #3B4455;\n",
              "      fill: #D2E3FC;\n",
              "    }\n",
              "\n",
              "    [theme=dark] .colab-df-convert:hover {\n",
              "      background-color: #434B5C;\n",
              "      box-shadow: 0px 1px 3px 1px rgba(0, 0, 0, 0.15);\n",
              "      filter: drop-shadow(0px 1px 2px rgba(0, 0, 0, 0.3));\n",
              "      fill: #FFFFFF;\n",
              "    }\n",
              "  </style>\n",
              "\n",
              "      <script>\n",
              "        const buttonEl =\n",
              "          document.querySelector('#df-4fd2a332-9536-4acc-92e3-d1f4ba3c0bd6 button.colab-df-convert');\n",
              "        buttonEl.style.display =\n",
              "          google.colab.kernel.accessAllowed ? 'block' : 'none';\n",
              "\n",
              "        async function convertToInteractive(key) {\n",
              "          const element = document.querySelector('#df-4fd2a332-9536-4acc-92e3-d1f4ba3c0bd6');\n",
              "          const dataTable =\n",
              "            await google.colab.kernel.invokeFunction('convertToInteractive',\n",
              "                                                     [key], {});\n",
              "          if (!dataTable) return;\n",
              "\n",
              "          const docLinkHtml = 'Like what you see? Visit the ' +\n",
              "            '<a target=\"_blank\" href=https://colab.research.google.com/notebooks/data_table.ipynb>data table notebook</a>'\n",
              "            + ' to learn more about interactive tables.';\n",
              "          element.innerHTML = '';\n",
              "          dataTable['output_type'] = 'display_data';\n",
              "          await google.colab.output.renderOutput(dataTable, element);\n",
              "          const docLink = document.createElement('div');\n",
              "          docLink.innerHTML = docLinkHtml;\n",
              "          element.appendChild(docLink);\n",
              "        }\n",
              "      </script>\n",
              "    </div>\n",
              "  </div>\n",
              "  "
            ],
            "text/plain": [
              "  Diabetes_012 HighBP HighChol CholCheck BMI Smoker Stroke  \\\n",
              "0            0      1        1         1  40      1      0   \n",
              "1            0      0        0         0  25      1      0   \n",
              "2            0      1        1         1  28      0      0   \n",
              "3            0      1        0         1  27      0      0   \n",
              "4            0      1        1         1  24      0      0   \n",
              "\n",
              "  HeartDiseaseorAttack PhysActivity Fruits Veggies HvyAlcoholConsump  \\\n",
              "0                    0            0      0       1                 0   \n",
              "1                    0            1      0       0                 0   \n",
              "2                    0            0      1       0                 0   \n",
              "3                    0            1      1       1                 0   \n",
              "4                    0            1      1       1                 0   \n",
              "\n",
              "  AnyHealthcare NoDocbcCost GenHlth MentHlth PhysHlth DiffWalk Sex Age  \\\n",
              "0             1           0       5       18       15        1   0   9   \n",
              "1             0           1       3        0        0        0   0   7   \n",
              "2             1           1       5       30       30        1   0   9   \n",
              "3             1           0       2        0        0        0   0  11   \n",
              "4             1           0       2        3        0        0   0  11   \n",
              "\n",
              "  Education Income  \n",
              "0         4      3  \n",
              "1         6      1  \n",
              "2         4      8  \n",
              "3         3      6  \n",
              "4         5      4  "
            ]
          },
          "metadata": {},
          "execution_count": 5
        }
      ],
      "source": [
        "# Mostrar los datos\n",
        "datos.head()"
      ]
    },
    {
      "cell_type": "code",
      "execution_count": null,
      "metadata": {
        "id": "PC3Vnk6-Qc1n",
        "outputId": "29a9f343-33e2-451b-bf14-7ff0fc547a7c",
        "colab": {
          "base_uri": "https://localhost:8080/"
        }
      },
      "outputs": [
        {
          "output_type": "execute_result",
          "data": {
            "text/plain": [
              "Diabetes_012             object\n",
              "HighBP                   object\n",
              "HighChol                 object\n",
              "CholCheck                object\n",
              "BMI                      object\n",
              "Smoker                   object\n",
              "Stroke                   object\n",
              "HeartDiseaseorAttack     object\n",
              "PhysActivity             object\n",
              "Fruits                   object\n",
              "Veggies                  object\n",
              "HvyAlcoholConsump        object\n",
              "AnyHealthcare            object\n",
              "NoDocbcCost              object\n",
              "GenHlth                  object\n",
              "MentHlth                 object\n",
              "PhysHlth                 object\n",
              "DiffWalk                 object\n",
              "Sex                      object\n",
              "Age                      object\n",
              "Education                object\n",
              "Income                   object\n",
              "Unnamed: 22             float64\n",
              "Unnamed: 23             float64\n",
              "Unnamed: 24             float64\n",
              "Unnamed: 25             float64\n",
              "Unnamed: 26             float64\n",
              "dtype: object"
            ]
          },
          "metadata": {},
          "execution_count": 87
        }
      ],
      "source": [
        "# Podemos ver los tipos de todas la variables.\n",
        "datos.dtypes"
      ]
    },
    {
      "cell_type": "code",
      "execution_count": null,
      "metadata": {
        "id": "nW6IhpeHQc1n",
        "outputId": "c04e34b8-7acb-4f89-bb18-95ba64efbeb4",
        "colab": {
          "base_uri": "https://localhost:8080/",
          "height": 300
        }
      },
      "outputs": [
        {
          "output_type": "execute_result",
          "data": {
            "text/html": [
              "\n",
              "  <div id=\"df-f4372159-be6f-4c8e-bfa7-3d1c0299e8fd\">\n",
              "    <div class=\"colab-df-container\">\n",
              "      <div>\n",
              "<style scoped>\n",
              "    .dataframe tbody tr th:only-of-type {\n",
              "        vertical-align: middle;\n",
              "    }\n",
              "\n",
              "    .dataframe tbody tr th {\n",
              "        vertical-align: top;\n",
              "    }\n",
              "\n",
              "    .dataframe thead th {\n",
              "        text-align: right;\n",
              "    }\n",
              "</style>\n",
              "<table border=\"1\" class=\"dataframe\">\n",
              "  <thead>\n",
              "    <tr style=\"text-align: right;\">\n",
              "      <th></th>\n",
              "      <th>Unnamed: 22</th>\n",
              "      <th>Unnamed: 23</th>\n",
              "      <th>Unnamed: 24</th>\n",
              "      <th>Unnamed: 25</th>\n",
              "      <th>Unnamed: 26</th>\n",
              "    </tr>\n",
              "  </thead>\n",
              "  <tbody>\n",
              "    <tr>\n",
              "      <th>count</th>\n",
              "      <td>0.0</td>\n",
              "      <td>0.0</td>\n",
              "      <td>0.0</td>\n",
              "      <td>0.0</td>\n",
              "      <td>0.0</td>\n",
              "    </tr>\n",
              "    <tr>\n",
              "      <th>mean</th>\n",
              "      <td>NaN</td>\n",
              "      <td>NaN</td>\n",
              "      <td>NaN</td>\n",
              "      <td>NaN</td>\n",
              "      <td>NaN</td>\n",
              "    </tr>\n",
              "    <tr>\n",
              "      <th>std</th>\n",
              "      <td>NaN</td>\n",
              "      <td>NaN</td>\n",
              "      <td>NaN</td>\n",
              "      <td>NaN</td>\n",
              "      <td>NaN</td>\n",
              "    </tr>\n",
              "    <tr>\n",
              "      <th>min</th>\n",
              "      <td>NaN</td>\n",
              "      <td>NaN</td>\n",
              "      <td>NaN</td>\n",
              "      <td>NaN</td>\n",
              "      <td>NaN</td>\n",
              "    </tr>\n",
              "    <tr>\n",
              "      <th>25%</th>\n",
              "      <td>NaN</td>\n",
              "      <td>NaN</td>\n",
              "      <td>NaN</td>\n",
              "      <td>NaN</td>\n",
              "      <td>NaN</td>\n",
              "    </tr>\n",
              "    <tr>\n",
              "      <th>50%</th>\n",
              "      <td>NaN</td>\n",
              "      <td>NaN</td>\n",
              "      <td>NaN</td>\n",
              "      <td>NaN</td>\n",
              "      <td>NaN</td>\n",
              "    </tr>\n",
              "    <tr>\n",
              "      <th>75%</th>\n",
              "      <td>NaN</td>\n",
              "      <td>NaN</td>\n",
              "      <td>NaN</td>\n",
              "      <td>NaN</td>\n",
              "      <td>NaN</td>\n",
              "    </tr>\n",
              "    <tr>\n",
              "      <th>max</th>\n",
              "      <td>NaN</td>\n",
              "      <td>NaN</td>\n",
              "      <td>NaN</td>\n",
              "      <td>NaN</td>\n",
              "      <td>NaN</td>\n",
              "    </tr>\n",
              "  </tbody>\n",
              "</table>\n",
              "</div>\n",
              "      <button class=\"colab-df-convert\" onclick=\"convertToInteractive('df-f4372159-be6f-4c8e-bfa7-3d1c0299e8fd')\"\n",
              "              title=\"Convert this dataframe to an interactive table.\"\n",
              "              style=\"display:none;\">\n",
              "        \n",
              "  <svg xmlns=\"http://www.w3.org/2000/svg\" height=\"24px\"viewBox=\"0 0 24 24\"\n",
              "       width=\"24px\">\n",
              "    <path d=\"M0 0h24v24H0V0z\" fill=\"none\"/>\n",
              "    <path d=\"M18.56 5.44l.94 2.06.94-2.06 2.06-.94-2.06-.94-.94-2.06-.94 2.06-2.06.94zm-11 1L8.5 8.5l.94-2.06 2.06-.94-2.06-.94L8.5 2.5l-.94 2.06-2.06.94zm10 10l.94 2.06.94-2.06 2.06-.94-2.06-.94-.94-2.06-.94 2.06-2.06.94z\"/><path d=\"M17.41 7.96l-1.37-1.37c-.4-.4-.92-.59-1.43-.59-.52 0-1.04.2-1.43.59L10.3 9.45l-7.72 7.72c-.78.78-.78 2.05 0 2.83L4 21.41c.39.39.9.59 1.41.59.51 0 1.02-.2 1.41-.59l7.78-7.78 2.81-2.81c.8-.78.8-2.07 0-2.86zM5.41 20L4 18.59l7.72-7.72 1.47 1.35L5.41 20z\"/>\n",
              "  </svg>\n",
              "      </button>\n",
              "      \n",
              "  <style>\n",
              "    .colab-df-container {\n",
              "      display:flex;\n",
              "      flex-wrap:wrap;\n",
              "      gap: 12px;\n",
              "    }\n",
              "\n",
              "    .colab-df-convert {\n",
              "      background-color: #E8F0FE;\n",
              "      border: none;\n",
              "      border-radius: 50%;\n",
              "      cursor: pointer;\n",
              "      display: none;\n",
              "      fill: #1967D2;\n",
              "      height: 32px;\n",
              "      padding: 0 0 0 0;\n",
              "      width: 32px;\n",
              "    }\n",
              "\n",
              "    .colab-df-convert:hover {\n",
              "      background-color: #E2EBFA;\n",
              "      box-shadow: 0px 1px 2px rgba(60, 64, 67, 0.3), 0px 1px 3px 1px rgba(60, 64, 67, 0.15);\n",
              "      fill: #174EA6;\n",
              "    }\n",
              "\n",
              "    [theme=dark] .colab-df-convert {\n",
              "      background-color: #3B4455;\n",
              "      fill: #D2E3FC;\n",
              "    }\n",
              "\n",
              "    [theme=dark] .colab-df-convert:hover {\n",
              "      background-color: #434B5C;\n",
              "      box-shadow: 0px 1px 3px 1px rgba(0, 0, 0, 0.15);\n",
              "      filter: drop-shadow(0px 1px 2px rgba(0, 0, 0, 0.3));\n",
              "      fill: #FFFFFF;\n",
              "    }\n",
              "  </style>\n",
              "\n",
              "      <script>\n",
              "        const buttonEl =\n",
              "          document.querySelector('#df-f4372159-be6f-4c8e-bfa7-3d1c0299e8fd button.colab-df-convert');\n",
              "        buttonEl.style.display =\n",
              "          google.colab.kernel.accessAllowed ? 'block' : 'none';\n",
              "\n",
              "        async function convertToInteractive(key) {\n",
              "          const element = document.querySelector('#df-f4372159-be6f-4c8e-bfa7-3d1c0299e8fd');\n",
              "          const dataTable =\n",
              "            await google.colab.kernel.invokeFunction('convertToInteractive',\n",
              "                                                     [key], {});\n",
              "          if (!dataTable) return;\n",
              "\n",
              "          const docLinkHtml = 'Like what you see? Visit the ' +\n",
              "            '<a target=\"_blank\" href=https://colab.research.google.com/notebooks/data_table.ipynb>data table notebook</a>'\n",
              "            + ' to learn more about interactive tables.';\n",
              "          element.innerHTML = '';\n",
              "          dataTable['output_type'] = 'display_data';\n",
              "          await google.colab.output.renderOutput(dataTable, element);\n",
              "          const docLink = document.createElement('div');\n",
              "          docLink.innerHTML = docLinkHtml;\n",
              "          element.appendChild(docLink);\n",
              "        }\n",
              "      </script>\n",
              "    </div>\n",
              "  </div>\n",
              "  "
            ],
            "text/plain": [
              "       Unnamed: 22  Unnamed: 23  Unnamed: 24  Unnamed: 25  Unnamed: 26\n",
              "count          0.0          0.0          0.0          0.0          0.0\n",
              "mean           NaN          NaN          NaN          NaN          NaN\n",
              "std            NaN          NaN          NaN          NaN          NaN\n",
              "min            NaN          NaN          NaN          NaN          NaN\n",
              "25%            NaN          NaN          NaN          NaN          NaN\n",
              "50%            NaN          NaN          NaN          NaN          NaN\n",
              "75%            NaN          NaN          NaN          NaN          NaN\n",
              "max            NaN          NaN          NaN          NaN          NaN"
            ]
          },
          "metadata": {},
          "execution_count": 88
        }
      ],
      "source": [
        "# Y hacer una descripción de los datos\n",
        "datos.describe()"
      ]
    },
    {
      "cell_type": "code",
      "execution_count": null,
      "metadata": {
        "id": "ckP64NwaQc1n",
        "outputId": "0a289950-b319-416c-fa09-1861f10279de",
        "colab": {
          "base_uri": "https://localhost:8080/"
        }
      },
      "outputs": [
        {
          "output_type": "execute_result",
          "data": {
            "text/plain": [
              "Diabetes_012                16\n",
              "HighBP                      18\n",
              "HighChol                     9\n",
              "CholCheck                   16\n",
              "BMI                         19\n",
              "Smoker                      21\n",
              "Stroke                      13\n",
              "HeartDiseaseorAttack        13\n",
              "PhysActivity                15\n",
              "Fruits                      24\n",
              "Veggies                     11\n",
              "HvyAlcoholConsump           12\n",
              "AnyHealthcare               16\n",
              "NoDocbcCost                 22\n",
              "GenHlth                     18\n",
              "MentHlth                    14\n",
              "PhysHlth                    22\n",
              "DiffWalk                    13\n",
              "Sex                          9\n",
              "Age                         12\n",
              "Education                   19\n",
              "Income                       1\n",
              "Unnamed: 22             100000\n",
              "Unnamed: 23             100000\n",
              "Unnamed: 24             100000\n",
              "Unnamed: 25             100000\n",
              "Unnamed: 26             100000\n",
              "dtype: int64"
            ]
          },
          "metadata": {},
          "execution_count": 90
        }
      ],
      "source": [
        "# Se observa que hay ausencias. Veamos cuantas, para todas las variables:\n",
        "datos.isnull().sum()"
      ]
    },
    {
      "cell_type": "markdown",
      "source": [
        "## Revisaremos los valores que tiene cada columna"
      ],
      "metadata": {
        "id": "Sy_N3NenKl1S"
      }
    },
    {
      "cell_type": "code",
      "source": [
        "# Lista de nombres de columnas\n",
        "lista = datos.columns.tolist()\n",
        "\n",
        "#Revisar diferentes valores que hay en las columnas para hacer limpieza\n",
        "for i in lista:\n",
        "  datos_ver=datos.groupby([i]).size()\n",
        "  print(datos_ver)\n",
        "  print('-'*20)"
      ],
      "metadata": {
        "id": "YNExbq9xNvGf",
        "outputId": "75b487e0-d6b5-4372-cae7-b8d0bcd4f415",
        "colab": {
          "base_uri": "https://localhost:8080/"
        }
      },
      "execution_count": null,
      "outputs": [
        {
          "output_type": "stream",
          "name": "stdout",
          "text": [
            "Diabetes_012\n",
            "0      1457\n",
            "1        32\n",
            "2       207\n",
            "-        15\n",
            "0     82621\n",
            "1      1860\n",
            "2     13767\n",
            "?         8\n",
            "Xx       17\n",
            "dtype: int64\n",
            "--------------------\n",
            "HighBP\n",
            "0      1032\n",
            "1       664\n",
            "-        19\n",
            "0     55512\n",
            "1     42730\n",
            "?         7\n",
            "Xx       18\n",
            "dtype: int64\n",
            "--------------------\n",
            "HighChol\n",
            "0     19104\n",
            "1     15360\n",
            "-         8\n",
            "0     37710\n",
            "1     27792\n",
            "?         7\n",
            "Xx       10\n",
            "dtype: int64\n",
            "--------------------\n",
            "CholCheck\n",
            "0        34\n",
            "1      1662\n",
            "-        15\n",
            "0      3590\n",
            "1     94668\n",
            "?         5\n",
            "Xx       10\n",
            "dtype: int64\n",
            "--------------------\n",
            "BMI\n",
            "-31     1\n",
            "-27     1\n",
            "-23     1\n",
            "-17     1\n",
            "-15     1\n",
            "       ..\n",
            "95     10\n",
            "96      1\n",
            "98      7\n",
            "?       5\n",
            "Xx     12\n",
            "Length: 143, dtype: int64\n",
            "--------------------\n",
            "Smoker\n",
            "0       998\n",
            "1       698\n",
            "-        15\n",
            "0     54428\n",
            "1     43809\n",
            "?        11\n",
            "Xx       20\n",
            "dtype: int64\n",
            "--------------------\n",
            "Stroke\n",
            "0      1645\n",
            "1        51\n",
            "-        13\n",
            "0     94173\n",
            "1      4086\n",
            "?         3\n",
            "Xx       16\n",
            "dtype: int64\n",
            "--------------------\n",
            "HeartDiseaseorAttack\n",
            "0      1565\n",
            "1       131\n",
            "-        16\n",
            "0     89052\n",
            "1      9206\n",
            "?         7\n",
            "Xx       10\n",
            "dtype: int64\n",
            "--------------------\n",
            "PhysActivity\n",
            "0      8820\n",
            "1     25644\n",
            "-        18\n",
            "0     14997\n",
            "1     50491\n",
            "?         5\n",
            "Xx       10\n",
            "dtype: int64\n",
            "--------------------\n",
            "Fruits\n",
            "0.0    12972\n",
            "1.0    21491\n",
            "-          8\n",
            "0      23332\n",
            "1      42148\n",
            "?          8\n",
            "Xx        17\n",
            "dtype: int64\n",
            "--------------------\n",
            "Veggies\n",
            "0       332\n",
            "1      1364\n",
            "-        13\n",
            "0     18153\n",
            "1     80100\n",
            "?         9\n",
            "Xx       18\n",
            "dtype: int64\n",
            "--------------------\n",
            "HvyAlcoholConsump\n",
            "0      1600\n",
            "1        96\n",
            "-        12\n",
            "0     92648\n",
            "1      5620\n",
            "?         7\n",
            "Xx        5\n",
            "dtype: int64\n",
            "--------------------\n",
            "AnyHealthcare\n",
            "0        61\n",
            "1      1635\n",
            "-        10\n",
            "0      4892\n",
            "1     93368\n",
            "?         8\n",
            "Xx       10\n",
            "dtype: int64\n",
            "--------------------\n",
            "NoDocbcCost\n",
            "0     31956\n",
            "1      2508\n",
            "-        13\n",
            "0     59801\n",
            "1      5681\n",
            "?         4\n",
            "Xx       15\n",
            "dtype: int64\n",
            "--------------------\n",
            "GenHlth\n",
            "1      5866\n",
            "2     12494\n",
            "3     10352\n",
            "4      4110\n",
            "5      1642\n",
            "-        12\n",
            "1     12304\n",
            "2     22566\n",
            "3     19360\n",
            "4      8152\n",
            "5      3112\n",
            "?         3\n",
            "Xx        9\n",
            "dtype: int64\n",
            "--------------------\n",
            "MentHlth\n",
            "-33       1\n",
            "-21       1\n",
            "-19       1\n",
            "0      1163\n",
            "1        50\n",
            "       ... \n",
            "7      1225\n",
            "8       231\n",
            "9        38\n",
            "?         3\n",
            "Xx       14\n",
            "Length: 77, dtype: int64\n",
            "--------------------\n",
            "PhysHlth\n",
            "-25       1\n",
            "-23       1\n",
            "0      1094\n",
            "1        85\n",
            "2       109\n",
            "       ... \n",
            "7      1748\n",
            "8       334\n",
            "9        73\n",
            "?        10\n",
            "Xx       18\n",
            "Length: 83, dtype: int64\n",
            "--------------------\n",
            "DiffWalk\n",
            "0      1462\n",
            "1       234\n",
            "-        11\n",
            "0     81858\n",
            "1     16398\n",
            "?         4\n",
            "Xx       20\n",
            "dtype: int64\n",
            "--------------------\n",
            "Sex\n",
            "0       965\n",
            "1       731\n",
            "-        10\n",
            "0     55198\n",
            "1     43058\n",
            "?        11\n",
            "Xx       18\n",
            "dtype: int64\n",
            "--------------------\n",
            "Age\n",
            "1        62\n",
            "2        63\n",
            "3        98\n",
            "4        95\n",
            "5        87\n",
            "6       149\n",
            "7       229\n",
            "8       224\n",
            "9       207\n",
            "10      173\n",
            "11      142\n",
            "12       91\n",
            "13       76\n",
            "-        18\n",
            "1      2135\n",
            "10    12788\n",
            "11     9512\n",
            "12     6270\n",
            "13     6911\n",
            "2      2769\n",
            "3      4144\n",
            "4      5215\n",
            "5      6172\n",
            "6      7510\n",
            "7     10075\n",
            "8     11840\n",
            "9     12907\n",
            "?         6\n",
            "Xx       20\n",
            "dtype: int64\n",
            "--------------------\n",
            "Education\n",
            "-        21\n",
            "1        58\n",
            "2      1611\n",
            "3      3632\n",
            "4     23802\n",
            "5     27025\n",
            "6     43815\n",
            "?         5\n",
            "Xx       12\n",
            "dtype: int64\n",
            "--------------------\n",
            "Income\n",
            "1      1135\n",
            "2      1535\n",
            "3      1968\n",
            "4      2599\n",
            "5      3432\n",
            "6      5030\n",
            "7      6236\n",
            "8     12529\n",
            "-         8\n",
            "1      2535\n",
            "2      3079\n",
            "3      4086\n",
            "4      5122\n",
            "5      6489\n",
            "6      9096\n",
            "7     10720\n",
            "8     24391\n",
            "?         1\n",
            "Xx        8\n",
            "dtype: int64\n",
            "--------------------\n",
            "Series([], dtype: int64)\n",
            "--------------------\n",
            "Series([], dtype: int64)\n",
            "--------------------\n",
            "Series([], dtype: int64)\n",
            "--------------------\n",
            "Series([], dtype: int64)\n",
            "--------------------\n",
            "Series([], dtype: int64)\n",
            "--------------------\n"
          ]
        }
      ]
    },
    {
      "cell_type": "markdown",
      "metadata": {
        "id": "4oqqAl4_Qc1o"
      },
      "source": [
        "### 2. Limpieza y preparación de los datos\n",
        "\n",
        "Primero vamos a ejecutar los pasos de limpieza de los datos, relacionados el tratamiento de ausencias y registros duplicados."
      ]
    },
    {
      "cell_type": "code",
      "execution_count": null,
      "metadata": {
        "id": "NCwU9dtsQc1o"
      },
      "outputs": [],
      "source": [
        "# Es recomendable que todos los pasos de limpieza y preparación se realicen sobre otro archivo.\n",
        "datos_t = datos"
      ]
    },
    {
      "cell_type": "code",
      "source": [
        "# Primero eliminaremos aquellas variables con muchas ausencias.\n",
        "#Eliminar columnas vacías\n",
        "datos_t = datos_t.drop([\"Unnamed: 22\",\"Unnamed: 23\",\"Unnamed: 24\",\"Unnamed: 25\",\"Unnamed: 26\"],axis=1)"
      ],
      "metadata": {
        "id": "hoy0907sKPQ5"
      },
      "execution_count": null,
      "outputs": []
    },
    {
      "cell_type": "code",
      "execution_count": null,
      "metadata": {
        "id": "Cvoor9aPQc1o"
      },
      "outputs": [],
      "source": [
        "# Eliminación registros con ausencias\n",
        "datos_t = datos_t.dropna()\n",
        "# Eliminación de registros duplicados.\n",
        "datos_t = datos_t.drop_duplicates()"
      ]
    },
    {
      "cell_type": "code",
      "source": [
        "datos_t.shape"
      ],
      "metadata": {
        "colab": {
          "base_uri": "https://localhost:8080/"
        },
        "id": "LqZKHsybXJnt",
        "outputId": "3c62f25b-ab54-4e87-d772-4f5c4da64b30"
      },
      "execution_count": null,
      "outputs": [
        {
          "output_type": "execute_result",
          "data": {
            "text/plain": [
              "(95672, 22)"
            ]
          },
          "metadata": {},
          "execution_count": 94
        }
      ]
    },
    {
      "cell_type": "code",
      "source": [
        "#Eliminaremos las filas que contienen datos como: Xx, ?, -\n",
        "columnas = datos_t.columns.tolist()\n",
        "for i in columnas:\n",
        "  # Get names of indexes for which column Stock has value Xx\n",
        "  indexNames = datos_t[ datos_t[i] == 'Xx'].index\n",
        "  # Delete these row indexes from dataFrame\n",
        "  datos_t.drop(indexNames , inplace=True)\n",
        "  # Get names of indexes for which column Stock has value ?\n",
        "  indexNames = datos_t[ datos_t[i] ==\"?\"].index\n",
        "  # Delete these row indexes from dataFrame\n",
        "  datos_t.drop(indexNames , inplace=True)\n",
        "  # Get names of indexes for which column Stock has value -\n",
        "  indexNames = datos_t[datos_t[i] ==\"-\"].index\n",
        "  # Delete these row indexes from dataFrame\n",
        "  datos_t.drop(indexNames , inplace=True)"
      ],
      "metadata": {
        "id": "hT3xWp1-Qjxx"
      },
      "execution_count": null,
      "outputs": []
    },
    {
      "cell_type": "code",
      "source": [
        "#Verificar que se limpíaron bien\n",
        "# Lista de nombres de columnas\n",
        "lista = datos_t.columns.tolist()\n",
        "\n",
        "#Revisar diferentes valores que hay en las columnas para continuar limpieza\n",
        "for i in lista:\n",
        "  datos_ver=datos_t.groupby([i]).size()\n",
        "  print(datos_ver)\n",
        "  print('-'*20)\n",
        "\n",
        "#se obsera que hay valores iguales que aparecen dos veces"
      ],
      "metadata": {
        "id": "TUY50vPioSyb",
        "colab": {
          "base_uri": "https://localhost:8080/"
        },
        "outputId": "c146a33b-13c8-4e92-f21e-bdf75e04e40b"
      },
      "execution_count": null,
      "outputs": [
        {
          "output_type": "stream",
          "name": "stdout",
          "text": [
            "Diabetes_012\n",
            "0     1447\n",
            "1       32\n",
            "2      207\n",
            "0    77814\n",
            "1     1846\n",
            "2    13592\n",
            "dtype: int64\n",
            "--------------------\n",
            "HighBP\n",
            "0     1023\n",
            "1      663\n",
            "0    51516\n",
            "1    41736\n",
            "dtype: int64\n",
            "--------------------\n",
            "HighChol\n",
            "0    18299\n",
            "1    15134\n",
            "0    34799\n",
            "1    26706\n",
            "dtype: int64\n",
            "--------------------\n",
            "CholCheck\n",
            "0       34\n",
            "1     1652\n",
            "0     3539\n",
            "1    89713\n",
            "dtype: int64\n",
            "--------------------\n",
            "BMI\n",
            "-31     1\n",
            "-27     1\n",
            "-23     1\n",
            "-17     1\n",
            "-15     1\n",
            "       ..\n",
            "91      1\n",
            "92     31\n",
            "95     10\n",
            "96      1\n",
            "98      7\n",
            "Length: 140, dtype: int64\n",
            "--------------------\n",
            "Smoker\n",
            "0      988\n",
            "1      698\n",
            "0    50600\n",
            "1    42652\n",
            "dtype: int64\n",
            "--------------------\n",
            "Stroke\n",
            "0     1635\n",
            "1       51\n",
            "0    89214\n",
            "1     4038\n",
            "dtype: int64\n",
            "--------------------\n",
            "HeartDiseaseorAttack\n",
            "0     1555\n",
            "1      131\n",
            "0    84181\n",
            "1     9071\n",
            "dtype: int64\n",
            "--------------------\n",
            "PhysActivity\n",
            "0     8802\n",
            "1    24631\n",
            "0    14716\n",
            "1    46789\n",
            "dtype: int64\n",
            "--------------------\n",
            "Fruits\n",
            "0.0    12850\n",
            "1.0    20583\n",
            "0      22597\n",
            "1      38908\n",
            "dtype: int64\n",
            "--------------------\n",
            "Veggies\n",
            "0      331\n",
            "1     1355\n",
            "0    17899\n",
            "1    75353\n",
            "dtype: int64\n",
            "--------------------\n",
            "HvyAlcoholConsump\n",
            "0     1590\n",
            "1       96\n",
            "0    87736\n",
            "1     5516\n",
            "dtype: int64\n",
            "--------------------\n",
            "AnyHealthcare\n",
            "0       61\n",
            "1     1625\n",
            "0     4834\n",
            "1    88418\n",
            "dtype: int64\n",
            "--------------------\n",
            "NoDocbcCost\n",
            "0    30928\n",
            "1     2505\n",
            "0    55920\n",
            "1     5585\n",
            "dtype: int64\n",
            "--------------------\n",
            "GenHlth\n",
            "1     5353\n",
            "2    12034\n",
            "3    10299\n",
            "4     4108\n",
            "5     1639\n",
            "1    10538\n",
            "2    20975\n",
            "3    18922\n",
            "4     8017\n",
            "5     3053\n",
            "dtype: int64\n",
            "--------------------\n",
            "MentHlth\n",
            "-33       1\n",
            "-21       1\n",
            "-19       1\n",
            "0      1153\n",
            "1        50\n",
            "       ... \n",
            "5      3575\n",
            "6       394\n",
            "7      1205\n",
            "8       229\n",
            "9        37\n",
            "Length: 74, dtype: int64\n",
            "--------------------\n",
            "PhysHlth\n",
            "-25       1\n",
            "-23       1\n",
            "0      1084\n",
            "1        85\n",
            "2       109\n",
            "       ... \n",
            "5      2998\n",
            "6       550\n",
            "7      1731\n",
            "8       331\n",
            "9        73\n",
            "Length: 80, dtype: int64\n",
            "--------------------\n",
            "DiffWalk\n",
            "0     1452\n",
            "1      234\n",
            "0    77044\n",
            "1    16208\n",
            "dtype: int64\n",
            "--------------------\n",
            "Sex\n",
            "0      962\n",
            "1      724\n",
            "0    52408\n",
            "1    40844\n",
            "dtype: int64\n",
            "--------------------\n",
            "Age\n",
            "1        62\n",
            "2        63\n",
            "3        98\n",
            "4        95\n",
            "5        87\n",
            "6       147\n",
            "7       228\n",
            "8       221\n",
            "9       205\n",
            "10      171\n",
            "11      142\n",
            "12       91\n",
            "13       76\n",
            "1      2098\n",
            "10    12152\n",
            "11     9210\n",
            "12     6113\n",
            "13     6776\n",
            "2      2668\n",
            "3      3938\n",
            "4      4915\n",
            "5      5705\n",
            "6      6931\n",
            "7      9431\n",
            "8     11145\n",
            "9     12170\n",
            "dtype: int64\n",
            "--------------------\n",
            "Education\n",
            "1       58\n",
            "2     1587\n",
            "3     3579\n",
            "4    23452\n",
            "5    26404\n",
            "6    39858\n",
            "dtype: int64\n",
            "--------------------\n",
            "Income\n",
            "1     1134\n",
            "2     1533\n",
            "3     1968\n",
            "4     2594\n",
            "5     3418\n",
            "6     4995\n",
            "7     6148\n",
            "8    11643\n",
            "1     2504\n",
            "2     3026\n",
            "3     4025\n",
            "4     5024\n",
            "5     6360\n",
            "6     8842\n",
            "7    10293\n",
            "8    21431\n",
            "dtype: int64\n",
            "--------------------\n"
          ]
        }
      ]
    },
    {
      "cell_type": "code",
      "source": [
        "# Transformamos todos los datos en floats\n",
        "for (col, i) in datos_t.iteritems():\n",
        "    datos_t[col] = pd.to_numeric(datos_t[col], errors='coerce')\n",
        "\n",
        "#Verificar que se convirtieron bien\n",
        "# Lista de nombres de columnas\n",
        "lista = datos_t.columns.tolist()\n",
        "\n",
        "#Revisar diferentes valores que hay en las columnas para continuar limpieza\n",
        "for i in lista:\n",
        "  datos_ver=datos_t.groupby([i]).size()\n",
        "  print(datos_ver)\n",
        "  print('-'*20)"
      ],
      "metadata": {
        "colab": {
          "base_uri": "https://localhost:8080/"
        },
        "id": "oPyvy_5NgH_u",
        "outputId": "4267a96d-cea9-4654-eed9-e3f61adab281"
      },
      "execution_count": null,
      "outputs": [
        {
          "output_type": "stream",
          "name": "stdout",
          "text": [
            "Diabetes_012\n",
            "0    79261\n",
            "1     1878\n",
            "2    13799\n",
            "dtype: int64\n",
            "--------------------\n",
            "HighBP\n",
            "0    52539\n",
            "1    42399\n",
            "dtype: int64\n",
            "--------------------\n",
            "HighChol\n",
            "0    53098\n",
            "1    41840\n",
            "dtype: int64\n",
            "--------------------\n",
            "CholCheck\n",
            "0     3573\n",
            "1    91365\n",
            "dtype: int64\n",
            "--------------------\n",
            "BMI\n",
            "-35    22\n",
            "-33    20\n",
            "-31    15\n",
            "-29    24\n",
            "-27    16\n",
            "       ..\n",
            " 91     1\n",
            " 92    31\n",
            " 95    10\n",
            " 96     1\n",
            " 98     7\n",
            "Length: 92, dtype: int64\n",
            "--------------------\n",
            "Smoker\n",
            "0    51588\n",
            "1    43350\n",
            "dtype: int64\n",
            "--------------------\n",
            "Stroke\n",
            "0    90849\n",
            "1     4089\n",
            "dtype: int64\n",
            "--------------------\n",
            "HeartDiseaseorAttack\n",
            "0    85736\n",
            "1     9202\n",
            "dtype: int64\n",
            "--------------------\n",
            "PhysActivity\n",
            "0    23518\n",
            "1    71420\n",
            "dtype: int64\n",
            "--------------------\n",
            "Fruits\n",
            "0.0    35447\n",
            "1.0    59491\n",
            "dtype: int64\n",
            "--------------------\n",
            "Veggies\n",
            "0    18230\n",
            "1    76708\n",
            "dtype: int64\n",
            "--------------------\n",
            "HvyAlcoholConsump\n",
            "0    89326\n",
            "1     5612\n",
            "dtype: int64\n",
            "--------------------\n",
            "AnyHealthcare\n",
            "0     4895\n",
            "1    90043\n",
            "dtype: int64\n",
            "--------------------\n",
            "NoDocbcCost\n",
            "0    86848\n",
            "1     8090\n",
            "dtype: int64\n",
            "--------------------\n",
            "GenHlth\n",
            "1    15891\n",
            "2    33009\n",
            "3    29221\n",
            "4    12125\n",
            "5     4692\n",
            "dtype: int64\n",
            "--------------------\n",
            "MentHlth\n",
            "-37        6\n",
            "-35       21\n",
            "-33       25\n",
            "-31       20\n",
            "-29       25\n",
            "-27       25\n",
            "-25       23\n",
            "-23       15\n",
            "-21       26\n",
            "-19       22\n",
            "-17       15\n",
            "-15       13\n",
            " 0     63896\n",
            " 1      3405\n",
            " 2      5062\n",
            " 3      3015\n",
            " 4      1509\n",
            " 5      3635\n",
            " 6       397\n",
            " 7      1229\n",
            " 8       234\n",
            " 9        39\n",
            " 10     2463\n",
            " 11       17\n",
            " 12      167\n",
            " 13       19\n",
            " 14      445\n",
            " 15     2125\n",
            " 16       66\n",
            " 17       14\n",
            " 18       54\n",
            " 19        9\n",
            " 20     1334\n",
            " 21       92\n",
            " 22       47\n",
            " 23       16\n",
            " 24       36\n",
            " 25      494\n",
            " 26       34\n",
            " 27       25\n",
            " 28      159\n",
            " 29       63\n",
            " 30     4528\n",
            " 32       23\n",
            " 34       24\n",
            " 36       27\n",
            "dtype: int64\n",
            "--------------------\n",
            "PhysHlth\n",
            "-43    13\n",
            "-41    21\n",
            "-39    20\n",
            "-37    17\n",
            "-35    22\n",
            "       ..\n",
            " 34    17\n",
            " 36    21\n",
            " 38    23\n",
            " 40    20\n",
            " 42    13\n",
            "Length: 51, dtype: int64\n",
            "--------------------\n",
            "DiffWalk\n",
            "0    78496\n",
            "1    16442\n",
            "dtype: int64\n",
            "--------------------\n",
            "Sex\n",
            "0    53370\n",
            "1    41568\n",
            "dtype: int64\n",
            "--------------------\n",
            "Age\n",
            "1      2160\n",
            "2      2731\n",
            "3      4036\n",
            "4      5010\n",
            "5      5792\n",
            "6      7078\n",
            "7      9659\n",
            "8     11366\n",
            "9     12375\n",
            "10    12323\n",
            "11     9352\n",
            "12     6204\n",
            "13     6852\n",
            "dtype: int64\n",
            "--------------------\n",
            "Education\n",
            "1       58\n",
            "2     1587\n",
            "3     3579\n",
            "4    23452\n",
            "5    26404\n",
            "6    39858\n",
            "dtype: int64\n",
            "--------------------\n",
            "Income\n",
            "1     3638\n",
            "2     4559\n",
            "3     5993\n",
            "4     7618\n",
            "5     9778\n",
            "6    13837\n",
            "7    16441\n",
            "8    33074\n",
            "dtype: int64\n",
            "--------------------\n"
          ]
        }
      ]
    },
    {
      "cell_type": "markdown",
      "metadata": {
        "id": "6mRZpqo4Qc1p"
      },
      "source": [
        "Ahora se nota que hay variables con valores fuera del rango establecido en el codebook, tales como BMI, MentHlth y PhysHlth que presentan valores negativos."
      ]
    },
    {
      "cell_type": "code",
      "source": [
        "#Eliminaremos las filas que contienen datos fuera de rango en BMI, MentHlth y PhysHlth \n",
        "datos_t = datos_t.drop(datos_t[datos_t['BMI']<=1].index)\n",
        "datos_t = datos_t.drop(datos_t[datos_t['MentHlth']<=1].index)\n",
        "datos_t = datos_t.drop(datos_t[datos_t['PhysHlth']<=1].index)"
      ],
      "metadata": {
        "id": "4I9qWdbah4eS"
      },
      "execution_count": null,
      "outputs": []
    },
    {
      "cell_type": "code",
      "source": [
        "#Verificar que se los datos estén en rango\n",
        "# Lista de nombres de columnas\n",
        "lista = datos_t.columns.tolist()\n",
        "\n",
        "#Revisar diferentes valores que hay en las columnas para continuar limpieza\n",
        "for i in lista:\n",
        "  datos_ver=datos_t.groupby([i]).size()\n",
        "  print(datos_ver)\n",
        "  print('-'*20)"
      ],
      "metadata": {
        "colab": {
          "base_uri": "https://localhost:8080/"
        },
        "id": "4_EzhFYNj40Z",
        "outputId": "ad481ba6-69fe-42c3-96ca-52d8cc905ecc"
      },
      "execution_count": null,
      "outputs": [
        {
          "output_type": "stream",
          "name": "stdout",
          "text": [
            "Diabetes_012\n",
            "0    10726\n",
            "1      421\n",
            "2     3208\n",
            "dtype: int64\n",
            "--------------------\n",
            "HighBP\n",
            "0    6562\n",
            "1    7793\n",
            "dtype: int64\n",
            "--------------------\n",
            "HighChol\n",
            "0    6759\n",
            "1    7596\n",
            "dtype: int64\n",
            "--------------------\n",
            "CholCheck\n",
            "0      461\n",
            "1    13894\n",
            "dtype: int64\n",
            "--------------------\n",
            "BMI\n",
            "13     1\n",
            "14     5\n",
            "15    13\n",
            "16    40\n",
            "17    51\n",
            "      ..\n",
            "87    10\n",
            "89     1\n",
            "92     3\n",
            "95     4\n",
            "98     2\n",
            "Length: 75, dtype: int64\n",
            "--------------------\n",
            "Smoker\n",
            "0    6676\n",
            "1    7679\n",
            "dtype: int64\n",
            "--------------------\n",
            "Stroke\n",
            "0    13112\n",
            "1     1243\n",
            "dtype: int64\n",
            "--------------------\n",
            "HeartDiseaseorAttack\n",
            "0    12031\n",
            "1     2324\n",
            "dtype: int64\n",
            "--------------------\n",
            "PhysActivity\n",
            "0    5407\n",
            "1    8948\n",
            "dtype: int64\n",
            "--------------------\n",
            "Fruits\n",
            "0.0    6151\n",
            "1.0    8204\n",
            "dtype: int64\n",
            "--------------------\n",
            "Veggies\n",
            "0     3425\n",
            "1    10930\n",
            "dtype: int64\n",
            "--------------------\n",
            "HvyAlcoholConsump\n",
            "0    13577\n",
            "1      778\n",
            "dtype: int64\n",
            "--------------------\n",
            "AnyHealthcare\n",
            "0      941\n",
            "1    13414\n",
            "dtype: int64\n",
            "--------------------\n",
            "NoDocbcCost\n",
            "0    11454\n",
            "1     2901\n",
            "dtype: int64\n",
            "--------------------\n",
            "GenHlth\n",
            "1     542\n",
            "2    2331\n",
            "3    4257\n",
            "4    4497\n",
            "5    2728\n",
            "dtype: int64\n",
            "--------------------\n",
            "MentHlth\n",
            "2     1903\n",
            "3     1212\n",
            "4      648\n",
            "5     1710\n",
            "6      214\n",
            "7      621\n",
            "8      126\n",
            "9       23\n",
            "10    1379\n",
            "11      12\n",
            "12     105\n",
            "13      10\n",
            "14     248\n",
            "15    1302\n",
            "16      27\n",
            "17       7\n",
            "18      30\n",
            "19       5\n",
            "20     883\n",
            "21      65\n",
            "22      26\n",
            "23      10\n",
            "24      20\n",
            "25     358\n",
            "26      17\n",
            "27      17\n",
            "28      91\n",
            "29      34\n",
            "30    3228\n",
            "32       6\n",
            "34       9\n",
            "36       9\n",
            "dtype: int64\n",
            "--------------------\n",
            "PhysHlth\n",
            "2     1922\n",
            "3     1240\n",
            "4      666\n",
            "5     1258\n",
            "6      218\n",
            "7      656\n",
            "8      151\n",
            "9       38\n",
            "10    1074\n",
            "11      11\n",
            "12     140\n",
            "13      17\n",
            "14     385\n",
            "15    1051\n",
            "16      33\n",
            "17      26\n",
            "18      49\n",
            "19       7\n",
            "20     792\n",
            "21      90\n",
            "22      29\n",
            "23      13\n",
            "24      23\n",
            "25     375\n",
            "26      30\n",
            "27      15\n",
            "28     137\n",
            "29      60\n",
            "30    3823\n",
            "32       4\n",
            "34       4\n",
            "36       4\n",
            "38       4\n",
            "40       5\n",
            "42       5\n",
            "dtype: int64\n",
            "--------------------\n",
            "DiffWalk\n",
            "0    7937\n",
            "1    6418\n",
            "dtype: int64\n",
            "--------------------\n",
            "Sex\n",
            "0    9519\n",
            "1    4836\n",
            "dtype: int64\n",
            "--------------------\n",
            "Age\n",
            "1      358\n",
            "2      425\n",
            "3      591\n",
            "4      790\n",
            "5      970\n",
            "6     1227\n",
            "7     1768\n",
            "8     2047\n",
            "9     2025\n",
            "10    1637\n",
            "11    1077\n",
            "12     695\n",
            "13     745\n",
            "dtype: int64\n",
            "--------------------\n",
            "Education\n",
            "1      19\n",
            "2     427\n",
            "3     867\n",
            "4    4022\n",
            "5    4519\n",
            "6    4501\n",
            "dtype: int64\n",
            "--------------------\n",
            "Income\n",
            "1    1385\n",
            "2    1511\n",
            "3    1516\n",
            "4    1636\n",
            "5    1647\n",
            "6    1828\n",
            "7    1867\n",
            "8    2965\n",
            "dtype: int64\n",
            "--------------------\n"
          ]
        }
      ]
    },
    {
      "cell_type": "code",
      "source": [
        "# Cantidad de datos y número de variables\n",
        "datos_t.shape"
      ],
      "metadata": {
        "colab": {
          "base_uri": "https://localhost:8080/"
        },
        "id": "KIYIAY_bjxx6",
        "outputId": "4359de2b-e5c6-4b06-8bfe-45922297213f"
      },
      "execution_count": null,
      "outputs": [
        {
          "output_type": "execute_result",
          "data": {
            "text/plain": [
              "(14355, 22)"
            ]
          },
          "metadata": {},
          "execution_count": 273
        }
      ]
    },
    {
      "cell_type": "markdown",
      "metadata": {
        "id": "OnuG1Wc1Qc1q"
      },
      "source": [
        "Es muy importante analizar el objetivo del modelo analítico a construir antes de iniciar a tomar decisiones. En este caso, por ejemplo, se debe aplicar la regla dada por el negocio, sobre qué significa que un paciente sea diabético o que no, para generar la nueva variable que será la clase (variable objetivo).\n",
        "\n",
        "Esta nueva columna la derivaremos a partir de la variable \"Diabetes_012\". Si el valor en esta variable se clasifica como \"diabético\"  será indicado con un \"1\", de lo contrario será \"no diabético y esta categoría la representaremos con un \"0\". Como en este caso también se cuenta con la clase prediabética y contiene muy pocos valores, se sumarán a la clase diabética."
      ]
    },
    {
      "cell_type": "code",
      "source": [
        "# Podemos ver los estadísticos de la variable \"Diabetes_012\"\n",
        "datos_t['Diabetes_012'].describe()"
      ],
      "metadata": {
        "colab": {
          "base_uri": "https://localhost:8080/"
        },
        "id": "3upTRipPmPfc",
        "outputId": "284f5859-c84d-46cb-c6fa-49d8859e246e"
      },
      "execution_count": null,
      "outputs": [
        {
          "output_type": "execute_result",
          "data": {
            "text/plain": [
              "count    14355.000000\n",
              "mean         0.476280\n",
              "std          0.834529\n",
              "min          0.000000\n",
              "25%          0.000000\n",
              "50%          0.000000\n",
              "75%          1.000000\n",
              "max          2.000000\n",
              "Name: Diabetes_012, dtype: float64"
            ]
          },
          "metadata": {},
          "execution_count": 183
        }
      ]
    },
    {
      "cell_type": "code",
      "source": [
        "datos_ver=datos_t.groupby([\"Diabetes_012\"]).size()\n",
        "datos_ver"
      ],
      "metadata": {
        "colab": {
          "base_uri": "https://localhost:8080/"
        },
        "id": "E0gAXnj6f-vK",
        "outputId": "a120b906-b1bb-48ef-b9bd-0a50162c142e"
      },
      "execution_count": null,
      "outputs": [
        {
          "output_type": "execute_result",
          "data": {
            "text/plain": [
              "Diabetes_012\n",
              "0    10726\n",
              "1      421\n",
              "2     3208\n",
              "dtype: int64"
            ]
          },
          "metadata": {},
          "execution_count": 184
        }
      ]
    },
    {
      "cell_type": "code",
      "source": [
        "# Ahora definimos la función que nos va a permitir construir nuestra clase.\n",
        "def label_diabetes (row):\n",
        "    if row['Diabetes_012'] > 1 :\n",
        "        return 1\n",
        "    return 0\n",
        "datos_t['diabetes_label']=datos_t.apply (lambda row: label_diabetes(row), axis=1)    "
      ],
      "metadata": {
        "id": "QJ6lA2mjldF_"
      },
      "execution_count": null,
      "outputs": []
    },
    {
      "cell_type": "code",
      "source": [
        "#Podemos ver la cantidad de datos en cada categoría de la nueva clase\n",
        "datos_ver=datos_t.groupby([\"diabetes_label\"]).size()\n",
        "datos_ver"
      ],
      "metadata": {
        "colab": {
          "base_uri": "https://localhost:8080/"
        },
        "id": "nY809uTNl7Sw",
        "outputId": "00ecd533-2fe2-4661-c79b-b6f2d3bab3ea"
      },
      "execution_count": null,
      "outputs": [
        {
          "output_type": "execute_result",
          "data": {
            "text/plain": [
              "diabetes_label\n",
              "0    10726\n",
              "1     3629\n",
              "dtype: int64"
            ]
          },
          "metadata": {},
          "execution_count": 186
        }
      ]
    },
    {
      "cell_type": "code",
      "source": [
        "#Eliminar columna Diabetes_012\n",
        "datos_t = datos_t.drop([\"Diabetes_012\"],axis=1)"
      ],
      "metadata": {
        "id": "5oE8sl5WpEDF"
      },
      "execution_count": null,
      "outputs": []
    },
    {
      "cell_type": "code",
      "execution_count": null,
      "metadata": {
        "id": "dVmb_ef5Qc1r",
        "outputId": "b4a3c06a-267d-4c73-fb63-facd6e1e7aee",
        "colab": {
          "base_uri": "https://localhost:8080/",
          "height": 270
        }
      },
      "outputs": [
        {
          "output_type": "execute_result",
          "data": {
            "text/html": [
              "\n",
              "  <div id=\"df-93522c3a-1f04-4ad2-ae6d-c827d30a82a5\">\n",
              "    <div class=\"colab-df-container\">\n",
              "      <div>\n",
              "<style scoped>\n",
              "    .dataframe tbody tr th:only-of-type {\n",
              "        vertical-align: middle;\n",
              "    }\n",
              "\n",
              "    .dataframe tbody tr th {\n",
              "        vertical-align: top;\n",
              "    }\n",
              "\n",
              "    .dataframe thead th {\n",
              "        text-align: right;\n",
              "    }\n",
              "</style>\n",
              "<table border=\"1\" class=\"dataframe\">\n",
              "  <thead>\n",
              "    <tr style=\"text-align: right;\">\n",
              "      <th></th>\n",
              "      <th>HighBP</th>\n",
              "      <th>HighChol</th>\n",
              "      <th>CholCheck</th>\n",
              "      <th>BMI</th>\n",
              "      <th>Smoker</th>\n",
              "      <th>Stroke</th>\n",
              "      <th>HeartDiseaseorAttack</th>\n",
              "      <th>PhysActivity</th>\n",
              "      <th>Fruits</th>\n",
              "      <th>Veggies</th>\n",
              "      <th>HvyAlcoholConsump</th>\n",
              "      <th>AnyHealthcare</th>\n",
              "      <th>GenHlth</th>\n",
              "      <th>MentHlth</th>\n",
              "      <th>PhysHlth</th>\n",
              "      <th>DiffWalk</th>\n",
              "      <th>Sex</th>\n",
              "      <th>Age</th>\n",
              "      <th>Education</th>\n",
              "      <th>Income</th>\n",
              "      <th>diabetes_label</th>\n",
              "    </tr>\n",
              "  </thead>\n",
              "  <tbody>\n",
              "    <tr>\n",
              "      <th>0</th>\n",
              "      <td>1</td>\n",
              "      <td>1</td>\n",
              "      <td>1</td>\n",
              "      <td>40</td>\n",
              "      <td>1</td>\n",
              "      <td>0</td>\n",
              "      <td>0</td>\n",
              "      <td>0</td>\n",
              "      <td>0.0</td>\n",
              "      <td>1</td>\n",
              "      <td>0</td>\n",
              "      <td>1</td>\n",
              "      <td>5</td>\n",
              "      <td>18</td>\n",
              "      <td>15</td>\n",
              "      <td>1</td>\n",
              "      <td>0</td>\n",
              "      <td>9</td>\n",
              "      <td>4</td>\n",
              "      <td>3</td>\n",
              "      <td>0</td>\n",
              "    </tr>\n",
              "    <tr>\n",
              "      <th>2</th>\n",
              "      <td>1</td>\n",
              "      <td>1</td>\n",
              "      <td>1</td>\n",
              "      <td>28</td>\n",
              "      <td>0</td>\n",
              "      <td>0</td>\n",
              "      <td>0</td>\n",
              "      <td>0</td>\n",
              "      <td>1.0</td>\n",
              "      <td>0</td>\n",
              "      <td>0</td>\n",
              "      <td>1</td>\n",
              "      <td>5</td>\n",
              "      <td>30</td>\n",
              "      <td>30</td>\n",
              "      <td>1</td>\n",
              "      <td>0</td>\n",
              "      <td>9</td>\n",
              "      <td>4</td>\n",
              "      <td>8</td>\n",
              "      <td>0</td>\n",
              "    </tr>\n",
              "    <tr>\n",
              "      <th>8</th>\n",
              "      <td>1</td>\n",
              "      <td>1</td>\n",
              "      <td>1</td>\n",
              "      <td>30</td>\n",
              "      <td>1</td>\n",
              "      <td>0</td>\n",
              "      <td>1</td>\n",
              "      <td>0</td>\n",
              "      <td>1.0</td>\n",
              "      <td>1</td>\n",
              "      <td>0</td>\n",
              "      <td>1</td>\n",
              "      <td>5</td>\n",
              "      <td>30</td>\n",
              "      <td>30</td>\n",
              "      <td>1</td>\n",
              "      <td>0</td>\n",
              "      <td>9</td>\n",
              "      <td>5</td>\n",
              "      <td>1</td>\n",
              "      <td>1</td>\n",
              "    </tr>\n",
              "    <tr>\n",
              "      <th>14</th>\n",
              "      <td>0</td>\n",
              "      <td>1</td>\n",
              "      <td>1</td>\n",
              "      <td>33</td>\n",
              "      <td>1</td>\n",
              "      <td>1</td>\n",
              "      <td>0</td>\n",
              "      <td>1</td>\n",
              "      <td>0.0</td>\n",
              "      <td>1</td>\n",
              "      <td>0</td>\n",
              "      <td>1</td>\n",
              "      <td>4</td>\n",
              "      <td>30</td>\n",
              "      <td>28</td>\n",
              "      <td>0</td>\n",
              "      <td>0</td>\n",
              "      <td>4</td>\n",
              "      <td>6</td>\n",
              "      <td>2</td>\n",
              "      <td>0</td>\n",
              "    </tr>\n",
              "    <tr>\n",
              "      <th>21</th>\n",
              "      <td>1</td>\n",
              "      <td>1</td>\n",
              "      <td>1</td>\n",
              "      <td>38</td>\n",
              "      <td>1</td>\n",
              "      <td>0</td>\n",
              "      <td>0</td>\n",
              "      <td>0</td>\n",
              "      <td>1.0</td>\n",
              "      <td>1</td>\n",
              "      <td>0</td>\n",
              "      <td>1</td>\n",
              "      <td>5</td>\n",
              "      <td>15</td>\n",
              "      <td>30</td>\n",
              "      <td>1</td>\n",
              "      <td>0</td>\n",
              "      <td>13</td>\n",
              "      <td>2</td>\n",
              "      <td>3</td>\n",
              "      <td>0</td>\n",
              "    </tr>\n",
              "  </tbody>\n",
              "</table>\n",
              "</div>\n",
              "      <button class=\"colab-df-convert\" onclick=\"convertToInteractive('df-93522c3a-1f04-4ad2-ae6d-c827d30a82a5')\"\n",
              "              title=\"Convert this dataframe to an interactive table.\"\n",
              "              style=\"display:none;\">\n",
              "        \n",
              "  <svg xmlns=\"http://www.w3.org/2000/svg\" height=\"24px\"viewBox=\"0 0 24 24\"\n",
              "       width=\"24px\">\n",
              "    <path d=\"M0 0h24v24H0V0z\" fill=\"none\"/>\n",
              "    <path d=\"M18.56 5.44l.94 2.06.94-2.06 2.06-.94-2.06-.94-.94-2.06-.94 2.06-2.06.94zm-11 1L8.5 8.5l.94-2.06 2.06-.94-2.06-.94L8.5 2.5l-.94 2.06-2.06.94zm10 10l.94 2.06.94-2.06 2.06-.94-2.06-.94-.94-2.06-.94 2.06-2.06.94z\"/><path d=\"M17.41 7.96l-1.37-1.37c-.4-.4-.92-.59-1.43-.59-.52 0-1.04.2-1.43.59L10.3 9.45l-7.72 7.72c-.78.78-.78 2.05 0 2.83L4 21.41c.39.39.9.59 1.41.59.51 0 1.02-.2 1.41-.59l7.78-7.78 2.81-2.81c.8-.78.8-2.07 0-2.86zM5.41 20L4 18.59l7.72-7.72 1.47 1.35L5.41 20z\"/>\n",
              "  </svg>\n",
              "      </button>\n",
              "      \n",
              "  <style>\n",
              "    .colab-df-container {\n",
              "      display:flex;\n",
              "      flex-wrap:wrap;\n",
              "      gap: 12px;\n",
              "    }\n",
              "\n",
              "    .colab-df-convert {\n",
              "      background-color: #E8F0FE;\n",
              "      border: none;\n",
              "      border-radius: 50%;\n",
              "      cursor: pointer;\n",
              "      display: none;\n",
              "      fill: #1967D2;\n",
              "      height: 32px;\n",
              "      padding: 0 0 0 0;\n",
              "      width: 32px;\n",
              "    }\n",
              "\n",
              "    .colab-df-convert:hover {\n",
              "      background-color: #E2EBFA;\n",
              "      box-shadow: 0px 1px 2px rgba(60, 64, 67, 0.3), 0px 1px 3px 1px rgba(60, 64, 67, 0.15);\n",
              "      fill: #174EA6;\n",
              "    }\n",
              "\n",
              "    [theme=dark] .colab-df-convert {\n",
              "      background-color: #3B4455;\n",
              "      fill: #D2E3FC;\n",
              "    }\n",
              "\n",
              "    [theme=dark] .colab-df-convert:hover {\n",
              "      background-color: #434B5C;\n",
              "      box-shadow: 0px 1px 3px 1px rgba(0, 0, 0, 0.15);\n",
              "      filter: drop-shadow(0px 1px 2px rgba(0, 0, 0, 0.3));\n",
              "      fill: #FFFFFF;\n",
              "    }\n",
              "  </style>\n",
              "\n",
              "      <script>\n",
              "        const buttonEl =\n",
              "          document.querySelector('#df-93522c3a-1f04-4ad2-ae6d-c827d30a82a5 button.colab-df-convert');\n",
              "        buttonEl.style.display =\n",
              "          google.colab.kernel.accessAllowed ? 'block' : 'none';\n",
              "\n",
              "        async function convertToInteractive(key) {\n",
              "          const element = document.querySelector('#df-93522c3a-1f04-4ad2-ae6d-c827d30a82a5');\n",
              "          const dataTable =\n",
              "            await google.colab.kernel.invokeFunction('convertToInteractive',\n",
              "                                                     [key], {});\n",
              "          if (!dataTable) return;\n",
              "\n",
              "          const docLinkHtml = 'Like what you see? Visit the ' +\n",
              "            '<a target=\"_blank\" href=https://colab.research.google.com/notebooks/data_table.ipynb>data table notebook</a>'\n",
              "            + ' to learn more about interactive tables.';\n",
              "          element.innerHTML = '';\n",
              "          dataTable['output_type'] = 'display_data';\n",
              "          await google.colab.output.renderOutput(dataTable, element);\n",
              "          const docLink = document.createElement('div');\n",
              "          docLink.innerHTML = docLinkHtml;\n",
              "          element.appendChild(docLink);\n",
              "        }\n",
              "      </script>\n",
              "    </div>\n",
              "  </div>\n",
              "  "
            ],
            "text/plain": [
              "    HighBP  HighChol  CholCheck  BMI  Smoker  Stroke  HeartDiseaseorAttack  \\\n",
              "0        1         1          1   40       1       0                     0   \n",
              "2        1         1          1   28       0       0                     0   \n",
              "8        1         1          1   30       1       0                     1   \n",
              "14       0         1          1   33       1       1                     0   \n",
              "21       1         1          1   38       1       0                     0   \n",
              "\n",
              "    PhysActivity  Fruits  Veggies  HvyAlcoholConsump  AnyHealthcare  GenHlth  \\\n",
              "0              0     0.0        1                  0              1        5   \n",
              "2              0     1.0        0                  0              1        5   \n",
              "8              0     1.0        1                  0              1        5   \n",
              "14             1     0.0        1                  0              1        4   \n",
              "21             0     1.0        1                  0              1        5   \n",
              "\n",
              "    MentHlth  PhysHlth  DiffWalk  Sex  Age  Education  Income  diabetes_label  \n",
              "0         18        15         1    0    9          4       3               0  \n",
              "2         30        30         1    0    9          4       8               0  \n",
              "8         30        30         1    0    9          5       1               1  \n",
              "14        30        28         0    0    4          6       2               0  \n",
              "21        15        30         1    0   13          2       3               0  "
            ]
          },
          "metadata": {},
          "execution_count": 275
        }
      ],
      "source": [
        "datos_t.head()"
      ]
    },
    {
      "cell_type": "code",
      "execution_count": null,
      "metadata": {
        "id": "6vv2jrmYQc1r",
        "outputId": "571ae203-390b-4bfc-9cdc-76d86702423c",
        "colab": {
          "base_uri": "https://localhost:8080/"
        }
      },
      "outputs": [
        {
          "output_type": "execute_result",
          "data": {
            "text/plain": [
              "0    10726\n",
              "1     3629\n",
              "Name: diabetes_label, dtype: int64"
            ]
          },
          "metadata": {},
          "execution_count": 276
        }
      ],
      "source": [
        "# Cantidad de datos de cada clase\n",
        "pd.value_counts(datos_t['diabetes_label'])"
      ]
    },
    {
      "cell_type": "code",
      "execution_count": null,
      "metadata": {
        "id": "9UKNxaNlQc1s",
        "outputId": "581f1269-aaf0-4529-d666-a5f0dd324905",
        "colab": {
          "base_uri": "https://localhost:8080/",
          "height": 280
        }
      },
      "outputs": [
        {
          "output_type": "display_data",
          "data": {
            "image/png": "[encoded data removed]",
            "text/plain": [
              "<Figure size 432x288 with 1 Axes>"
            ]
          },
          "metadata": {
            "needs_background": "light"
          }
        }
      ],
      "source": [
        "# También podemos vizualizar las proporciones con un diagrama de barras.\n",
        "ax = sns.countplot(x='diabetes_label', data=datos_t)"
      ]
    },
    {
      "cell_type": "markdown",
      "source": [
        "Los datos se ven muy desbalanceados,por esta razón es necesario aplicar un algoritmo como SMOTE que permita tener una mejor distribución de estos."
      ],
      "metadata": {
        "id": "VRzW-DIHoFn3"
      }
    },
    {
      "cell_type": "code",
      "execution_count": null,
      "metadata": {
        "id": "TzYhBA0lQc1s"
      },
      "outputs": [],
      "source": [
        "# Eliminaremos las variables que consideramos no son útiles para la tarea que queremos resolver, como NoDocbcCost.\n",
        "datos_t = datos_t.drop(['NoDocbcCost'], axis=1)\n",
        "datos_t = datos_t.drop(['Diabetes_012'], axis=1)\n",
        "datos_t = datos_t.drop(['Education'], axis=1)\n",
        "datos_t = datos_t.drop(['CholCheck'], axis=1)\n",
        "datos_t = datos_t.drop(['GenHlth'], axis=1)"
      ]
    },
    {
      "cell_type": "markdown",
      "metadata": {
        "id": "iEKGNlBBQc1s"
      },
      "source": [
        "Un aspecto muy importante para tener en cuenta son los requerimientos de entrada de los algoritmos de aprendizaje implementados en las librerías utilizadas. En particular, scikit-learn requiere que todos los atributos sean numéricos y que la variable objetivo, en una tarea de clasificación, esté codificada con números."
      ]
    },
    {
      "cell_type": "code",
      "execution_count": null,
      "metadata": {
        "id": "Iv3ZtKQQQc1s",
        "outputId": "64f683c7-9b35-4834-adde-29588dcf3c13",
        "colab": {
          "base_uri": "https://localhost:8080/"
        }
      },
      "outputs": [
        {
          "output_type": "execute_result",
          "data": {
            "text/plain": [
              "Index(['HighBP', 'HighChol', 'BMI', 'Smoker', 'Stroke', 'HeartDiseaseorAttack',\n",
              "       'PhysActivity', 'Fruits', 'Veggies', 'HvyAlcoholConsump',\n",
              "       'AnyHealthcare', 'MentHlth', 'PhysHlth', 'DiffWalk', 'Sex', 'Age',\n",
              "       'Income', 'diabetes_label'],\n",
              "      dtype='object')"
            ]
          },
          "metadata": {},
          "execution_count": 18
        }
      ],
      "source": [
        "# Vamos a seleccionar de nuestro conjunto solo los atributos numéricos.\n",
        "number_cols = datos_t.dtypes[(datos_t.dtypes == np.int64) | (datos_t.dtypes == np.float64)].index \n",
        "number_cols = datos_t.select_dtypes(include = ['int64','float']).columns\n",
        "number_cols"
      ]
    },
    {
      "cell_type": "code",
      "execution_count": null,
      "metadata": {
        "id": "mHuibGUIQc1t"
      },
      "outputs": [],
      "source": [
        "datos_m = datos_t[number_cols]"
      ]
    },
    {
      "cell_type": "code",
      "execution_count": null,
      "metadata": {
        "id": "_wAv3u-nQc1t",
        "outputId": "b9664900-ec6c-422f-903c-ac10d8630489",
        "colab": {
          "base_uri": "https://localhost:8080/",
          "height": 270
        }
      },
      "outputs": [
        {
          "output_type": "execute_result",
          "data": {
            "text/html": [
              "\n",
              "  <div id=\"df-846e5ed7-092d-4785-974c-c7ff28eb6397\">\n",
              "    <div class=\"colab-df-container\">\n",
              "      <div>\n",
              "<style scoped>\n",
              "    .dataframe tbody tr th:only-of-type {\n",
              "        vertical-align: middle;\n",
              "    }\n",
              "\n",
              "    .dataframe tbody tr th {\n",
              "        vertical-align: top;\n",
              "    }\n",
              "\n",
              "    .dataframe thead th {\n",
              "        text-align: right;\n",
              "    }\n",
              "</style>\n",
              "<table border=\"1\" class=\"dataframe\">\n",
              "  <thead>\n",
              "    <tr style=\"text-align: right;\">\n",
              "      <th></th>\n",
              "      <th>HighBP</th>\n",
              "      <th>HighChol</th>\n",
              "      <th>CholCheck</th>\n",
              "      <th>BMI</th>\n",
              "      <th>Smoker</th>\n",
              "      <th>Stroke</th>\n",
              "      <th>HeartDiseaseorAttack</th>\n",
              "      <th>PhysActivity</th>\n",
              "      <th>Fruits</th>\n",
              "      <th>Veggies</th>\n",
              "      <th>HvyAlcoholConsump</th>\n",
              "      <th>AnyHealthcare</th>\n",
              "      <th>GenHlth</th>\n",
              "      <th>MentHlth</th>\n",
              "      <th>PhysHlth</th>\n",
              "      <th>DiffWalk</th>\n",
              "      <th>Sex</th>\n",
              "      <th>Age</th>\n",
              "      <th>Education</th>\n",
              "      <th>Income</th>\n",
              "      <th>diabetes_label</th>\n",
              "    </tr>\n",
              "  </thead>\n",
              "  <tbody>\n",
              "    <tr>\n",
              "      <th>0</th>\n",
              "      <td>1</td>\n",
              "      <td>1</td>\n",
              "      <td>1</td>\n",
              "      <td>40</td>\n",
              "      <td>1</td>\n",
              "      <td>0</td>\n",
              "      <td>0</td>\n",
              "      <td>0</td>\n",
              "      <td>0.0</td>\n",
              "      <td>1</td>\n",
              "      <td>0</td>\n",
              "      <td>1</td>\n",
              "      <td>5</td>\n",
              "      <td>18</td>\n",
              "      <td>15</td>\n",
              "      <td>1</td>\n",
              "      <td>0</td>\n",
              "      <td>9</td>\n",
              "      <td>4</td>\n",
              "      <td>3</td>\n",
              "      <td>0</td>\n",
              "    </tr>\n",
              "    <tr>\n",
              "      <th>2</th>\n",
              "      <td>1</td>\n",
              "      <td>1</td>\n",
              "      <td>1</td>\n",
              "      <td>28</td>\n",
              "      <td>0</td>\n",
              "      <td>0</td>\n",
              "      <td>0</td>\n",
              "      <td>0</td>\n",
              "      <td>1.0</td>\n",
              "      <td>0</td>\n",
              "      <td>0</td>\n",
              "      <td>1</td>\n",
              "      <td>5</td>\n",
              "      <td>30</td>\n",
              "      <td>30</td>\n",
              "      <td>1</td>\n",
              "      <td>0</td>\n",
              "      <td>9</td>\n",
              "      <td>4</td>\n",
              "      <td>8</td>\n",
              "      <td>0</td>\n",
              "    </tr>\n",
              "    <tr>\n",
              "      <th>8</th>\n",
              "      <td>1</td>\n",
              "      <td>1</td>\n",
              "      <td>1</td>\n",
              "      <td>30</td>\n",
              "      <td>1</td>\n",
              "      <td>0</td>\n",
              "      <td>1</td>\n",
              "      <td>0</td>\n",
              "      <td>1.0</td>\n",
              "      <td>1</td>\n",
              "      <td>0</td>\n",
              "      <td>1</td>\n",
              "      <td>5</td>\n",
              "      <td>30</td>\n",
              "      <td>30</td>\n",
              "      <td>1</td>\n",
              "      <td>0</td>\n",
              "      <td>9</td>\n",
              "      <td>5</td>\n",
              "      <td>1</td>\n",
              "      <td>1</td>\n",
              "    </tr>\n",
              "    <tr>\n",
              "      <th>14</th>\n",
              "      <td>0</td>\n",
              "      <td>1</td>\n",
              "      <td>1</td>\n",
              "      <td>33</td>\n",
              "      <td>1</td>\n",
              "      <td>1</td>\n",
              "      <td>0</td>\n",
              "      <td>1</td>\n",
              "      <td>0.0</td>\n",
              "      <td>1</td>\n",
              "      <td>0</td>\n",
              "      <td>1</td>\n",
              "      <td>4</td>\n",
              "      <td>30</td>\n",
              "      <td>28</td>\n",
              "      <td>0</td>\n",
              "      <td>0</td>\n",
              "      <td>4</td>\n",
              "      <td>6</td>\n",
              "      <td>2</td>\n",
              "      <td>0</td>\n",
              "    </tr>\n",
              "    <tr>\n",
              "      <th>21</th>\n",
              "      <td>1</td>\n",
              "      <td>1</td>\n",
              "      <td>1</td>\n",
              "      <td>38</td>\n",
              "      <td>1</td>\n",
              "      <td>0</td>\n",
              "      <td>0</td>\n",
              "      <td>0</td>\n",
              "      <td>1.0</td>\n",
              "      <td>1</td>\n",
              "      <td>0</td>\n",
              "      <td>1</td>\n",
              "      <td>5</td>\n",
              "      <td>15</td>\n",
              "      <td>30</td>\n",
              "      <td>1</td>\n",
              "      <td>0</td>\n",
              "      <td>13</td>\n",
              "      <td>2</td>\n",
              "      <td>3</td>\n",
              "      <td>0</td>\n",
              "    </tr>\n",
              "  </tbody>\n",
              "</table>\n",
              "</div>\n",
              "      <button class=\"colab-df-convert\" onclick=\"convertToInteractive('df-846e5ed7-092d-4785-974c-c7ff28eb6397')\"\n",
              "              title=\"Convert this dataframe to an interactive table.\"\n",
              "              style=\"display:none;\">\n",
              "        \n",
              "  <svg xmlns=\"http://www.w3.org/2000/svg\" height=\"24px\"viewBox=\"0 0 24 24\"\n",
              "       width=\"24px\">\n",
              "    <path d=\"M0 0h24v24H0V0z\" fill=\"none\"/>\n",
              "    <path d=\"M18.56 5.44l.94 2.06.94-2.06 2.06-.94-2.06-.94-.94-2.06-.94 2.06-2.06.94zm-11 1L8.5 8.5l.94-2.06 2.06-.94-2.06-.94L8.5 2.5l-.94 2.06-2.06.94zm10 10l.94 2.06.94-2.06 2.06-.94-2.06-.94-.94-2.06-.94 2.06-2.06.94z\"/><path d=\"M17.41 7.96l-1.37-1.37c-.4-.4-.92-.59-1.43-.59-.52 0-1.04.2-1.43.59L10.3 9.45l-7.72 7.72c-.78.78-.78 2.05 0 2.83L4 21.41c.39.39.9.59 1.41.59.51 0 1.02-.2 1.41-.59l7.78-7.78 2.81-2.81c.8-.78.8-2.07 0-2.86zM5.41 20L4 18.59l7.72-7.72 1.47 1.35L5.41 20z\"/>\n",
              "  </svg>\n",
              "      </button>\n",
              "      \n",
              "  <style>\n",
              "    .colab-df-container {\n",
              "      display:flex;\n",
              "      flex-wrap:wrap;\n",
              "      gap: 12px;\n",
              "    }\n",
              "\n",
              "    .colab-df-convert {\n",
              "      background-color: #E8F0FE;\n",
              "      border: none;\n",
              "      border-radius: 50%;\n",
              "      cursor: pointer;\n",
              "      display: none;\n",
              "      fill: #1967D2;\n",
              "      height: 32px;\n",
              "      padding: 0 0 0 0;\n",
              "      width: 32px;\n",
              "    }\n",
              "\n",
              "    .colab-df-convert:hover {\n",
              "      background-color: #E2EBFA;\n",
              "      box-shadow: 0px 1px 2px rgba(60, 64, 67, 0.3), 0px 1px 3px 1px rgba(60, 64, 67, 0.15);\n",
              "      fill: #174EA6;\n",
              "    }\n",
              "\n",
              "    [theme=dark] .colab-df-convert {\n",
              "      background-color: #3B4455;\n",
              "      fill: #D2E3FC;\n",
              "    }\n",
              "\n",
              "    [theme=dark] .colab-df-convert:hover {\n",
              "      background-color: #434B5C;\n",
              "      box-shadow: 0px 1px 3px 1px rgba(0, 0, 0, 0.15);\n",
              "      filter: drop-shadow(0px 1px 2px rgba(0, 0, 0, 0.3));\n",
              "      fill: #FFFFFF;\n",
              "    }\n",
              "  </style>\n",
              "\n",
              "      <script>\n",
              "        const buttonEl =\n",
              "          document.querySelector('#df-846e5ed7-092d-4785-974c-c7ff28eb6397 button.colab-df-convert');\n",
              "        buttonEl.style.display =\n",
              "          google.colab.kernel.accessAllowed ? 'block' : 'none';\n",
              "\n",
              "        async function convertToInteractive(key) {\n",
              "          const element = document.querySelector('#df-846e5ed7-092d-4785-974c-c7ff28eb6397');\n",
              "          const dataTable =\n",
              "            await google.colab.kernel.invokeFunction('convertToInteractive',\n",
              "                                                     [key], {});\n",
              "          if (!dataTable) return;\n",
              "\n",
              "          const docLinkHtml = 'Like what you see? Visit the ' +\n",
              "            '<a target=\"_blank\" href=https://colab.research.google.com/notebooks/data_table.ipynb>data table notebook</a>'\n",
              "            + ' to learn more about interactive tables.';\n",
              "          element.innerHTML = '';\n",
              "          dataTable['output_type'] = 'display_data';\n",
              "          await google.colab.output.renderOutput(dataTable, element);\n",
              "          const docLink = document.createElement('div');\n",
              "          docLink.innerHTML = docLinkHtml;\n",
              "          element.appendChild(docLink);\n",
              "        }\n",
              "      </script>\n",
              "    </div>\n",
              "  </div>\n",
              "  "
            ],
            "text/plain": [
              "    HighBP  HighChol  CholCheck  BMI  Smoker  Stroke  HeartDiseaseorAttack  \\\n",
              "0        1         1          1   40       1       0                     0   \n",
              "2        1         1          1   28       0       0                     0   \n",
              "8        1         1          1   30       1       0                     1   \n",
              "14       0         1          1   33       1       1                     0   \n",
              "21       1         1          1   38       1       0                     0   \n",
              "\n",
              "    PhysActivity  Fruits  Veggies  HvyAlcoholConsump  AnyHealthcare  GenHlth  \\\n",
              "0              0     0.0        1                  0              1        5   \n",
              "2              0     1.0        0                  0              1        5   \n",
              "8              0     1.0        1                  0              1        5   \n",
              "14             1     0.0        1                  0              1        4   \n",
              "21             0     1.0        1                  0              1        5   \n",
              "\n",
              "    MentHlth  PhysHlth  DiffWalk  Sex  Age  Education  Income  diabetes_label  \n",
              "0         18        15         1    0    9          4       3               0  \n",
              "2         30        30         1    0    9          4       8               0  \n",
              "8         30        30         1    0    9          5       1               1  \n",
              "14        30        28         0    0    4          6       2               0  \n",
              "21        15        30         1    0   13          2       3               0  "
            ]
          },
          "metadata": {},
          "execution_count": 281
        }
      ],
      "source": [
        "# Podemos ver como quedaron los datos\n",
        "datos_m.head()"
      ]
    },
    {
      "cell_type": "code",
      "execution_count": null,
      "metadata": {
        "id": "sfl53YXDQc1t",
        "outputId": "3b86d789-0835-43d5-a82d-5a5ea4924248",
        "colab": {
          "base_uri": "https://localhost:8080/"
        }
      },
      "outputs": [
        {
          "output_type": "execute_result",
          "data": {
            "text/plain": [
              "(14355, 21)"
            ]
          },
          "metadata": {},
          "execution_count": 282
        }
      ],
      "source": [
        "# Revisión del total de registros\n",
        "datos_m.shape"
      ]
    },
    {
      "cell_type": "markdown",
      "source": [
        "### 3. Construcción del modelo con árboles de decisión"
      ],
      "metadata": {
        "id": "SfYYM5BoETO5"
      }
    },
    {
      "cell_type": "code",
      "source": [
        "# Se selecciona la variable objetivo, en este caso \"diabetes_label\".\n",
        "Y = datos_m['diabetes_label']\n",
        "# Del conjunto de datos se elimina la variable \"diabetes_label\"\n",
        "X = datos_m.drop(['diabetes_label'], axis=1)"
      ],
      "metadata": {
        "id": "urqu7zuAEj-5"
      },
      "execution_count": null,
      "outputs": []
    },
    {
      "cell_type": "markdown",
      "source": [
        "Utilizamos SMOTE para balancear los datos"
      ],
      "metadata": {
        "id": "nl46l9bKEnqV"
      }
    },
    {
      "cell_type": "code",
      "source": [
        "from imblearn.over_sampling import SMOTE \n",
        "\n",
        "sm = SMOTE(random_state=42)\n",
        "\n",
        "X_sm, y_sm = sm.fit_resample(X, Y)\n",
        "\n",
        "print(f'''Shape of X before SMOTE: {X.shape}\n",
        "Shape of X after SMOTE: {X_sm.shape}''')\n",
        "\n",
        "print('\\nBalance of positive and negative classes (%):')\n",
        "y_sm.value_counts(normalize=True) * 100"
      ],
      "metadata": {
        "id": "zkVgWAkhEnL8"
      },
      "execution_count": null,
      "outputs": []
    },
    {
      "cell_type": "code",
      "source": [
        "# Dividir los datos en entrenamiento y test\n",
        "X_train, X_test, Y_train, Y_test = train_test_split(X_sm, y_sm, test_size=0.2, random_state=0)\n",
        "\n",
        "# Crear el objeto de arbol de decisión. Utilicemos como criterio de pureza la entropía.\n",
        "arbol = DecisionTreeClassifier(criterion='entropy', random_state=42)\n",
        "\n",
        "# Entrenar el modelo de arbol de decisión con los datos de entrenamiento\n",
        "arbol = arbol.fit(X_train,Y_train)"
      ],
      "metadata": {
        "id": "QentI3tuEvF4"
      },
      "execution_count": null,
      "outputs": []
    },
    {
      "cell_type": "code",
      "source": [
        "# Determinamos las predicciones del modelo sobre el conjunto test.\n",
        "y_pred = arbol.predict(X_test)\n",
        "\n",
        "# Se genera la matriz de confusión\n",
        "confusion_matrix(Y_test, y_pred)"
      ],
      "metadata": {
        "id": "eV6MTfF-E2y2"
      },
      "execution_count": null,
      "outputs": []
    },
    {
      "cell_type": "code",
      "source": [
        "# Se puede visualizar la matriz de confusión\n",
        "plot_confusion_matrix(arbol, X_test, Y_test)  \n",
        "plt.show()"
      ],
      "metadata": {
        "id": "ZxTjAC-NE6mX"
      },
      "execution_count": null,
      "outputs": []
    },
    {
      "cell_type": "code",
      "source": [
        "print('Exactitud: %.2f' % accuracy_score(Y_test, y_pred))\n",
        "print(\"Recall: {}\".format(recall_score(Y_test,y_pred)))\n",
        "print(\"Precisión: {}\".format(precision_score(Y_test,y_pred)))\n",
        "print(\"Puntuación F1: {}\".format(f1_score(Y_test,y_pred)))"
      ],
      "metadata": {
        "id": "NHIWcQkPE8hu"
      },
      "execution_count": null,
      "outputs": []
    },
    {
      "cell_type": "code",
      "source": [
        "# Mostrar reporte de clasificación\n",
        "print(classification_report(Y_test, y_pred))"
      ],
      "metadata": {
        "id": "1NjMAYZVE-Xr"
      },
      "execution_count": null,
      "outputs": []
    },
    {
      "cell_type": "code",
      "source": [
        "# Calculemos también las métricas de rendimiento sobre el conjunto de entrenamiento.\n",
        "y_pred = arbol.predict(X_train)\n",
        "print('Exactitud: %.2f' % accuracy_score(Y_train, y_pred))\n",
        "print(\"Recall: {}\".format(recall_score(Y_train,y_pred)))\n",
        "print(\"Precisión: {}\".format(precision_score(Y_train,y_pred)))\n",
        "print(\"Puntuación F1: {}\".format(f1_score(Y_train,y_pred)))"
      ],
      "metadata": {
        "id": "L4_1_xQJFIOo"
      },
      "execution_count": null,
      "outputs": []
    },
    {
      "cell_type": "markdown",
      "source": [
        "###3.1 Interpretación del modelo. Aplica para árboles de decisión"
      ],
      "metadata": {
        "id": "qF4ueKjoFKnl"
      }
    },
    {
      "cell_type": "code",
      "source": [
        "# Obtener la importancia de las variables. Para esto podemos utilizar uno de los atributos del modelo \"feature_importances_\", el\n",
        "# cual nos devuelve un coeficiente o peso para cada atributo: mientras más grande sea este más importante será la variable\n",
        "# asociada.\n",
        "importancia = arbol.feature_importances_\n",
        "importancia"
      ],
      "metadata": {
        "id": "ThqQ7MA2FRm6"
      },
      "execution_count": null,
      "outputs": []
    },
    {
      "cell_type": "code",
      "source": [
        "# importancia_atributo = pd.DataFrame(data={\"Atributo\": X_train.columns,\"Importancia\": importancia})\n",
        "importancia_atributo = pd.DataFrame(data={\"Atributo\": X_train.columns,\"Importancia\": importancia})\n",
        "importancia_atributo = importancia_atributo.sort_values(by='Importancia', ascending=False).reset_index(drop=True)\n",
        "importancia_atributo"
      ],
      "metadata": {
        "id": "eVvH6o8pFVqA"
      },
      "execution_count": null,
      "outputs": []
    },
    {
      "cell_type": "code",
      "source": [
        "# Además, podemos visualizar el árbol.\n",
        "fig = plt.figure(figsize=(25,10))\n",
        "_ = tree.plot_tree(arbol, max_depth=3, feature_names=X.columns, class_names=[\"0\", \"1\"], filled=True, fontsize=9)"
      ],
      "metadata": {
        "id": "QxWiJPHfFh5W"
      },
      "execution_count": null,
      "outputs": []
    },
    {
      "cell_type": "markdown",
      "source": [
        "### 3.2. Construcción del modelo con búsqueda de hiperparámetros."
      ],
      "metadata": {
        "id": "wnKfzdJcFzry"
      }
    },
    {
      "cell_type": "code",
      "source": [
        "# Dividimos el conjunto de entrenamiento en dos: una para la construcción del modelo (sería el nuevo conjunto de \n",
        "# entrenamiento) y otro para la validación, el cuál será utilizado para determinar el rendimiento del modelo con una\n",
        "# combinación específica de hiperparámetros.\n",
        "X_trainval, X_val, Y_trainval, Y_val = train_test_split(X_train, Y_train, test_size = 0.15, random_state = 0)"
      ],
      "metadata": {
        "id": "D0SArzi3F0ln"
      },
      "execution_count": null,
      "outputs": []
    },
    {
      "cell_type": "code",
      "source": [
        "# Fijemos un valor de max_depth en 2, construyamos el modelo y probemos sobre validación. Utilicemos la exactitud como métrica \n",
        "# de rendimiento para hacer la selección.\n",
        "arbol = DecisionTreeClassifier(criterion='entropy', max_depth = 4, random_state=0)\n",
        "arbol = arbol.fit(X_train,Y_train)"
      ],
      "metadata": {
        "id": "DebeFhNkGACp"
      },
      "execution_count": null,
      "outputs": []
    },
    {
      "cell_type": "code",
      "source": [
        "# Determinemos los valores de exactitud sobre entrenamiento y test\n",
        "y_pred_train = arbol.predict(X_train)\n",
        "y_pred_test = arbol.predict(X_test)\n",
        "print('Exactitud sobre entrenamiento: %.2f' % accuracy_score(Y_train, y_pred_train))\n",
        "print('Exactitud sobre test: %.2f' % accuracy_score(Y_test, y_pred_test))"
      ],
      "metadata": {
        "id": "v1DYjVZXGC-6"
      },
      "execution_count": null,
      "outputs": []
    },
    {
      "cell_type": "code",
      "source": [
        "# Ahora probemos con otro valor de profundidad de árbol.\n",
        "arbol = DecisionTreeClassifier(criterion='entropy', max_depth = 6, random_state=0)\n",
        "arbol = arbol.fit(X_train,Y_train)\n",
        "y_pred_train = arbol.predict(X_train)\n",
        "y_pred_test = arbol.predict(X_test)\n",
        "print('Exactitud sobre entrenamiento: %.2f' % accuracy_score(Y_train, y_pred_train))\n",
        "print('Exactitud sobre test: %.2f' % accuracy_score(Y_test, y_pred_test))"
      ],
      "metadata": {
        "id": "IDOUvXJ-GE5V"
      },
      "execution_count": null,
      "outputs": []
    },
    {
      "cell_type": "code",
      "source": [
        "# Ahora probemos con otro valor de profundidad de árbol.\n",
        "arbol = DecisionTreeClassifier(criterion='entropy', max_depth = 8, random_state=0)\n",
        "arbol = arbol.fit(X_train,Y_train)\n",
        "y_pred_train = arbol.predict(X_train)\n",
        "y_pred_test = arbol.predict(X_test)\n",
        "print('Exactitud sobre entrenamiento: %.2f' % accuracy_score(Y_train, y_pred_train))\n",
        "print('Exactitud sobre test: %.2f' % accuracy_score(Y_test, y_pred_test))"
      ],
      "metadata": {
        "id": "F4ZbIFGeGGrX"
      },
      "execution_count": null,
      "outputs": []
    },
    {
      "cell_type": "code",
      "source": [
        "# Ahora probemos con otro valor de profundidad de árbol.\n",
        "arbol = DecisionTreeClassifier(criterion='entropy', max_depth = 10, random_state=0)\n",
        "arbol = arbol.fit(X_train,Y_train)\n",
        "y_pred_train = arbol.predict(X_train)\n",
        "y_pred_test = arbol.predict(X_test)\n",
        "print('Exactitud sobre entrenamiento: %.2f' % accuracy_score(Y_train, y_pred_train))\n",
        "print('Exactitud sobre test: %.2f' % accuracy_score(Y_test, y_pred_test))"
      ],
      "metadata": {
        "id": "PfFo4ST8GIW7"
      },
      "execution_count": null,
      "outputs": []
    },
    {
      "cell_type": "code",
      "source": [
        "# Ahora probemos con otro valor de profundidad de árbol.\n",
        "arbol = DecisionTreeClassifier(criterion='entropy', max_depth = 20, random_state=0)\n",
        "arbol = arbol.fit(X_train,Y_train)\n",
        "y_pred_train = arbol.predict(X_train)\n",
        "y_pred_test = arbol.predict(X_test)\n",
        "print('Exactitud sobre entrenamiento: %.2f' % accuracy_score(Y_train, y_pred_train))\n",
        "print('Exactitud sobre test: %.2f' % accuracy_score(Y_test, y_pred_test))"
      ],
      "metadata": {
        "id": "PHg4xlzlGKRD"
      },
      "execution_count": null,
      "outputs": []
    },
    {
      "cell_type": "code",
      "source": [
        "# Fijemos el número de particiones. Utilizaremos K = 10.\n",
        "particiones = KFold(n_splits=10, shuffle=True, random_state = 0)"
      ],
      "metadata": {
        "id": "mNp-aydBGLpz"
      },
      "execution_count": null,
      "outputs": []
    },
    {
      "cell_type": "code",
      "source": [
        "# Establecemos el espacio de búsqueda para los hiperparámetros que deseamos ajustar. \n",
        "param_grid = {'criterion':['gini', 'entropy'],'max_depth':[4,6,8,10,20],'min_samples_split':[2, 3, 4, 5]}"
      ],
      "metadata": {
        "id": "XjXui3bUGNqL"
      },
      "execution_count": null,
      "outputs": []
    },
    {
      "cell_type": "code",
      "source": [
        "# Definimos el modelo sin ningún valor de estos hiperparámetros\n",
        "arbol = DecisionTreeClassifier(random_state=0)"
      ],
      "metadata": {
        "id": "4z_3wrLyGPbH"
      },
      "execution_count": null,
      "outputs": []
    },
    {
      "cell_type": "code",
      "source": [
        "# Podemos ver cuál fue el resultado de la búsqueda (mejores valores de hiperparámetros)\n",
        "mejor_modelo.best_params_"
      ],
      "metadata": {
        "id": "q0u0_OocGQ2h"
      },
      "execution_count": null,
      "outputs": []
    },
    {
      "cell_type": "code",
      "source": [
        "# Obtener el mejor modelo.\n",
        "arbol_final = mejor_modelo.best_estimator_\n",
        "# Probemos ahora este modelo sobre test.\n",
        "y_pred_train = arbol_final.predict(X_train)\n",
        "y_pred_test = arbol_final.predict(X_test)\n",
        "print('Exactitud sobre entrenamiento: %.2f' % accuracy_score(Y_train, y_pred_train))\n",
        "print('Exactitud sobre test: %.2f' % accuracy_score(Y_test, y_pred_test))"
      ],
      "metadata": {
        "id": "1dAsM_n8GS4D"
      },
      "execution_count": null,
      "outputs": []
    },
    {
      "cell_type": "code",
      "source": [
        "print(classification_report(Y_test, y_pred_test))"
      ],
      "metadata": {
        "id": "I_5hCDn2GUoi"
      },
      "execution_count": null,
      "outputs": []
    },
    {
      "cell_type": "markdown",
      "metadata": {
        "id": "HSKte8rbQc15"
      },
      "source": [
        "### 4. Construcción del modelo con KNN.\n",
        "\n"
      ]
    },
    {
      "cell_type": "code",
      "source": [
        "# Se selecciona la variable objetivo, en este caso \"diabetes_label\".\n",
        "Y = datos_m['diabetes_label']\n",
        "# Del conjunto de datos se elimina la variable \"diabetes_label\"\n",
        "X = datos_m.drop(['diabetes_label'], axis=1)\n",
        "\n",
        "# Dividir los datos en entrenamiento y test\n",
        "X_train, X_test, Y_train, Y_test = train_test_split(X, Y, test_size=0.2, random_state=0)\n",
        "\n",
        "# Utilicemos un número de vecinos = 3 \n",
        "modelo_knn = KNeighborsClassifier(n_neighbors=3)\n",
        "modelo_knn = modelo_knn.fit(X_train, Y_train)\n",
        "\n",
        "y_pred_train = modelo_knn.predict(X_train)\n",
        "y_pred_test = modelo_knn.predict(X_test)\n",
        "print('Exactitud sobre entrenamiento: %.2f' % accuracy_score(Y_train, y_pred_train))\n",
        "print('Exactitud sobre test: %.2f' % accuracy_score(Y_test, y_pred_test))"
      ],
      "metadata": {
        "colab": {
          "base_uri": "https://localhost:8080/"
        },
        "id": "e9q3TKwyrMzZ",
        "outputId": "312fafe4-31e3-4d07-9923-d0d497e21078"
      },
      "execution_count": null,
      "outputs": [
        {
          "output_type": "stream",
          "name": "stdout",
          "text": [
            "Exactitud sobre entrenamiento: 0.85\n",
            "Exactitud sobre test: 0.72\n"
          ]
        }
      ]
    },
    {
      "cell_type": "code",
      "source": [
        "pd.value_counts(Y)"
      ],
      "metadata": {
        "colab": {
          "base_uri": "https://localhost:8080/"
        },
        "id": "AQr0_WlH2Ttv",
        "outputId": "337a2dbe-b8b6-4493-e979-4262451dda88"
      },
      "execution_count": null,
      "outputs": [
        {
          "output_type": "execute_result",
          "data": {
            "text/plain": [
              "0    10726\n",
              "1     3629\n",
              "Name: diabetes_label, dtype: int64"
            ]
          },
          "metadata": {},
          "execution_count": 284
        }
      ]
    },
    {
      "cell_type": "code",
      "execution_count": null,
      "metadata": {
        "id": "-vmhqsIDQc15",
        "outputId": "9284dafb-e31e-46c3-95b9-33236388202e",
        "colab": {
          "base_uri": "https://localhost:8080/"
        }
      },
      "outputs": [
        {
          "output_type": "stream",
          "name": "stdout",
          "text": [
            "              precision    recall  f1-score   support\n",
            "\n",
            "           0       0.79      0.86      0.82      2149\n",
            "           1       0.42      0.31      0.36       722\n",
            "\n",
            "    accuracy                           0.72      2871\n",
            "   macro avg       0.60      0.58      0.59      2871\n",
            "weighted avg       0.69      0.72      0.70      2871\n",
            "\n"
          ]
        }
      ],
      "source": [
        "# Mostrar reporte de clasificación sobre test\n",
        "print(classification_report(Y_test, y_pred_test))"
      ]
    },
    {
      "cell_type": "code",
      "execution_count": null,
      "metadata": {
        "id": "IGFkQIJoQc16",
        "outputId": "e6527144-fdcf-4d21-dffa-c85f831a0140",
        "colab": {
          "base_uri": "https://localhost:8080/"
        }
      },
      "outputs": [
        {
          "output_type": "stream",
          "name": "stdout",
          "text": [
            "              precision    recall  f1-score   support\n",
            "\n",
            "           0       0.87      0.93      0.90      8577\n",
            "           1       0.75      0.59      0.66      2907\n",
            "\n",
            "    accuracy                           0.85     11484\n",
            "   macro avg       0.81      0.76      0.78     11484\n",
            "weighted avg       0.84      0.85      0.84     11484\n",
            "\n"
          ]
        }
      ],
      "source": [
        "# Mostrar reporte de clasificación sobre entrenamiento\n",
        "print(classification_report(Y_train, y_pred_train))"
      ]
    },
    {
      "cell_type": "code",
      "source": [
        "# Se puede visualizar la matriz de confusión\n",
        "plot_confusion_matrix(modelo_knn, X_test, Y_test)  \n",
        "plt.show()"
      ],
      "metadata": {
        "colab": {
          "base_uri": "https://localhost:8080/",
          "height": 334
        },
        "id": "XxTaEShGtUKg",
        "outputId": "bee029b7-9961-4d2f-a6bb-a89811ffbac6"
      },
      "execution_count": null,
      "outputs": [
        {
          "output_type": "stream",
          "name": "stderr",
          "text": [
            "/usr/local/lib/python3.7/dist-packages/sklearn/utils/deprecation.py:87: FutureWarning: Function plot_confusion_matrix is deprecated; Function `plot_confusion_matrix` is deprecated in 1.0 and will be removed in 1.2. Use one of the class methods: ConfusionMatrixDisplay.from_predictions or ConfusionMatrixDisplay.from_estimator.\n",
            "  warnings.warn(msg, category=FutureWarning)\n"
          ]
        },
        {
          "output_type": "display_data",
          "data": {
            "image/png": "[encoded data removed]",
            "text/plain": [
              "<Figure size 432x288 with 2 Axes>"
            ]
          },
          "metadata": {
            "needs_background": "light"
          }
        }
      ]
    },
    {
      "cell_type": "markdown",
      "source": [
        "Aplicaremos SMOTE para balancear los datos"
      ],
      "metadata": {
        "id": "MuKuz7RGJHMD"
      }
    },
    {
      "cell_type": "code",
      "source": [
        "from imblearn.over_sampling import SMOTE \n",
        "\n",
        "sm = SMOTE(random_state=0)\n",
        "\n",
        "X_sm, y_sm = sm.fit_resample(X, Y)\n",
        "\n",
        "print(f'''Shape of X before SMOTE: {X.shape}\n",
        "Shape of X after SMOTE: {X_sm.shape}''')\n",
        "\n",
        "print('\\nBalance of positive and negative classes (%):')\n",
        "y_sm.value_counts(normalize=True) * 100"
      ],
      "metadata": {
        "colab": {
          "base_uri": "https://localhost:8080/"
        },
        "id": "sS1pyAewxrbx",
        "outputId": "ef51d19f-5b88-4fcf-ce9d-86349157b2ff"
      },
      "execution_count": null,
      "outputs": [
        {
          "output_type": "stream",
          "name": "stdout",
          "text": [
            "Shape of X before SMOTE: (14355, 20)\n",
            "Shape of X after SMOTE: (21452, 20)\n",
            "\n",
            "Balance of positive and negative classes (%):\n"
          ]
        },
        {
          "output_type": "execute_result",
          "data": {
            "text/plain": [
              "0    50.0\n",
              "1    50.0\n",
              "Name: diabetes_label, dtype: float64"
            ]
          },
          "metadata": {},
          "execution_count": 288
        }
      ]
    },
    {
      "cell_type": "code",
      "source": [
        "#Podemos ver la cantidad de datos en cada categoría después de SMOTE\n",
        "pd.value_counts(y_sm)"
      ],
      "metadata": {
        "colab": {
          "base_uri": "https://localhost:8080/"
        },
        "id": "OA8Pf0nyy1pq",
        "outputId": "940cff29-cded-48fc-a662-ea56ddb041ad"
      },
      "execution_count": null,
      "outputs": [
        {
          "output_type": "execute_result",
          "data": {
            "text/plain": [
              "0    10726\n",
              "1    10726\n",
              "Name: diabetes_label, dtype: int64"
            ]
          },
          "metadata": {},
          "execution_count": 289
        }
      ]
    },
    {
      "cell_type": "markdown",
      "source": [
        "Después de haber aplicado SMOTE a los datos"
      ],
      "metadata": {
        "id": "VMNR8qHI0pwE"
      }
    },
    {
      "cell_type": "code",
      "source": [
        "# Dividir los datos en entrenamiento y test con SMOTE\n",
        "X_train, X_test, Y_train, Y_test = train_test_split(X_sm, y_sm, test_size=0.2, random_state=0)\n",
        "\n",
        "# Utilicemos un número de vecinos = 3\n",
        "modelo_knn = KNeighborsClassifier(n_neighbors=3)\n",
        "modelo_knn = modelo_knn.fit(X_train, Y_train)\n",
        "\n",
        "y_pred_train = modelo_knn.predict(X_train)\n",
        "y_pred_test = modelo_knn.predict(X_test)\n",
        "print('Exactitud sobre entrenamiento: %.2f' % accuracy_score(Y_train, y_pred_train))\n",
        "print('Exactitud sobre test: %.2f' % accuracy_score(Y_test, y_pred_test))"
      ],
      "metadata": {
        "colab": {
          "base_uri": "https://localhost:8080/"
        },
        "id": "7zcS9HMLMf42",
        "outputId": "e0a6cdb4-20ff-49d7-e8a9-e2fd62e55f91"
      },
      "execution_count": null,
      "outputs": [
        {
          "output_type": "stream",
          "name": "stdout",
          "text": [
            "Exactitud sobre entrenamiento: 0.89\n",
            "Exactitud sobre test: 0.79\n"
          ]
        }
      ]
    },
    {
      "cell_type": "code",
      "source": [
        "# Mostrar reporte de clasificación sobre test SMOTE\n",
        "print(classification_report(Y_test, y_pred_test))"
      ],
      "metadata": {
        "colab": {
          "base_uri": "https://localhost:8080/"
        },
        "id": "jlnYr9wL4vEi",
        "outputId": "bcd87a56-cdde-4aae-9e61-dda487f04248"
      },
      "execution_count": null,
      "outputs": [
        {
          "output_type": "stream",
          "name": "stdout",
          "text": [
            "              precision    recall  f1-score   support\n",
            "\n",
            "           0       0.92      0.64      0.76      2151\n",
            "           1       0.72      0.94      0.82      2140\n",
            "\n",
            "    accuracy                           0.79      4291\n",
            "   macro avg       0.82      0.79      0.79      4291\n",
            "weighted avg       0.82      0.79      0.79      4291\n",
            "\n"
          ]
        }
      ]
    },
    {
      "cell_type": "code",
      "source": [
        "# Mostrar reporte de clasificación sobre entrenamiento SMOTE\n",
        "print(classification_report(Y_train, y_pred_train))"
      ],
      "metadata": {
        "colab": {
          "base_uri": "https://localhost:8080/"
        },
        "id": "449bExX840u4",
        "outputId": "cfec956b-42dc-4c99-af8b-37c12bc3412b"
      },
      "execution_count": null,
      "outputs": [
        {
          "output_type": "stream",
          "name": "stdout",
          "text": [
            "              precision    recall  f1-score   support\n",
            "\n",
            "           0       0.97      0.80      0.88      8575\n",
            "           1       0.83      0.98      0.90      8586\n",
            "\n",
            "    accuracy                           0.89     17161\n",
            "   macro avg       0.90      0.89      0.89     17161\n",
            "weighted avg       0.90      0.89      0.89     17161\n",
            "\n"
          ]
        }
      ]
    },
    {
      "cell_type": "code",
      "source": [
        "# Se puede visualizar la matriz de confusión CON SMOTE\n",
        "plot_confusion_matrix(modelo_knn, X_test, Y_test)  \n",
        "plt.show()\n"
      ],
      "metadata": {
        "colab": {
          "base_uri": "https://localhost:8080/",
          "height": 337
        },
        "id": "RTUk_I1m1Yxt",
        "outputId": "c80a87c6-e98d-4bce-cde8-5e052d5337f9"
      },
      "execution_count": null,
      "outputs": [
        {
          "output_type": "stream",
          "name": "stderr",
          "text": [
            "/usr/local/lib/python3.7/dist-packages/sklearn/utils/deprecation.py:87: FutureWarning: Function plot_confusion_matrix is deprecated; Function `plot_confusion_matrix` is deprecated in 1.0 and will be removed in 1.2. Use one of the class methods: ConfusionMatrixDisplay.from_predictions or ConfusionMatrixDisplay.from_estimator.\n",
            "  warnings.warn(msg, category=FutureWarning)\n"
          ]
        },
        {
          "output_type": "display_data",
          "data": {
            "image/png": "[encoded data removed]",
            "text/plain": [
              "<Figure size 432x288 with 2 Axes>"
            ]
          },
          "metadata": {
            "needs_background": "light"
          }
        }
      ]
    },
    {
      "cell_type": "markdown",
      "metadata": {
        "id": "ov5FHzltQc18"
      },
      "source": [
        "### 4.1. Construcción del modelo con búsqueda de hiperparámetros\n"
      ]
    },
    {
      "cell_type": "code",
      "execution_count": null,
      "metadata": {
        "id": "AMXiJT1RQc18"
      },
      "outputs": [],
      "source": [
        "# Primero definamos el espacio de búsqueda\n",
        "n_vecinos =  list(range(1,11))\n",
        "# Fijemos el número de particiones. Utilizaremos K = 10.\n",
        "particiones = KFold(n_splits=10, shuffle=True, random_state = 0)"
      ]
    },
    {
      "cell_type": "code",
      "execution_count": null,
      "metadata": {
        "id": "zGPm7icuQc18"
      },
      "outputs": [],
      "source": [
        "param_grid = {'n_neighbors': n_vecinos, 'p': [1, 2]} #1 Manhattan, 2 euclidiana"
      ]
    },
    {
      "cell_type": "code",
      "execution_count": null,
      "metadata": {
        "id": "EBzRYXDLQc18",
        "outputId": "6fcfecb0-1cba-4a28-ce6c-b827e3b8aa54",
        "colab": {
          "base_uri": "https://localhost:8080/"
        }
      },
      "outputs": [
        {
          "output_type": "stream",
          "name": "stdout",
          "text": [
            "Mejor parámetro: {'n_neighbors': 2, 'p': 1}\n",
            "Mejor cross-validation score: 0.82\n"
          ]
        }
      ],
      "source": [
        "clasificadorKNN = KNeighborsClassifier()\n",
        "modelo_Knn = GridSearchCV(clasificadorKNN, param_grid, cv=particiones)\n",
        "modelo_Knn.fit(X_train,Y_train) \n",
        "print(\"Mejor parámetro: {}\".format(modelo_Knn.best_params_)) \n",
        "print(\"Mejor cross-validation score: {:.2f}\".format(modelo_Knn.best_score_))"
      ]
    },
    {
      "cell_type": "code",
      "execution_count": null,
      "metadata": {
        "id": "ACFS2jDmQc18",
        "outputId": "6cb046ad-c2bc-4f6f-8d35-7565a576effa",
        "colab": {
          "base_uri": "https://localhost:8080/"
        }
      },
      "outputs": [
        {
          "output_type": "stream",
          "name": "stdout",
          "text": [
            "Exactitud sobre entrenamiento: 0.98\n",
            "Exactitud sobre test: 0.84\n"
          ]
        }
      ],
      "source": [
        "# Obtener el mejor modelo.\n",
        "modelo_final = modelo_Knn.best_estimator_\n",
        "# Probemos ahora este modelo sobre test.\n",
        "y_pred_train = modelo_final.predict(X_train)\n",
        "y_pred_test = modelo_final.predict(X_test)\n",
        "print('Exactitud sobre entrenamiento: %.2f' % accuracy_score(Y_train, y_pred_train))\n",
        "print('Exactitud sobre test: %.2f' % accuracy_score(Y_test, y_pred_test))"
      ]
    },
    {
      "cell_type": "code",
      "execution_count": null,
      "metadata": {
        "id": "NqmAN9c_Qc19",
        "outputId": "7fb58d77-cd9c-459f-e310-54b358650c28",
        "colab": {
          "base_uri": "https://localhost:8080/"
        }
      },
      "outputs": [
        {
          "output_type": "stream",
          "name": "stdout",
          "text": [
            "              precision    recall  f1-score   support\n",
            "\n",
            "           0       0.87      0.79      0.83      2151\n",
            "           1       0.81      0.89      0.85      2140\n",
            "\n",
            "    accuracy                           0.84      4291\n",
            "   macro avg       0.84      0.84      0.84      4291\n",
            "weighted avg       0.84      0.84      0.84      4291\n",
            "\n"
          ]
        }
      ],
      "source": [
        "# Mostrar reporte de clasificación sobre test\n",
        "print(classification_report(Y_test, y_pred_test))"
      ]
    },
    {
      "cell_type": "code",
      "execution_count": null,
      "metadata": {
        "id": "t7fi9T2eQc19",
        "outputId": "0bcb8622-3233-4d21-85b9-456ad6b79ffc",
        "colab": {
          "base_uri": "https://localhost:8080/"
        }
      },
      "outputs": [
        {
          "output_type": "stream",
          "name": "stdout",
          "text": [
            "              precision    recall  f1-score   support\n",
            "\n",
            "           0       0.95      1.00      0.98      8575\n",
            "           1       1.00      0.95      0.98      8586\n",
            "\n",
            "    accuracy                           0.98     17161\n",
            "   macro avg       0.98      0.98      0.98     17161\n",
            "weighted avg       0.98      0.98      0.98     17161\n",
            "\n"
          ]
        }
      ],
      "source": [
        "# Mostrar reporte de clasificación sobre entrenamiento\n",
        "print(classification_report(Y_train, y_pred_train))"
      ]
    },
    {
      "cell_type": "code",
      "source": [
        "# Se puede visualizar la matriz de confusión CON SMOTE con el mejor modelo y parámetros\n",
        "plot_confusion_matrix(modelo_Knn, X_test, Y_test)  \n",
        "plt.show()\n"
      ],
      "metadata": {
        "colab": {
          "base_uri": "https://localhost:8080/",
          "height": 334
        },
        "id": "3AcFFdymPoWO",
        "outputId": "d4d41c50-d6bb-40a0-c49c-d5610f6def4c"
      },
      "execution_count": null,
      "outputs": [
        {
          "output_type": "stream",
          "name": "stderr",
          "text": [
            "/usr/local/lib/python3.7/dist-packages/sklearn/utils/deprecation.py:87: FutureWarning: Function plot_confusion_matrix is deprecated; Function `plot_confusion_matrix` is deprecated in 1.0 and will be removed in 1.2. Use one of the class methods: ConfusionMatrixDisplay.from_predictions or ConfusionMatrixDisplay.from_estimator.\n",
            "  warnings.warn(msg, category=FutureWarning)\n"
          ]
        },
        {
          "output_type": "display_data",
          "data": {
            "image/png": "[encoded data removed]",
            "text/plain": [
              "<Figure size 432x288 with 2 Axes>"
            ]
          },
          "metadata": {
            "needs_background": "light"
          }
        }
      ]
    },
    {
      "cell_type": "markdown",
      "source": [
        "### 5. Constrrucción del modelo con Random Forest"
      ],
      "metadata": {
        "id": "5NBOtb45HZnz"
      }
    },
    {
      "cell_type": "code",
      "source": [
        "# Se selecciona la variable objetivo, en este caso \"diabetes_label\".\n",
        "Y = datos_m['diabetes_label']\n",
        "# Del conjunto de datos se elimina la variable \"diabetes_label\"\n",
        "X = datos_m.drop(['diabetes_label'], axis=1)"
      ],
      "metadata": {
        "id": "fLZX1wRYHijZ"
      },
      "execution_count": null,
      "outputs": []
    },
    {
      "cell_type": "markdown",
      "source": [
        "Para balancear los datos aplicamos la técnica de SMOTE"
      ],
      "metadata": {
        "id": "q47WTDQLHpJh"
      }
    },
    {
      "cell_type": "code",
      "source": [
        "from imblearn.over_sampling import SMOTE \n",
        "\n",
        "sm = SMOTE(random_state=42)\n",
        "\n",
        "X_sm, y_sm = sm.fit_resample(X, Y)\n",
        "\n",
        "print(f'''Shape of X before SMOTE: {X.shape}\n",
        "Shape of X after SMOTE: {X_sm.shape}''')\n",
        "\n",
        "print('\\nBalance of positive and negative classes (%):')\n",
        "y_sm.value_counts(normalize=True) * 100"
      ],
      "metadata": {
        "id": "cyRbSz6RHm_-",
        "outputId": "a5f92aa9-f57e-498a-967f-54721e2b7814",
        "colab": {
          "base_uri": "https://localhost:8080/"
        }
      },
      "execution_count": null,
      "outputs": [
        {
          "output_type": "stream",
          "name": "stdout",
          "text": [
            "Shape of X before SMOTE: (14355, 17)\n",
            "Shape of X after SMOTE: (22294, 17)\n",
            "\n",
            "Balance of positive and negative classes (%):\n"
          ]
        },
        {
          "output_type": "execute_result",
          "data": {
            "text/plain": [
              "0    50.0\n",
              "1    50.0\n",
              "Name: diabetes_label, dtype: float64"
            ]
          },
          "metadata": {},
          "execution_count": 21
        }
      ]
    },
    {
      "cell_type": "code",
      "source": [
        "# Dividir los datos en entrenamiento y test\n",
        "X_train, X_test, Y_train, Y_test = train_test_split(X, Y, test_size=0.2, random_state=0)"
      ],
      "metadata": {
        "id": "iMG9-LpYHtUx"
      },
      "execution_count": null,
      "outputs": []
    },
    {
      "cell_type": "code",
      "source": [
        "from sklearn.ensemble import RandomForestClassifier\n",
        "model = RandomForestClassifier(random_state=0)\n",
        "model.fit(X_train, Y_train)\n",
        "preds = model.predict(X_test)\n",
        "\n",
        "print(f'Accuracy = {accuracy_score(Y_test, preds):.2f}\\nRecall = {recall_score(Y_test, preds):.2f}\\n')\n",
        "cm = confusion_matrix(Y_test, preds)\n",
        "plt.figure(figsize=(8, 6))\n",
        "plt.title('Confusion Matrix (with SMOTE)', size=16)\n",
        "sns.heatmap(cm, annot=True, cmap='Blues');"
      ],
      "metadata": {
        "id": "6Z4VUbj9Hwpc",
        "outputId": "fdf79245-bccc-4bd7-cb6f-ab800e889b8f",
        "colab": {
          "base_uri": "https://localhost:8080/",
          "height": 444
        }
      },
      "execution_count": null,
      "outputs": [
        {
          "output_type": "stream",
          "name": "stdout",
          "text": [
            "Accuracy = 0.78\n",
            "Recall = 0.24\n",
            "\n"
          ]
        },
        {
          "output_type": "display_data",
          "data": {
            "image/png": "[encoded data removed]",
            "text/plain": [
              "<Figure size 576x432 with 2 Axes>"
            ]
          },
          "metadata": {
            "needs_background": "light"
          }
        }
      ]
    },
    {
      "cell_type": "code",
      "source": [
        "# Obtenemos la matríz de confusión\n",
        "confusion_matrix(Y_test, preds)"
      ],
      "metadata": {
        "id": "Lg9ad4imH0DL",
        "outputId": "b2a43966-f66c-4ea4-e113-28c461a68fba",
        "colab": {
          "base_uri": "https://localhost:8080/"
        }
      },
      "execution_count": null,
      "outputs": [
        {
          "output_type": "execute_result",
          "data": {
            "text/plain": [
              "array([[2078,  162],\n",
              "       [ 479,  152]])"
            ]
          },
          "metadata": {},
          "execution_count": 24
        }
      ]
    },
    {
      "cell_type": "code",
      "source": [
        "#Graficamos el historiograma\n",
        "plt.hist([preds, Y_test])"
      ],
      "metadata": {
        "id": "O932IdS8H87V",
        "outputId": "271643ac-611a-42c4-9b0a-cf56166cdf32",
        "colab": {
          "base_uri": "https://localhost:8080/",
          "height": 369
        }
      },
      "execution_count": null,
      "outputs": [
        {
          "output_type": "execute_result",
          "data": {
            "text/plain": [
              "(array([[2557.,    0.,    0.,    0.,    0.,    0.,    0.,    0.,    0.,\n",
              "          314.],\n",
              "        [2240.,    0.,    0.,    0.,    0.,    0.,    0.,    0.,    0.,\n",
              "          631.]]),\n",
              " array([0. , 0.1, 0.2, 0.3, 0.4, 0.5, 0.6, 0.7, 0.8, 0.9, 1. ]),\n",
              " <a list of 2 Lists of Patches objects>)"
            ]
          },
          "metadata": {},
          "execution_count": 25
        },
        {
          "output_type": "display_data",
          "data": {
            "image/png": "[encoded data removed]",
            "text/plain": [
              "<Figure size 432x288 with 1 Axes>"
            ]
          },
          "metadata": {
            "needs_background": "light"
          }
        }
      ]
    },
    {
      "cell_type": "code",
      "source": [
        "# Calculemos también las métricas de rendimiento sobre el conjunto de entrenamiento.\n",
        "print('Exactitud: %.2f' % accuracy_score(Y_test, preds))\n",
        "print(\"Recall: {}\".format(recall_score(Y_test,preds)))\n",
        "print(\"Precisión: {}\".format(precision_score(Y_test,preds)))\n",
        "print(\"Puntuación F1: {}\".format(f1_score(Y_test,preds)))"
      ],
      "metadata": {
        "id": "hIWaKpGBIFso",
        "outputId": "44f21952-988e-485c-fb30-2d0185b48724",
        "colab": {
          "base_uri": "https://localhost:8080/"
        }
      },
      "execution_count": null,
      "outputs": [
        {
          "output_type": "stream",
          "name": "stdout",
          "text": [
            "Exactitud: 0.78\n",
            "Recall: 0.24088748019017434\n",
            "Precisión: 0.4840764331210191\n",
            "Puntuación F1: 0.3216931216931217\n"
          ]
        }
      ]
    },
    {
      "cell_type": "markdown",
      "source": [
        "### Interrpretación del modelo. Aplica para Random Forest"
      ],
      "metadata": {
        "id": "lsKLanLyIXbJ"
      }
    },
    {
      "cell_type": "code",
      "source": [
        "# Obtener la importancia de las variables. Para esto podemos utilizar uno de los atributos del modelo \"feature_importances_\", el\n",
        "# cual nos devuelve un coeficiente o peso para cada atributo: mientras más grande sea este más importante será la variable\n",
        "# asociada.\n",
        "importancia = model.feature_importances_\n",
        "importancia"
      ],
      "metadata": {
        "id": "CeJ1Y5N-Ictm",
        "outputId": "f67a8490-a7a4-4956-a80a-75c09c69652b",
        "colab": {
          "base_uri": "https://localhost:8080/"
        }
      },
      "execution_count": null,
      "outputs": [
        {
          "output_type": "execute_result",
          "data": {
            "text/plain": [
              "array([0.05225787, 0.04037805, 0.18805886, 0.03319484, 0.01854782,\n",
              "       0.03109244, 0.0307381 , 0.03399113, 0.02961056, 0.00940315,\n",
              "       0.01357441, 0.11399943, 0.10806402, 0.03157328, 0.03242199,\n",
              "       0.12754504, 0.10554901])"
            ]
          },
          "metadata": {},
          "execution_count": 28
        }
      ]
    },
    {
      "cell_type": "code",
      "source": [
        "# importancia_atributo = pd.DataFrame(data={\"Atributo\": X_train.columns,\"Importancia\": importancia})\n",
        "importancia_atributo = pd.DataFrame(data={\"Atributo\": X_train.columns,\"Importancia\": importancia})\n",
        "importancia_atributo = importancia_atributo.sort_values(by='Importancia', ascending=False).reset_index(drop=True)\n",
        "importancia_atributo"
      ],
      "metadata": {
        "id": "bqJJREr1IwhR",
        "outputId": "2344aea3-6f9b-41dd-fe14-79251e412122",
        "colab": {
          "base_uri": "https://localhost:8080/",
          "height": 582
        }
      },
      "execution_count": null,
      "outputs": [
        {
          "output_type": "execute_result",
          "data": {
            "text/html": [
              "\n",
              "  <div id=\"df-f828eacb-f09a-453e-bf96-44356f22e5ae\">\n",
              "    <div class=\"colab-df-container\">\n",
              "      <div>\n",
              "<style scoped>\n",
              "    .dataframe tbody tr th:only-of-type {\n",
              "        vertical-align: middle;\n",
              "    }\n",
              "\n",
              "    .dataframe tbody tr th {\n",
              "        vertical-align: top;\n",
              "    }\n",
              "\n",
              "    .dataframe thead th {\n",
              "        text-align: right;\n",
              "    }\n",
              "</style>\n",
              "<table border=\"1\" class=\"dataframe\">\n",
              "  <thead>\n",
              "    <tr style=\"text-align: right;\">\n",
              "      <th></th>\n",
              "      <th>Atributo</th>\n",
              "      <th>Importancia</th>\n",
              "    </tr>\n",
              "  </thead>\n",
              "  <tbody>\n",
              "    <tr>\n",
              "      <th>0</th>\n",
              "      <td>BMI</td>\n",
              "      <td>0.188059</td>\n",
              "    </tr>\n",
              "    <tr>\n",
              "      <th>1</th>\n",
              "      <td>Age</td>\n",
              "      <td>0.127545</td>\n",
              "    </tr>\n",
              "    <tr>\n",
              "      <th>2</th>\n",
              "      <td>MentHlth</td>\n",
              "      <td>0.113999</td>\n",
              "    </tr>\n",
              "    <tr>\n",
              "      <th>3</th>\n",
              "      <td>PhysHlth</td>\n",
              "      <td>0.108064</td>\n",
              "    </tr>\n",
              "    <tr>\n",
              "      <th>4</th>\n",
              "      <td>Income</td>\n",
              "      <td>0.105549</td>\n",
              "    </tr>\n",
              "    <tr>\n",
              "      <th>5</th>\n",
              "      <td>HighBP</td>\n",
              "      <td>0.052258</td>\n",
              "    </tr>\n",
              "    <tr>\n",
              "      <th>6</th>\n",
              "      <td>HighChol</td>\n",
              "      <td>0.040378</td>\n",
              "    </tr>\n",
              "    <tr>\n",
              "      <th>7</th>\n",
              "      <td>Fruits</td>\n",
              "      <td>0.033991</td>\n",
              "    </tr>\n",
              "    <tr>\n",
              "      <th>8</th>\n",
              "      <td>Smoker</td>\n",
              "      <td>0.033195</td>\n",
              "    </tr>\n",
              "    <tr>\n",
              "      <th>9</th>\n",
              "      <td>Sex</td>\n",
              "      <td>0.032422</td>\n",
              "    </tr>\n",
              "    <tr>\n",
              "      <th>10</th>\n",
              "      <td>DiffWalk</td>\n",
              "      <td>0.031573</td>\n",
              "    </tr>\n",
              "    <tr>\n",
              "      <th>11</th>\n",
              "      <td>HeartDiseaseorAttack</td>\n",
              "      <td>0.031092</td>\n",
              "    </tr>\n",
              "    <tr>\n",
              "      <th>12</th>\n",
              "      <td>PhysActivity</td>\n",
              "      <td>0.030738</td>\n",
              "    </tr>\n",
              "    <tr>\n",
              "      <th>13</th>\n",
              "      <td>Veggies</td>\n",
              "      <td>0.029611</td>\n",
              "    </tr>\n",
              "    <tr>\n",
              "      <th>14</th>\n",
              "      <td>Stroke</td>\n",
              "      <td>0.018548</td>\n",
              "    </tr>\n",
              "    <tr>\n",
              "      <th>15</th>\n",
              "      <td>AnyHealthcare</td>\n",
              "      <td>0.013574</td>\n",
              "    </tr>\n",
              "    <tr>\n",
              "      <th>16</th>\n",
              "      <td>HvyAlcoholConsump</td>\n",
              "      <td>0.009403</td>\n",
              "    </tr>\n",
              "  </tbody>\n",
              "</table>\n",
              "</div>\n",
              "      <button class=\"colab-df-convert\" onclick=\"convertToInteractive('df-f828eacb-f09a-453e-bf96-44356f22e5ae')\"\n",
              "              title=\"Convert this dataframe to an interactive table.\"\n",
              "              style=\"display:none;\">\n",
              "        \n",
              "  <svg xmlns=\"http://www.w3.org/2000/svg\" height=\"24px\"viewBox=\"0 0 24 24\"\n",
              "       width=\"24px\">\n",
              "    <path d=\"M0 0h24v24H0V0z\" fill=\"none\"/>\n",
              "    <path d=\"M18.56 5.44l.94 2.06.94-2.06 2.06-.94-2.06-.94-.94-2.06-.94 2.06-2.06.94zm-11 1L8.5 8.5l.94-2.06 2.06-.94-2.06-.94L8.5 2.5l-.94 2.06-2.06.94zm10 10l.94 2.06.94-2.06 2.06-.94-2.06-.94-.94-2.06-.94 2.06-2.06.94z\"/><path d=\"M17.41 7.96l-1.37-1.37c-.4-.4-.92-.59-1.43-.59-.52 0-1.04.2-1.43.59L10.3 9.45l-7.72 7.72c-.78.78-.78 2.05 0 2.83L4 21.41c.39.39.9.59 1.41.59.51 0 1.02-.2 1.41-.59l7.78-7.78 2.81-2.81c.8-.78.8-2.07 0-2.86zM5.41 20L4 18.59l7.72-7.72 1.47 1.35L5.41 20z\"/>\n",
              "  </svg>\n",
              "      </button>\n",
              "      \n",
              "  <style>\n",
              "    .colab-df-container {\n",
              "      display:flex;\n",
              "      flex-wrap:wrap;\n",
              "      gap: 12px;\n",
              "    }\n",
              "\n",
              "    .colab-df-convert {\n",
              "      background-color: #E8F0FE;\n",
              "      border: none;\n",
              "      border-radius: 50%;\n",
              "      cursor: pointer;\n",
              "      display: none;\n",
              "      fill: #1967D2;\n",
              "      height: 32px;\n",
              "      padding: 0 0 0 0;\n",
              "      width: 32px;\n",
              "    }\n",
              "\n",
              "    .colab-df-convert:hover {\n",
              "      background-color: #E2EBFA;\n",
              "      box-shadow: 0px 1px 2px rgba(60, 64, 67, 0.3), 0px 1px 3px 1px rgba(60, 64, 67, 0.15);\n",
              "      fill: #174EA6;\n",
              "    }\n",
              "\n",
              "    [theme=dark] .colab-df-convert {\n",
              "      background-color: #3B4455;\n",
              "      fill: #D2E3FC;\n",
              "    }\n",
              "\n",
              "    [theme=dark] .colab-df-convert:hover {\n",
              "      background-color: #434B5C;\n",
              "      box-shadow: 0px 1px 3px 1px rgba(0, 0, 0, 0.15);\n",
              "      filter: drop-shadow(0px 1px 2px rgba(0, 0, 0, 0.3));\n",
              "      fill: #FFFFFF;\n",
              "    }\n",
              "  </style>\n",
              "\n",
              "      <script>\n",
              "        const buttonEl =\n",
              "          document.querySelector('#df-f828eacb-f09a-453e-bf96-44356f22e5ae button.colab-df-convert');\n",
              "        buttonEl.style.display =\n",
              "          google.colab.kernel.accessAllowed ? 'block' : 'none';\n",
              "\n",
              "        async function convertToInteractive(key) {\n",
              "          const element = document.querySelector('#df-f828eacb-f09a-453e-bf96-44356f22e5ae');\n",
              "          const dataTable =\n",
              "            await google.colab.kernel.invokeFunction('convertToInteractive',\n",
              "                                                     [key], {});\n",
              "          if (!dataTable) return;\n",
              "\n",
              "          const docLinkHtml = 'Like what you see? Visit the ' +\n",
              "            '<a target=\"_blank\" href=https://colab.research.google.com/notebooks/data_table.ipynb>data table notebook</a>'\n",
              "            + ' to learn more about interactive tables.';\n",
              "          element.innerHTML = '';\n",
              "          dataTable['output_type'] = 'display_data';\n",
              "          await google.colab.output.renderOutput(dataTable, element);\n",
              "          const docLink = document.createElement('div');\n",
              "          docLink.innerHTML = docLinkHtml;\n",
              "          element.appendChild(docLink);\n",
              "        }\n",
              "      </script>\n",
              "    </div>\n",
              "  </div>\n",
              "  "
            ],
            "text/plain": [
              "                Atributo  Importancia\n",
              "0                    BMI     0.188059\n",
              "1                    Age     0.127545\n",
              "2               MentHlth     0.113999\n",
              "3               PhysHlth     0.108064\n",
              "4                 Income     0.105549\n",
              "5                 HighBP     0.052258\n",
              "6               HighChol     0.040378\n",
              "7                 Fruits     0.033991\n",
              "8                 Smoker     0.033195\n",
              "9                    Sex     0.032422\n",
              "10              DiffWalk     0.031573\n",
              "11  HeartDiseaseorAttack     0.031092\n",
              "12          PhysActivity     0.030738\n",
              "13               Veggies     0.029611\n",
              "14                Stroke     0.018548\n",
              "15         AnyHealthcare     0.013574\n",
              "16     HvyAlcoholConsump     0.009403"
            ]
          },
          "metadata": {},
          "execution_count": 29
        }
      ]
    },
    {
      "cell_type": "code",
      "source": [
        "# Además, podemos visualizar el árbol relacionado con RRandom Forest.\n",
        "fig = plt.figure(figsize=(25,10))\n",
        "_ = tree.plot_tree(model, max_depth=3, feature_names=X.columns, class_names=[\"0\", \"1\"], filled=True, fontsize=9)"
      ],
      "metadata": {
        "id": "KAgpsDi6Iy_N",
        "outputId": "4677acce-5541-4bd9-e1e5-511bd79d0458",
        "colab": {
          "base_uri": "https://localhost:8080/",
          "height": 34
        }
      },
      "execution_count": null,
      "outputs": [
        {
          "output_type": "display_data",
          "data": {
            "text/plain": [
              "<Figure size 1800x720 with 0 Axes>"
            ]
          },
          "metadata": {}
        }
      ]
    },
    {
      "cell_type": "markdown",
      "source": [],
      "metadata": {
        "id": "BJ82l8BeIXWe"
      }
    }
  ],
  "metadata": {
    "kernelspec": {
      "display_name": "Python 3",
      "language": "python",
      "name": "python3"
    },
    "language_info": {
      "codemirror_mode": {
        "name": "ipython",
        "version": 3
      },
      "file_extension": ".py",
      "mimetype": "text/x-python",
      "name": "python",
      "nbconvert_exporter": "python",
      "pygments_lexer": "ipython3",
      "version": "3.8.3"
    },
    "colab": {
      "provenance": [],
      "collapsed_sections": []
    }
  },
  "nbformat": 4,
  "nbformat_minor": 0
}